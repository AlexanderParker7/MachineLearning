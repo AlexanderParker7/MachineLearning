{
 "cells": [
  {
   "cell_type": "markdown",
   "metadata": {
    "toc": true
   },
   "source": [
    "<h1>Table of Contents<span class=\"tocSkip\"></span></h1>\n",
    "<div class=\"toc\"><ul class=\"toc-item\"><li><span><a href=\"#Basic-Mathematical-Computations\" data-toc-modified-id=\"Basic-Mathematical-Computations-3\"><span class=\"toc-item-num\">3&nbsp;&nbsp;</span>Basic Mathematical Computations</a></span><ul class=\"toc-item\"><li><span><a href=\"#Linear-algebra\" data-toc-modified-id=\"Linear-algebra-3.1\"><span class=\"toc-item-num\">3.1&nbsp;&nbsp;</span>Linear algebra</a></span><ul class=\"toc-item\"><li><span><a href=\"#Scalar-numbers\" data-toc-modified-id=\"Scalar-numbers-3.1.1\"><span class=\"toc-item-num\">3.1.1&nbsp;&nbsp;</span>Scalar numbers</a></span></li><li><span><a href=\"#Vectors\" data-toc-modified-id=\"Vectors-3.1.2\"><span class=\"toc-item-num\">3.1.2&nbsp;&nbsp;</span>Vectors</a></span></li><li><span><a href=\"#Matrices\" data-toc-modified-id=\"Matrices-3.1.3\"><span class=\"toc-item-num\">3.1.3&nbsp;&nbsp;</span>Matrices</a></span></li><li><span><a href=\"#Tensors\" data-toc-modified-id=\"Tensors-3.1.4\"><span class=\"toc-item-num\">3.1.4&nbsp;&nbsp;</span>Tensors</a></span></li><li><span><a href=\"#Sum-and-mean-of-a-tensor\" data-toc-modified-id=\"Sum-and-mean-of-a-tensor-3.1.5\"><span class=\"toc-item-num\">3.1.5&nbsp;&nbsp;</span>Sum and mean of a tensor</a></span></li><li><span><a href=\"#Dot-product-of-two-vectors\" data-toc-modified-id=\"Dot-product-of-two-vectors-3.1.6\"><span class=\"toc-item-num\">3.1.6&nbsp;&nbsp;</span>Dot-product of two vectors</a></span></li><li><span><a href=\"#Outer-product-of-two-vectors\" data-toc-modified-id=\"Outer-product-of-two-vectors-3.1.7\"><span class=\"toc-item-num\">3.1.7&nbsp;&nbsp;</span>Outer product of two vectors</a></span></li><li><span><a href=\"#Matrix-vector-product\" data-toc-modified-id=\"Matrix-vector-product-3.1.8\"><span class=\"toc-item-num\">3.1.8&nbsp;&nbsp;</span>Matrix-vector product</a></span></li><li><span><a href=\"#Matrix-matrix-product\" data-toc-modified-id=\"Matrix-matrix-product-3.1.9\"><span class=\"toc-item-num\">3.1.9&nbsp;&nbsp;</span>Matrix-matrix product</a></span></li><li><span><a href=\"#Norms\" data-toc-modified-id=\"Norms-3.1.10\"><span class=\"toc-item-num\">3.1.10&nbsp;&nbsp;</span>Norms</a></span></li><li><span><a href=\"#Solving-algebraic-system-equations\" data-toc-modified-id=\"Solving-algebraic-system-equations-3.1.11\"><span class=\"toc-item-num\">3.1.11&nbsp;&nbsp;</span>Solving algebraic system equations</a></span></li><li><span><a href=\"#Matrix-inversion\" data-toc-modified-id=\"Matrix-inversion-3.1.12\"><span class=\"toc-item-num\">3.1.12&nbsp;&nbsp;</span>Matrix inversion</a></span></li><li><span><a href=\"#Eigenvalue-decomposition-of-a-matrix\" data-toc-modified-id=\"Eigenvalue-decomposition-of-a-matrix-3.1.13\"><span class=\"toc-item-num\">3.1.13&nbsp;&nbsp;</span>Eigenvalue decomposition of a matrix</a></span></li><li><span><a href=\"#Condition-number-of-a-matrix\" data-toc-modified-id=\"Condition-number-of-a-matrix-3.1.14\"><span class=\"toc-item-num\">3.1.14&nbsp;&nbsp;</span>Condition number of a matrix</a></span></li><li><span><a href=\"#Rank-of-a-matrix\" data-toc-modified-id=\"Rank-of-a-matrix-3.1.15\"><span class=\"toc-item-num\">3.1.15&nbsp;&nbsp;</span>Rank of a matrix</a></span></li></ul></li><li><span><a href=\"#Rotation-matrix\" data-toc-modified-id=\"Rotation-matrix-3.2\"><span class=\"toc-item-num\">3.2&nbsp;&nbsp;</span>Rotation matrix</a></span></li><li><span><a href=\"#Interpolation\" data-toc-modified-id=\"Interpolation-3.3\"><span class=\"toc-item-num\">3.3&nbsp;&nbsp;</span>Interpolation</a></span><ul class=\"toc-item\"><li><span><a href=\"#1-D-piecewise-linear-interpolation-using-numpy.interp\" data-toc-modified-id=\"1-D-piecewise-linear-interpolation-using-numpy.interp-3.3.1\"><span class=\"toc-item-num\">3.3.1&nbsp;&nbsp;</span>1-D piecewise linear interpolation using numpy.interp</a></span></li><li><span><a href=\"#1-D-least-squares-solution-approximation\" data-toc-modified-id=\"1-D-least-squares-solution-approximation-3.3.2\"><span class=\"toc-item-num\">3.3.2&nbsp;&nbsp;</span>1-D least-squares solution approximation</a></span></li><li><span><a href=\"#1-D-interpolation-using-interp1d\" data-toc-modified-id=\"1-D-interpolation-using-interp1d-3.3.3\"><span class=\"toc-item-num\">3.3.3&nbsp;&nbsp;</span>1-D interpolation using interp1d</a></span></li><li><span><a href=\"#Two-dimensional-spline-representation-using-bisplrep\" data-toc-modified-id=\"Two-dimensional-spline-representation-using-bisplrep-3.3.4\"><span class=\"toc-item-num\">3.3.4&nbsp;&nbsp;</span>Two-dimensional spline representation using bisplrep</a></span></li><li><span><a href=\"#Radial-basis-functions-for-smoothing-and-interpolation\" data-toc-modified-id=\"Radial-basis-functions-for-smoothing-and-interpolation-3.3.5\"><span class=\"toc-item-num\">3.3.5&nbsp;&nbsp;</span>Radial basis functions for smoothing and interpolation</a></span></li></ul></li><li><span><a href=\"#Singular-value-decomposition-(SVD)\" data-toc-modified-id=\"Singular-value-decomposition-(SVD)-3.4\"><span class=\"toc-item-num\">3.4&nbsp;&nbsp;</span>Singular value decomposition (SVD)</a></span><ul class=\"toc-item\"><li><span><a href=\"#SVD-formulation\" data-toc-modified-id=\"SVD-formulation-3.4.1\"><span class=\"toc-item-num\">3.4.1&nbsp;&nbsp;</span>SVD formulation</a></span></li><li><span><a href=\"#Algorithms-for-SVD\" data-toc-modified-id=\"Algorithms-for-SVD-3.4.2\"><span class=\"toc-item-num\">3.4.2&nbsp;&nbsp;</span>Algorithms for SVD</a></span></li><li><span><a href=\"#Numerical-examples\" data-toc-modified-id=\"Numerical-examples-3.4.3\"><span class=\"toc-item-num\">3.4.3&nbsp;&nbsp;</span>Numerical examples</a></span></li><li><span><a href=\"#SVD-for-data-compression\" data-toc-modified-id=\"SVD-for-data-compression-3.4.4\"><span class=\"toc-item-num\">3.4.4&nbsp;&nbsp;</span>SVD for data compression</a></span></li></ul></li><li><span><a href=\"#Principal-component-analysis-(PCA)\" data-toc-modified-id=\"Principal-component-analysis-(PCA)-3.5\"><span class=\"toc-item-num\">3.5&nbsp;&nbsp;</span>Principal component analysis (PCA)</a></span><ul class=\"toc-item\"><li><span><a href=\"#PCA-formulation\" data-toc-modified-id=\"PCA-formulation-3.5.1\"><span class=\"toc-item-num\">3.5.1&nbsp;&nbsp;</span>PCA formulation</a></span></li><li><span><a href=\"#Numerical-examples\" data-toc-modified-id=\"Numerical-examples-3.5.2\"><span class=\"toc-item-num\">3.5.2&nbsp;&nbsp;</span>Numerical examples</a></span><ul class=\"toc-item\"><li><span><a href=\"#Example-1:-PCA-using-a-three-line-code\" data-toc-modified-id=\"Example-1:-PCA-using-a-three-line-code-3.5.2.1\"><span class=\"toc-item-num\">3.5.2.1&nbsp;&nbsp;</span>Example 1: PCA using a three-line code</a></span></li></ul></li><li><span><a href=\"#Example-2:--Truncated-PCA\" data-toc-modified-id=\"Example-2:--Truncated-PCA-3.5.3\"><span class=\"toc-item-num\">3.5.3&nbsp;&nbsp;</span>Example 2:  Truncated PCA</a></span></li></ul></li><li><span><a href=\"#Numerical-roots-finding\" data-toc-modified-id=\"Numerical-roots-finding-3.6\"><span class=\"toc-item-num\">3.6&nbsp;&nbsp;</span>Numerical roots finding</a></span></li><li><span><a href=\"#Numerical-Integration\" data-toc-modified-id=\"Numerical-Integration-3.7\"><span class=\"toc-item-num\">3.7&nbsp;&nbsp;</span>Numerical Integration</a></span><ul class=\"toc-item\"><li><span><a href=\"#Trapezoid-Rule\" data-toc-modified-id=\"Trapezoid-Rule-3.7.1\"><span class=\"toc-item-num\">3.7.1&nbsp;&nbsp;</span>Trapezoid Rule</a></span></li><li><span><a href=\"#Gauss-Integration\" data-toc-modified-id=\"Gauss-Integration-3.7.2\"><span class=\"toc-item-num\">3.7.2&nbsp;&nbsp;</span>Gauss Integration</a></span></li></ul></li><li><span><a href=\"#Initial-data-treatment\" data-toc-modified-id=\"Initial-data-treatment-3.8\"><span class=\"toc-item-num\">3.8&nbsp;&nbsp;</span>Initial data treatment</a></span><ul class=\"toc-item\"><li><span><a href=\"#Min-max-scaling\" data-toc-modified-id=\"Min-max-scaling-3.8.1\"><span class=\"toc-item-num\">3.8.1&nbsp;&nbsp;</span>Min-max scaling</a></span></li><li><span><a href=\"#&quot;One-hot&quot;-encoding\" data-toc-modified-id=\"&quot;One-hot&quot;-encoding-3.8.2\"><span class=\"toc-item-num\">3.8.2&nbsp;&nbsp;</span>\"One-hot\" encoding</a></span></li><li><span><a href=\"#Standard-scaling\" data-toc-modified-id=\"Standard-scaling-3.8.3\"><span class=\"toc-item-num\">3.8.3&nbsp;&nbsp;</span>Standard scaling</a></span></li></ul></li></ul></li></ul></div>"
   ]
  },
  {
   "cell_type": "markdown",
   "metadata": {},
   "source": [
    "## Basic Mathematical Computations"
   ]
  },
  {
   "cell_type": "markdown",
   "metadata": {},
   "source": [
    "This chapter discusses typical scientific computations using codes in Python. We will focus on how numerical data is represented mathematically, how it is structured or organized, stored, manipulated, operated upon, or computed in effective manners. Subtleties in those operations in Python will be examined. At the end of this chapter techniques for initial treatment of datasets will also be discussed. The reference materials used in this chapter includes NumPy documentation, Scipy documentation, https://gluon.mxnet.io/ and https://jupyter.org/.  Our discussion shall start with some basic linear algebra operations.  "
   ]
  },
  {
   "cell_type": "markdown",
   "metadata": {},
   "source": [
    "### Linear algebra"
   ]
  },
  {
   "cell_type": "markdown",
   "metadata": {},
   "source": [
    "Linear algebra is most essential for any computations that involves big data, such as in machine learning. We plan to briefly review the basic linear algebraic operations, thorough the use of Python programming, using modules that have already developed in the Python community at large. We shall go through the basic concepts, the mathematical notation, data structure, and the computation procedure. Readers feel free to skim or skip this chapter if you are already confident in the basic linear algebra computations. Our discussion will start from the data structure. First, we import necessary modules and functions. "
   ]
  },
  {
   "cell_type": "code",
   "metadata": {
    "ExecuteTime": {
     "end_time": "2025-01-21T20:59:18.281062Z",
     "start_time": "2025-01-21T20:59:18.265630Z"
    }
   },
   "source": [
    "# Import necessary dependences. \n",
    "import sys\n",
    "import os\n",
    "import numpy as np\n",
    "sys.path.append(os.path.abspath(\"../ImportsScripts\"))\n",
    "from ImportsScripts import commonImports                      # import dependences\n",
    "from ImportsScripts import grcodes as gr                              # import own modules\n",
    "#importlib.reload(gr)                       # when grcodes is modified\n",
    "#from grcodes import drawArrow, plotfig              # frequently used\n",
    "#np.set_printoptions(precision=8)#,suppress=True) # control print outs\n",
    "#np.random.seed(8)                           # for reproducible random"
   ],
   "outputs": [],
   "execution_count": 256
  },
  {
   "cell_type": "markdown",
   "metadata": {},
   "source": [
    "We will also use the MXNet package. If not done yet, we shall have MXNet installed using: pip install mxnet.\n",
    "\n",
    "After the installation, we import the MXNet. "
   ]
  },
  {
   "cell_type": "code",
   "metadata": {
    "ExecuteTime": {
     "end_time": "2025-01-21T20:59:18.295564Z",
     "start_time": "2025-01-21T20:59:18.286202Z"
    }
   },
   "source": "from mxnet import nd        # Import NDArray and give it an alias nd",
   "outputs": [],
   "execution_count": 257
  },
  {
   "cell_type": "markdown",
   "metadata": {},
   "source": [
    "#### Scalar numbers"
   ]
  },
  {
   "cell_type": "markdown",
   "metadata": {},
   "source": [
    "As discussed in Chapter 2, scalar numerical numbers for mathematical computations have three major types: integer, real number, and complex number. In Python such a numerical number is assigned with a unique name and a given address. It is access by calling its name, can be updated, used as an argument of a properly defined function (built-in, defined in a code or in an imported module). In Python programming, all these operations on a number are straight forward. The most often encountered problem in computation is that the number may get out of the bound of the digits of the computer (over- or under-flow), and may become illegal as an argument for a function.  Also, we assume that the numbers generated in Python can cover the entire real space with the machine accuracy of limit. "
   ]
  },
  {
   "cell_type": "markdown",
   "metadata": {},
   "source": [
    "#### Vectors"
   ]
  },
  {
   "cell_type": "markdown",
   "metadata": {},
   "source": [
    "A vector refers to an object that has more than one component  stacked along one dimension. It can given a physical meaning depending on the type of physic problem. For example, a force vector in three-dimensional (3D) space has three components, each representing the projection of the force vector onto one of the three axes of the space. It is also known as the degrees of freedom (DoF). Higher dimensions are encountered in discretized numerical models, such as the finite element method or FEM (e.g., \\cite{liu2013finite}). In the FEM, the solid structure is discretized in space with elements and nodes. The DoFs of such a discretized model depends on the number of nodes, which can be a very large often in the order of millions. Therefore, we form vectors with millions of components or entries. In machine learning models, the features and labels can be written in vector form. \n",
    " \n",
    "In this chapter, we will not discuss much about physical problems. Instead, we discus general aspects of a vector in abstract, and issues on computational operations that we may perform to the vector, for a given coordinate system. The DoF for a vector is also referred as the length. A vector of length $p$ has a shape denoted in Python as ($p$, ). "
   ]
  },
  {
   "cell_type": "code",
   "metadata": {
    "ExecuteTime": {
     "end_time": "2025-01-21T20:59:18.342666Z",
     "start_time": "2025-01-21T20:59:18.327582Z"
    }
   },
   "source": [
    "from ImportsScripts.grcodes import printx\n",
    "\n",
    "p = 15                         # Length of the vector\n",
    "x = nd.arange(p)               # Create a vector that is an nd-array \n",
    "                               # using nd.arange() function\n",
    "gr.printx('x')                 # x is now a vector with n components\n",
    "printx('x')                    # Use the printx function directly\n",
    "print(x.shape)"
   ],
   "outputs": [
    {
     "name": "stdout",
     "output_type": "stream",
     "text": [
      "x = \n",
      "[ 0.00  1.00  2.00  3.00  4.00  5.00  6.00  7.00  8.00  9.00  10.00  11.00\n",
      "  12.00  13.00  14.00]\n",
      "<NDArray 15 @cpu(0)>\n",
      "x = \n",
      "[ 0.00  1.00  2.00  3.00  4.00  5.00  6.00  7.00  8.00  9.00  10.00  11.00\n",
      "  12.00  13.00  14.00]\n",
      "<NDArray 15 @cpu(0)>\n",
      "(15,)\n"
     ]
    }
   ],
   "execution_count": 258
  },
  {
   "cell_type": "markdown",
   "metadata": {},
   "source": [
    "Note that in mathematics the notation of vector is often presented as a column vector. In Python, is shows as a raw vector. "
   ]
  },
  {
   "cell_type": "code",
   "metadata": {
    "ExecuteTime": {
     "end_time": "2025-01-21T20:59:18.405750Z",
     "start_time": "2025-01-21T20:59:18.389683Z"
    }
   },
   "source": [
    "print(x.T)                                     # Transpose of x\n",
    "y = x.T\n",
    "print(y.shape)"
   ],
   "outputs": [
    {
     "name": "stdout",
     "output_type": "stream",
     "text": [
      "\n",
      "[ 0.00  1.00  2.00  3.00  4.00  5.00  6.00  7.00  8.00  9.00  10.00  11.00\n",
      "  12.00  13.00  14.00]\n",
      "<NDArray 15 @cpu(0)>\n",
      "(15,)\n"
     ]
    }
   ],
   "execution_count": 259
  },
  {
   "cell_type": "markdown",
   "metadata": {},
   "source": [
    "Notice that in mathematics, the transpose of a (column) vector shall become a raw vector, and vice versa. In MXNet NDArray, it is stored in the same place but marked as transpose, so that operations, such as multiplication, can be performed properly. This saves operations for physically copying and moving the data, improving efficiency. To confirm this, we just print out the addresses, as follows. "
   ]
  },
  {
   "cell_type": "code",
   "metadata": {
    "ExecuteTime": {
     "end_time": "2025-01-21T20:59:18.484304Z",
     "start_time": "2025-01-21T20:59:18.475800Z"
    }
   },
   "source": [
    "print(id(x))\n",
    "print(id(y))                                  # Transpose of x"
   ],
   "outputs": [
    {
     "name": "stdout",
     "output_type": "stream",
     "text": [
      "2647851293384\n",
      "2647851293384\n"
     ]
    }
   ],
   "execution_count": 260
  },
  {
   "cell_type": "markdown",
   "metadata": {},
   "source": [
    "It is clear that in NDArray, a vector is a vector. One does not distinguish whether it is a column or row vector. Its transport is just a marker on it and only one set of data is stored. This is an example that MXNet pays special attention in not to move the data in memory unnecessarily. We do not seem to observe this behavior in numpy-arrays, as shown below. "
   ]
  },
  {
   "cell_type": "code",
   "metadata": {
    "ExecuteTime": {
     "end_time": "2025-01-21T20:59:18.562116Z",
     "start_time": "2025-01-21T20:59:18.555452Z"
    }
   },
   "source": [
    "xnp = np.arange(15)                # an NumPy array is generated\n",
    "print(id(xnp), xnp.shape)\n",
    "ynp = xnp.T\n",
    "print(id(ynp),ynp.shape)           # address is changed"
   ],
   "outputs": [
    {
     "name": "stdout",
     "output_type": "stream",
     "text": [
      "2647850208672 (15,)\n",
      "2647850208352 (15,)\n"
     ]
    }
   ],
   "execution_count": 261
  },
  {
   "cell_type": "markdown",
   "metadata": {},
   "source": [
    "The shape of the numpy array is unchanged (still structured as row-vector or vector), but its transpose is given a separated address.  \n",
    "\n",
    "Note that the conventional column vector can still be used, but it is treated as a special case of 2D array with only one column. "
   ]
  },
  {
   "cell_type": "markdown",
   "metadata": {},
   "source": [
    "#### Matrices "
   ]
  },
  {
   "cell_type": "markdown",
   "metadata": {},
   "source": [
    "A matrix refers to a mathematic object that has more than one dimensions of data structure, in which each dimension has more than one component. In numpy, it has a structure of 2D array with 2 axises. It can be viewed as stacks of vectors of some length. It can have a physical meaning depends on the type of physic problem. For example, the stiffness (and mass) matrix created based on a discretized numerical model for a solid structure, such as the FEM has a two-dimensional structure. In each of the dimensions, the number of components is the same as that of the DoFs. The whole matrix is a kind of spatially distributed \"stiffness\" of the structure \\cite{liu2013finite}. In machine learning models, the input data points in the feature space, and the learning parameters in the hypothesis space may be written in a matrix form.  \n",
    "\n",
    "Again, we will not discuss much about the physical problem here. Instead, we discus general aspects of a matrix in abstract, and issues on computational operations that we may perform to the matrix. Such an abstract matrix can be presented in arrays of multi-dimensions known as shape in Python defined in Chapter 2. "
   ]
  },
  {
   "cell_type": "code",
   "metadata": {
    "ExecuteTime": {
     "end_time": "2025-01-21T20:59:18.640658Z",
     "start_time": "2025-01-21T20:59:18.623655Z"
    }
   },
   "source": [
    "A=x.reshape((3,5)) # Create a matrix (2D array) by reshaping 1D array \n",
    "print(\"A=\", A, \"\\n  A.T=\", A.T)                      "
   ],
   "outputs": [
    {
     "name": "stdout",
     "output_type": "stream",
     "text": [
      "A= \n",
      "[[ 0.00  1.00  2.00  3.00  4.00]\n",
      " [ 5.00  6.00  7.00  8.00  9.00]\n",
      " [ 10.00  11.00  12.00  13.00  14.00]]\n",
      "<NDArray 3x5 @cpu(0)> \n",
      "  A.T= \n",
      "[[ 0.00  5.00  10.00]\n",
      " [ 1.00  6.00  11.00]\n",
      " [ 2.00  7.00  12.00]\n",
      " [ 3.00  8.00  13.00]\n",
      " [ 4.00  9.00  14.00]]\n",
      "<NDArray 5x3 @cpu(0)>\n"
     ]
    }
   ],
   "execution_count": 262
  },
  {
   "cell_type": "code",
   "metadata": {
    "ExecuteTime": {
     "end_time": "2025-01-21T20:59:18.735292Z",
     "start_time": "2025-01-21T20:59:18.722289Z"
    }
   },
   "source": [
    "print(A.shape, A.T.shape)"
   ],
   "outputs": [
    {
     "name": "stdout",
     "output_type": "stream",
     "text": [
      "(3, 5) (5, 3)\n"
     ]
    }
   ],
   "execution_count": 263
  },
  {
   "cell_type": "markdown",
   "metadata": {},
   "source": [
    "The shape or the dimension of the matrix A is 3 by 5, and that of its transpose becomes (5,3).  "
   ]
  },
  {
   "cell_type": "markdown",
   "metadata": {},
   "source": [
    "As discussed in Chapter 2 in detail, each of the components (or entries) in the vector or matrix can be accessed by indexing or slicing. "
   ]
  },
  {
   "cell_type": "code",
   "metadata": {
    "ExecuteTime": {
     "end_time": "2025-01-21T20:59:18.830006Z",
     "start_time": "2025-01-21T20:59:18.816003Z"
    }
   },
   "source": [
    "print(A)\n",
    "print(f\"A[1, 2] = {A[1, 2]}\")         # via index\n",
    "print(f\"row 2: {A[2, :]}\")            # slice the 3rd row (count from 0)\n",
    "print(f\"column 1: {A[:, 1]}\")         # slice the 2nd column"
   ],
   "outputs": [
    {
     "name": "stdout",
     "output_type": "stream",
     "text": [
      "\n",
      "[[ 0.00  1.00  2.00  3.00  4.00]\n",
      " [ 5.00  6.00  7.00  8.00  9.00]\n",
      " [ 10.00  11.00  12.00  13.00  14.00]]\n",
      "<NDArray 3x5 @cpu(0)>\n",
      "A[1, 2] = \n",
      "[ 7.00]\n",
      "<NDArray 1 @cpu(0)>\n",
      "row 2: \n",
      "[ 10.00  11.00  12.00  13.00  14.00]\n",
      "<NDArray 5 @cpu(0)>\n",
      "column 1: \n",
      "[ 1.00  6.00  11.00]\n",
      "<NDArray 3 @cpu(0)>\n"
     ]
    }
   ],
   "execution_count": 264
  },
  {
   "cell_type": "markdown",
   "metadata": {},
   "source": [
    "The matrix can also be transposed."
   ]
  },
  {
   "cell_type": "code",
   "metadata": {
    "ExecuteTime": {
     "end_time": "2025-01-21T20:59:18.893085Z",
     "start_time": "2025-01-21T20:59:18.888083Z"
    }
   },
   "source": [
    "A.T                                  # A transpose, shape becomes 5x3\n",
    "print(id(A), id(A.T))"
   ],
   "outputs": [
    {
     "name": "stdout",
     "output_type": "stream",
     "text": [
      "2647849964040 2647850396640\n"
     ]
    }
   ],
   "execution_count": 265
  },
  {
   "cell_type": "markdown",
   "metadata": {},
   "source": [
    "It is found that the transposed matrix has its own address also in MXNet. "
   ]
  },
  {
   "cell_type": "markdown",
   "metadata": {},
   "source": [
    "#### Tensors"
   ]
  },
  {
   "cell_type": "markdown",
   "metadata": {},
   "source": [
    "The term of \"Tensor\" requires some clarification. In mathematics or physics, tensor has a specific well-defined meaning. It refers to a structured data (a single number, a vector, or a multi-dimensional matrix) that obeys a certain tensor transformation rule under coordinate transformations. Therefore, tensor is a very special group of structured data/object, and not all matrices can be called a tensor. In fact, most of them are not. So long the tensor transformation rules are obeyed, it can be classed in different orders. Scalars are 0th order tensor, vectors are 1st-order tensors, and 2D matrices are 2nd-order tensors, and so on. .  \n",
    "\n",
    "Having said that, in the machine learning (ML) community, however, any matrix with dimension higher than 2 is called a tensor. It can be viewed as stacks of matrices of same shape. This ML tensor seem to carry a meaning of big-data that needs to be structure in high dimensions. The ML tensor is now used as a general way representing an array with an arbitrary dimensions or arbitrary number of axes. The use of ML tensors become more convenient when dealing with, for example, images that can have 3D data structures, with axes corresponding to the height, width, and the three color (RGB) channels. In numpy, a tensor is a multidimensional array. \n",
    "\n",
    "Because there is usually no such a coordinate transformation performed in machine learning, there will be no possible confusion caused in our discussion in this book. From now onwards, we will call the ML tensor a tensor, with the understanding that it may not obey the real-tensor transformation rules and we do not perform such a transformation in machine learning programming."
   ]
  },
  {
   "cell_type": "markdown",
   "metadata": {},
   "source": [
    "We now use nd.range() and then the reshape() to create a 3D nd-array."
   ]
  },
  {
   "cell_type": "code",
   "metadata": {
    "ExecuteTime": {
     "end_time": "2025-01-21T20:59:19.003735Z",
     "start_time": "2025-01-21T20:59:18.986731Z"
    }
   },
   "source": [
    "X = nd.arange(24).reshape((2, 3, 4))       \n",
    "print(f\"X.shape = {X.shape}\")\n",
    "print(f\"X = {X}\")"
   ],
   "outputs": [
    {
     "name": "stdout",
     "output_type": "stream",
     "text": [
      "X.shape = (2, 3, 4)\n",
      "X = \n",
      "[[[ 0.00  1.00  2.00  3.00]\n",
      "  [ 4.00  5.00  6.00  7.00]\n",
      "  [ 8.00  9.00  10.00  11.00]]\n",
      "\n",
      " [[ 12.00  13.00  14.00  15.00]\n",
      "  [ 16.00  17.00  18.00  19.00]\n",
      "  [ 20.00  21.00  22.00  23.00]]]\n",
      "<NDArray 2x3x4 @cpu(0)>\n"
     ]
    }
   ],
   "execution_count": 266
  },
  {
   "cell_type": "markdown",
   "metadata": {},
   "source": [
    "Element-wise operations are applicable to all tensors. "
   ]
  },
  {
   "cell_type": "code",
   "metadata": {
    "ExecuteTime": {
     "end_time": "2025-01-21T20:59:19.113872Z",
     "start_time": "2025-01-21T20:59:19.101366Z"
    }
   },
   "source": [
    "A = nd.arange(8).reshape((2, 4))\n",
    "B = nd.ones_like(A) * 8         # get shape of A, assign uniform entries \n",
    "print(f\"A ={A}\\n B ={B}\")\n",
    "print(f\"A + B ={A + B}'\\n A * B ={A * B}\")"
   ],
   "outputs": [
    {
     "name": "stdout",
     "output_type": "stream",
     "text": [
      "A =\n",
      "[[ 0.00  1.00  2.00  3.00]\n",
      " [ 4.00  5.00  6.00  7.00]]\n",
      "<NDArray 2x4 @cpu(0)>\n",
      " B =\n",
      "[[ 8.00  8.00  8.00  8.00]\n",
      " [ 8.00  8.00  8.00  8.00]]\n",
      "<NDArray 2x4 @cpu(0)>\n",
      "A + B =\n",
      "[[ 8.00  9.00  10.00  11.00]\n",
      " [ 12.00  13.00  14.00  15.00]]\n",
      "<NDArray 2x4 @cpu(0)>'\n",
      " A * B =\n",
      "[[ 0.00  8.00  16.00  24.00]\n",
      " [ 32.00  40.00  48.00  56.00]]\n",
      "<NDArray 2x4 @cpu(0)>\n"
     ]
    }
   ],
   "execution_count": 267
  },
  {
   "cell_type": "markdown",
   "metadata": {},
   "source": [
    "#### Sum and mean of a tensor"
   ]
  },
  {
   "cell_type": "code",
   "metadata": {
    "ExecuteTime": {
     "end_time": "2025-01-21T20:59:19.192992Z",
     "start_time": "2025-01-21T20:59:19.188929Z"
    }
   },
   "source": [
    "x = nd.arange(5)\n",
    "print(x)"
   ],
   "outputs": [
    {
     "name": "stdout",
     "output_type": "stream",
     "text": [
      "\n",
      "[ 0.00  1.00  2.00  3.00  4.00]\n",
      "<NDArray 5 @cpu(0)>\n"
     ]
    }
   ],
   "execution_count": 268
  },
  {
   "cell_type": "code",
   "metadata": {
    "ExecuteTime": {
     "end_time": "2025-01-21T20:59:19.272055Z",
     "start_time": "2025-01-21T20:59:19.263551Z"
    }
   },
   "source": [
    "nd.sum(x)           # summation of all entries/elements: 0+1+2+3+4=10"
   ],
   "outputs": [
    {
     "data": {
      "text/plain": [
       "\n",
       "[ 10.00]\n",
       "<NDArray 1 @cpu(0)>"
      ]
     },
     "execution_count": 269,
     "metadata": {},
     "output_type": "execute_result"
    }
   ],
   "execution_count": 269
  },
  {
   "cell_type": "code",
   "metadata": {
    "ExecuteTime": {
     "end_time": "2025-01-21T20:59:19.351160Z",
     "start_time": "2025-01-21T20:59:19.345101Z"
    }
   },
   "source": [
    "X = nd.ones(15).reshape(3,5)\n",
    "X"
   ],
   "outputs": [
    {
     "data": {
      "text/plain": [
       "\n",
       "[[ 1.00  1.00  1.00  1.00  1.00]\n",
       " [ 1.00  1.00  1.00  1.00  1.00]\n",
       " [ 1.00  1.00  1.00  1.00  1.00]]\n",
       "<NDArray 3x5 @cpu(0)>"
      ]
     },
     "execution_count": 270,
     "metadata": {},
     "output_type": "execute_result"
    }
   ],
   "execution_count": 270
  },
  {
   "cell_type": "code",
   "metadata": {
    "ExecuteTime": {
     "end_time": "2025-01-21T20:59:19.461312Z",
     "start_time": "2025-01-21T20:59:19.442765Z"
    }
   },
   "source": [
    "nd.sum(X)                   # summation of all entries/elements"
   ],
   "outputs": [
    {
     "data": {
      "text/plain": [
       "\n",
       "[ 15.00]\n",
       "<NDArray 1 @cpu(0)>"
      ]
     },
     "execution_count": 271,
     "metadata": {},
     "output_type": "execute_result"
    }
   ],
   "execution_count": 271
  },
  {
   "cell_type": "code",
   "metadata": {
    "ExecuteTime": {
     "end_time": "2025-01-21T20:59:19.556528Z",
     "start_time": "2025-01-21T20:59:19.551372Z"
    }
   },
   "source": [
    "print(nd.mean(X),  nd.sum(X)/X.size)       # same as nd.mean()"
   ],
   "outputs": [
    {
     "name": "stdout",
     "output_type": "stream",
     "text": [
      "\n",
      "[ 1.00]\n",
      "<NDArray 1 @cpu(0)> \n",
      "[ 1.00]\n",
      "<NDArray 1 @cpu(0)>\n"
     ]
    }
   ],
   "execution_count": 272
  },
  {
   "cell_type": "markdown",
   "metadata": {},
   "source": [
    "#### Dot-product of two vectors\n",
    "Dot-product may be one of the most, if not the most, widely used operations in scientific computation including machine learning. We discussed about it briefly in Section 2.9. Here, we shall discuss more on its use for vectors that may have different data structure resulting in some subtleties, as mentioned in Section 2.9.13. \n",
    "\n",
    "Given two vectors $\\mathbf{a}$ and $\\mathbf{b}$, their dot-product is often written in linear algebra as $\\mathbf{a}^\\top \\mathbf{b}$ or $\\mathbf{a}\\cdot \\mathbf{b}$. Essentially, it is just a sum of their element-wise products, which results in a scalar. This implies that the shape of $\\mathbf{a}$ and $\\mathbf{b}$ must be compatible: both have the same length. Let us see some examples. \n",
    "\n",
    "${}$"
   ]
  },
  {
   "cell_type": "code",
   "metadata": {
    "ExecuteTime": {
     "end_time": "2025-01-21T20:59:19.682180Z",
     "start_time": "2025-01-21T20:59:19.667675Z"
    }
   },
   "source": [
    "a = nd.arange(5)\n",
    "b = nd.ones_like(a) * 2      #This ensures the compatibility\n",
    "print(f\"a={a},a.shape={a.shape} \\nb={b},b.shape={b.shape}\")\n",
    "printx('nd.dot(a, b)')\n",
    "printx('nd.dot(a, b).shape')\n",
    "\n",
    "print(f\"np.dot(a,  b)={np.dot(a.asnumpy(), b.asnumpy())}\")\n",
    "print(f\"np.dot(a.T,b)={np.dot(a.asnumpy().T, b.asnumpy())}\")\n",
    "printx('np.dot(a.asnumpy(), b.asnumpy()).shape')"
   ],
   "outputs": [
    {
     "name": "stdout",
     "output_type": "stream",
     "text": [
      "a=\n",
      "[ 0.00  1.00  2.00  3.00  4.00]\n",
      "<NDArray 5 @cpu(0)>,a.shape=(5,) \n",
      "b=\n",
      "[ 2.00  2.00  2.00  2.00  2.00]\n",
      "<NDArray 5 @cpu(0)>,b.shape=(5,)\n",
      "nd.dot(a, b) = \n",
      "[ 20.00]\n",
      "<NDArray 1 @cpu(0)>\n",
      "nd.dot(a, b).shape = (1,)\n",
      "np.dot(a,  b)=20.0\n",
      "np.dot(a.T,b)=20.0\n",
      "np.dot(a.asnumpy(), b.asnumpy()).shape = ()\n"
     ]
    }
   ],
   "execution_count": 273
  },
  {
   "cell_type": "markdown",
   "metadata": {},
   "source": [
    "Note that the transpose() to the vector will have not effect, because transpose() in numpy swaps the axises of a 2D array. An numpy 1D array has a shape of (n,) and hence no action can be taken. A numpy 1D array is not treated as a matrix, as discussed in Section 2.9.13. When $\\mathbf{b}$ is a column vector, a special case of 2D array, it then has two axises like a matrix. The dot-product $\\mathbf{a}\\cdot \\mathbf{b}$ is same as the matrix-product $\\mathbf{a} \\mathbf{b}$  (where $\\mathbf{a}$ is defined as a row vector and $\\mathbf{b}$ a column vector), in terms of the scalar value resulted. Thus, in our formulation, we do not distinguish them mathematically, and we often use the following equality. \n",
    "\n",
    "$$\n",
    "\\mathbf{a}\\cdot \\mathbf{b}=\\mathbf{a} \\mathbf{b}\n",
    "$$\n",
    "\n",
    "In computations in numpy, however, there are some subtleties. The dot-product of two (1D array) vectors gives a scalar, and the dot-product of a (1D array) vector with a column vector gives an 1D array with the same scalar as the sole element. In NDArray, such subtleties are not observed. Readers may examine the following code carefully to make sense of this. "
   ]
  },
  {
   "cell_type": "code",
   "metadata": {
    "ExecuteTime": {
     "end_time": "2025-01-21T20:59:19.777294Z",
     "start_time": "2025-01-21T20:59:19.765291Z"
    }
   },
   "source": [
    "b_c = b.reshape(-1, 1)        # convert a 1D array to a column vector\n",
    "print(b_c, 'b_c.shape=', b_c.shape)\n",
    "printx('np.dot(a.asnumpy(),b.asnumpy())')   # np dot-product (scalar)\n",
    "printx('np.dot(a.asnumpy(),b_c.asnumpy())')  # np dot-product (array)\n",
    "\n",
    "print(a.asnumpy()@b_c.asnumpy())          # np matrix-product (array)\n",
    "printx('nd.dot(a, b)')                       # nd dot-product (array)\n",
    "printx('nd.dot(a, b_c)')                     # nd dot-product (array)\n",
    "printx('nd.dot(a, b_c).shape')        "
   ],
   "outputs": [
    {
     "name": "stdout",
     "output_type": "stream",
     "text": [
      "\n",
      "[[ 2.00]\n",
      " [ 2.00]\n",
      " [ 2.00]\n",
      " [ 2.00]\n",
      " [ 2.00]]\n",
      "<NDArray 5x1 @cpu(0)> b_c.shape= (5, 1)\n",
      "np.dot(a.asnumpy(),b.asnumpy()) = 20.0\n",
      "np.dot(a.asnumpy(),b_c.asnumpy()) = array([ 20.00], dtype=float32)\n",
      "[ 20.00]\n",
      "nd.dot(a, b) = \n",
      "[ 20.00]\n",
      "<NDArray 1 @cpu(0)>\n",
      "nd.dot(a, b_c) = \n",
      "[ 20.00]\n",
      "<NDArray 1 @cpu(0)>\n",
      "nd.dot(a, b_c).shape = (1,)\n"
     ]
    }
   ],
   "execution_count": 274
  },
  {
   "cell_type": "markdown",
   "metadata": {},
   "source": [
    "As seen, all these give the same scalar value but in a different data structure. \n",
    "\n",
    "The dot-product of two column vectors (special matrices) $\\mathbf{a}$ and $\\mathbf{b}$ of equal length is written linear algebra as $\\mathbf{a}^\\top \\mathbf{b}$ or $\\mathbf{b}^\\top \\mathbf{a}$, which gives the same scalar (but in a 2D array or a matrix with only one element). "
   ]
  },
  {
   "cell_type": "code",
   "metadata": {
    "ExecuteTime": {
     "end_time": "2025-01-21T20:59:19.888046Z",
     "start_time": "2025-01-21T20:59:19.872132Z"
    }
   },
   "source": [
    "a_c = a.reshape(-1, 1)       # convert a 1D array to a column vector\n",
    "print(a_c)\n",
    "printx('np.dot(a_c.asnumpy().T,b_c.asnumpy())') # scalar in 2D array\n",
    "printx('np.dot(b_c.asnumpy().T,a_c.asnumpy())')  \n",
    "printx('np.dot(b_c.asnumpy().T,a_c.asnumpy()).shape') "
   ],
   "outputs": [
    {
     "name": "stdout",
     "output_type": "stream",
     "text": [
      "\n",
      "[[ 0.00]\n",
      " [ 1.00]\n",
      " [ 2.00]\n",
      " [ 3.00]\n",
      " [ 4.00]]\n",
      "<NDArray 5x1 @cpu(0)>\n",
      "np.dot(a_c.asnumpy().T,b_c.asnumpy()) = array([[ 20.00]], dtype=float32)\n",
      "np.dot(b_c.asnumpy().T,a_c.asnumpy()) = array([[ 20.00]], dtype=float32)\n",
      "np.dot(b_c.asnumpy().T,a_c.asnumpy()).shape = (1, 1)\n"
     ]
    }
   ],
   "execution_count": 275
  },
  {
   "cell_type": "markdown",
   "metadata": {
    "ExecuteTime": {
     "end_time": "2022-07-10T14:49:13.653841Z",
     "start_time": "2022-07-10T14:49:13.647859Z"
    }
   },
   "source": [
    "To access the scalar value in a 2D array of shape (1, 1), simply use, "
   ]
  },
  {
   "cell_type": "code",
   "metadata": {
    "ExecuteTime": {
     "end_time": "2025-01-21T20:59:19.966246Z",
     "start_time": "2025-01-21T20:59:19.956601Z"
    }
   },
   "source": [
    "print(np.dot(a_c.asnumpy().T,b_c.asnumpy())[0][0])          # use numpy"
   ],
   "outputs": [
    {
     "name": "stdout",
     "output_type": "stream",
     "text": [
      "20.0\n"
     ]
    }
   ],
   "execution_count": 276
  },
  {
   "cell_type": "markdown",
   "metadata": {},
   "source": [
    "One may use flatten() to make a column vector back to a row vector. "
   ]
  },
  {
   "cell_type": "code",
   "metadata": {
    "ExecuteTime": {
     "end_time": "2025-01-21T20:59:20.045019Z",
     "start_time": "2025-01-21T20:59:20.028904Z"
    }
   },
   "source": [
    "printx('np.dot(a_c.asnumpy().flatten(),b_c.asnumpy())') \n",
    "printx('np.dot(a_c.asnumpy().flatten(),b_c.asnumpy()).shape') "
   ],
   "outputs": [
    {
     "name": "stdout",
     "output_type": "stream",
     "text": [
      "np.dot(a_c.asnumpy().flatten(),b_c.asnumpy()) = array([ 20.00], dtype=float32)\n",
      "np.dot(a_c.asnumpy().flatten(),b_c.asnumpy()).shape = (1,)\n"
     ]
    }
   ],
   "execution_count": 277
  },
  {
   "cell_type": "markdown",
   "metadata": {
    "ExecuteTime": {
     "end_time": "2022-07-10T14:49:13.653841Z",
     "start_time": "2022-07-10T14:49:13.647859Z"
    }
   },
   "source": [
    "To access the scalar value in a 1D array of shape (1,), simply use, "
   ]
  },
  {
   "cell_type": "code",
   "metadata": {
    "ExecuteTime": {
     "end_time": "2025-01-21T20:59:20.091509Z",
     "start_time": "2025-01-21T20:59:20.085508Z"
    }
   },
   "source": [
    "printx('np.dot(a_c.asnumpy().flatten(),b_c.asnumpy())[0]') "
   ],
   "outputs": [
    {
     "name": "stdout",
     "output_type": "stream",
     "text": [
      "np.dot(a_c.asnumpy().flatten(),b_c.asnumpy())[0] = 20.0\n"
     ]
    }
   ],
   "execution_count": 278
  },
  {
   "cell_type": "markdown",
   "metadata": {},
   "source": [
    "One may use ravel() to convert a multidimensional array to a 1D array (in this case no copy of the array is made). "
   ]
  },
  {
   "cell_type": "code",
   "metadata": {
    "ExecuteTime": {
     "end_time": "2025-01-21T20:59:20.169571Z",
     "start_time": "2025-01-21T20:59:20.155869Z"
    }
   },
   "source": [
    "printx('np.dot(a_c.asnumpy().T,b_c.asnumpy()).ravel()') \n",
    "printx('np.dot(a_c.asnumpy().T,b_c.asnumpy()).ravel()[0]') "
   ],
   "outputs": [
    {
     "name": "stdout",
     "output_type": "stream",
     "text": [
      "np.dot(a_c.asnumpy().T,b_c.asnumpy()).ravel() = array([ 20.00], dtype=float32)\n",
      "np.dot(a_c.asnumpy().T,b_c.asnumpy()).ravel()[0] = 20.0\n"
     ]
    }
   ],
   "execution_count": 279
  },
  {
   "cell_type": "markdown",
   "metadata": {},
   "source": [
    "#### Outer product of two vectors\n",
    "Given two vectors **a** and **b**, the outer product **a**$\\otimes$**b** becomes a matrix, in its $ij$ position the lement is $a_ib_j$. Thus the  shape of **a** and **b** are always compatible. "
   ]
  },
  {
   "cell_type": "code",
   "metadata": {
    "ExecuteTime": {
     "end_time": "2025-01-21T20:59:20.247020Z",
     "start_time": "2025-01-21T20:59:20.228002Z"
    }
   },
   "source": [
    "a = np.arange(3)                                            # use numpy\n",
    "b = np.ones(5) * 2           \n",
    "print(a, b)"
   ],
   "outputs": [
    {
     "name": "stdout",
     "output_type": "stream",
     "text": [
      "[0 1 2] [ 2.00  2.00  2.00  2.00  2.00]\n"
     ]
    }
   ],
   "execution_count": 280
  },
  {
   "cell_type": "code",
   "metadata": {
    "ExecuteTime": {
     "end_time": "2025-01-21T20:59:20.326419Z",
     "start_time": "2025-01-21T20:59:20.316394Z"
    }
   },
   "source": [
    "print(f\"np.outer=\\n{np.outer(a, b)}\")"
   ],
   "outputs": [
    {
     "name": "stdout",
     "output_type": "stream",
     "text": [
      "np.outer=\n",
      "[[ 0.00  0.00  0.00  0.00  0.00]\n",
      " [ 2.00  2.00  2.00  2.00  2.00]\n",
      " [ 4.00  4.00  4.00  4.00  4.00]]\n"
     ]
    }
   ],
   "execution_count": 281
  },
  {
   "cell_type": "markdown",
   "metadata": {},
   "source": [
    "A matrix (2D array) is created using two 1D arrays of arbitrary lengths, with the help of the np.outer() function. One can achieve the same results using the @ operator, but $\\mathbf{a}$ needs to be a column vector with shape ($n$, 1) and $\\mathbf{b}$ needs to be a row vector with shape (1, $m$). "
   ]
  },
  {
   "cell_type": "code",
   "metadata": {
    "ExecuteTime": {
     "end_time": "2025-01-21T20:59:20.387996Z",
     "start_time": "2025-01-21T20:59:20.379355Z"
    }
   },
   "source": [
    "n, m = 3, 5\n",
    "a = np.arange(n).reshape(-1,1)\n",
    "b = (np.ones(m) * 2)[np.newaxis,:]\n",
    "print(a, a.shape, ';  ', b, b.shape)"
   ],
   "outputs": [
    {
     "name": "stdout",
     "output_type": "stream",
     "text": [
      "[[0]\n",
      " [1]\n",
      " [2]] (3, 1) ;   [[ 2.00  2.00  2.00  2.00  2.00]] (1, 5)\n"
     ]
    }
   ],
   "execution_count": 282
  },
  {
   "cell_type": "code",
   "metadata": {
    "ExecuteTime": {
     "end_time": "2025-01-21T20:59:20.496372Z",
     "start_time": "2025-01-21T20:59:20.482037Z"
    }
   },
   "source": [
    "print(f\"a@b=\\n{a@b}\")"
   ],
   "outputs": [
    {
     "name": "stdout",
     "output_type": "stream",
     "text": [
      "a@b=\n",
      "[[ 0.00  0.00  0.00  0.00  0.00]\n",
      " [ 2.00  2.00  2.00  2.00  2.00]\n",
      " [ 4.00  4.00  4.00  4.00  4.00]]\n"
     ]
    }
   ],
   "execution_count": 283
  },
  {
   "cell_type": "code",
   "metadata": {
    "ExecuteTime": {
     "end_time": "2025-01-21T20:59:20.572812Z",
     "start_time": "2025-01-21T20:59:20.566066Z"
    }
   },
   "source": [
    "print(f\"np.outer=\\n{np.outer(a, b)}\")"
   ],
   "outputs": [
    {
     "name": "stdout",
     "output_type": "stream",
     "text": [
      "np.outer=\n",
      "[[ 0.00  0.00  0.00  0.00  0.00]\n",
      " [ 2.00  2.00  2.00  2.00  2.00]\n",
      " [ 4.00  4.00  4.00  4.00  4.00]]\n"
     ]
    }
   ],
   "execution_count": 284
  },
  {
   "cell_type": "markdown",
   "metadata": {},
   "source": [
    "A matrix (2D array) is created using two 1D arrays of arbitrary lengths,\n",
    "with the help of the np.outer() function. One can achieve the same results\n",
    "using the @ operator, but $\\mathbf{a}$ needs to be a column vector with shape ($n$, 1) and $\\mathbf{b}$ needs to be a row vector with shape (1, $m$). Readers may try this as an exercise. Note that although we may get the same results, using the built-in np.outer() is recommended, because it is usually much faster, and does not need additional operations.  This recommendation applies to all the other similar situations.  "
   ]
  },
  {
   "cell_type": "markdown",
   "metadata": {},
   "source": [
    "#### Matrix-vector product\n",
    "When the dimensionality (shape) is compatible (or made compatible via \"broadcasting\"), one can obtain matrix-vector product, using the np.dot() function.  \n",
    "\n",
    "${}$"
   ]
  },
  {
   "cell_type": "code",
   "metadata": {
    "ExecuteTime": {
     "end_time": "2025-01-21T20:59:20.620135Z",
     "start_time": "2025-01-21T20:59:20.608595Z"
    }
   },
   "source": [
    "A35 = nd.arange(15).reshape(3,5)\n",
    "d5 = nd.ones(A35.shape[1])           # get the 2nd element of shape A35\n",
    "print(A35,A35.shape, d5, d5.shape)\n",
    "f = nd.dot(A35, d5)    # shape compatible:[3,5]X[5]->vector of length 3\n",
    "print(f,f.shape)"
   ],
   "outputs": [
    {
     "name": "stdout",
     "output_type": "stream",
     "text": [
      "\n",
      "[[ 0.00  1.00  2.00  3.00  4.00]\n",
      " [ 5.00  6.00  7.00  8.00  9.00]\n",
      " [ 10.00  11.00  12.00  13.00  14.00]]\n",
      "<NDArray 3x5 @cpu(0)> (3, 5) \n",
      "[ 1.00  1.00  1.00  1.00  1.00]\n",
      "<NDArray 5 @cpu(0)> (5,)\n",
      "\n",
      "[ 10.00  35.00  60.00]\n",
      "<NDArray 3 @cpu(0)> (3,)\n"
     ]
    }
   ],
   "execution_count": 285
  },
  {
   "cell_type": "code",
   "metadata": {
    "ExecuteTime": {
     "end_time": "2025-01-21T20:59:20.683200Z",
     "start_time": "2025-01-21T20:59:20.675696Z"
    }
   },
   "source": [
    "#nd.dot(d5,A35)           # shape error: [5]X[3,5] not compatible"
   ],
   "outputs": [],
   "execution_count": 286
  },
  {
   "cell_type": "code",
   "metadata": {
    "ExecuteTime": {
     "end_time": "2025-01-21T20:59:20.793883Z",
     "start_time": "2025-01-21T20:59:20.779320Z"
    }
   },
   "source": [
    "d3 = nd.ones(A35.shape[0])\n",
    "nd.dot(d3,A35)        # this works:[3]X[3,5]-> vector of length 5"
   ],
   "outputs": [
    {
     "data": {
      "text/plain": [
       "\n",
       "[ 15.00  18.00  21.00  24.00  27.00]\n",
       "<NDArray 5 @cpu(0)>"
      ]
     },
     "execution_count": 287,
     "metadata": {},
     "output_type": "execute_result"
    }
   ],
   "execution_count": 287
  },
  {
   "cell_type": "markdown",
   "metadata": {},
   "source": [
    "#### Matrix-matrix product\n",
    "Further, dot-product can also be used for matrix-matrix product, as long as the shape is compatible. "
   ]
  },
  {
   "cell_type": "code",
   "metadata": {
    "ExecuteTime": {
     "end_time": "2025-01-21T20:59:20.857401Z",
     "start_time": "2025-01-21T20:59:20.840397Z"
    }
   },
   "source": [
    "A23 = nd.ones(shape=(2, 3))\n",
    "B35 = nd.ones(shape=(3, 5))\n",
    "print(A23,B35)\n",
    "nd.dot(A23, B35)           # [2,3]X[3,5]: shape compatible ->[2,5]"
   ],
   "outputs": [
    {
     "name": "stdout",
     "output_type": "stream",
     "text": [
      "\n",
      "[[ 1.00  1.00  1.00]\n",
      " [ 1.00  1.00  1.00]]\n",
      "<NDArray 2x3 @cpu(0)> \n",
      "[[ 1.00  1.00  1.00  1.00  1.00]\n",
      " [ 1.00  1.00  1.00  1.00  1.00]\n",
      " [ 1.00  1.00  1.00  1.00  1.00]]\n",
      "<NDArray 3x5 @cpu(0)>\n"
     ]
    },
    {
     "data": {
      "text/plain": [
       "\n",
       "[[ 3.00  3.00  3.00  3.00  3.00]\n",
       " [ 3.00  3.00  3.00  3.00  3.00]]\n",
       "<NDArray 2x5 @cpu(0)>"
      ]
     },
     "execution_count": 288,
     "metadata": {},
     "output_type": "execute_result"
    }
   ],
   "execution_count": 288
  },
  {
   "cell_type": "code",
   "metadata": {
    "ExecuteTime": {
     "end_time": "2025-01-21T20:59:20.936023Z",
     "start_time": "2025-01-21T20:59:20.931022Z"
    }
   },
   "source": [
    "#nd.dot(B35,A23)     # this would give a dot shape error: [4,5]X[3,4]"
   ],
   "outputs": [],
   "execution_count": 289
  },
  {
   "cell_type": "markdown",
   "metadata": {},
   "source": [
    "In numpy, we have similar ways to perform matrix-matrix dot-product operation. "
   ]
  },
  {
   "cell_type": "code",
   "metadata": {
    "ExecuteTime": {
     "end_time": "2025-01-21T20:59:21.045936Z",
     "start_time": "2025-01-21T20:59:21.040679Z"
    }
   },
   "source": [
    "import numpy as np\n",
    "print(f\"np.dot():\\n{np.dot(A23.asnumpy(),B35.asnumpy())}\")\n",
    "print(f\"numpy @ operator:\\n{A23.asnumpy() @ B35.asnumpy()}\")"
   ],
   "outputs": [
    {
     "name": "stdout",
     "output_type": "stream",
     "text": [
      "np.dot():\n",
      "[[ 3.00  3.00  3.00  3.00  3.00]\n",
      " [ 3.00  3.00  3.00  3.00  3.00]]\n",
      "numpy @ operator:\n",
      "[[ 3.00  3.00  3.00  3.00  3.00]\n",
      " [ 3.00  3.00  3.00  3.00  3.00]]\n"
     ]
    }
   ],
   "execution_count": 290
  },
  {
   "cell_type": "markdown",
   "metadata": {},
   "source": [
    "Care is needed in dealing with matrix-vector, matrix-matrix operations, because of the requirement of dimension compatibility. It is important to always check the consistence of the dimensions of all the terms in the same equation. Readers may need to struggle a while to get used to it. Operations between one-dimensional arrays (row vectors) in Python is rather simpler, because there is only on dimension to check and we usually use only the dot-product."
   ]
  },
  {
   "cell_type": "markdown",
   "metadata": {},
   "source": [
    "#### Norms"
   ]
  },
  {
   "cell_type": "markdown",
   "metadata": {},
   "source": [
    "A norm is used in Python to measure how \"big\" a vector or matrix is. There are types of norm measures, but they all produce a non-negative value for the measure. The most often-used or default one is the L2-norm. It is the square-root of the sum of the squared elements in the vector or matrix or tensor. For matrices, it is often called the Frobenius norm. The computation is by calling a norm() function:\n",
    "\n",
    "${}$"
   ]
  },
  {
   "cell_type": "code",
   "metadata": {
    "ExecuteTime": {
     "end_time": "2025-01-21T20:59:21.093095Z",
     "start_time": "2025-01-21T20:59:21.081153Z"
    }
   },
   "source": [
    "d = nd.ones(9)                          # create an array (vector)\n",
    "print(d,nd.sum(d))\n",
    "printx('nd.norm(d)')                    # use nd.morm()  \n",
    "print(np.linalg.norm(d.asnumpy()))      # use numpy linalg.norm()  "
   ],
   "outputs": [
    {
     "name": "stdout",
     "output_type": "stream",
     "text": [
      "\n",
      "[ 1.00  1.00  1.00  1.00  1.00  1.00  1.00  1.00  1.00]\n",
      "<NDArray 9 @cpu(0)> \n",
      "[ 9.00]\n",
      "<NDArray 1 @cpu(0)>\n",
      "nd.norm(d) = \n",
      "[ 3.00]\n",
      "<NDArray 1 @cpu(0)>\n",
      "3.0\n"
     ]
    }
   ],
   "execution_count": 291
  },
  {
   "cell_type": "code",
   "metadata": {
    "ExecuteTime": {
     "end_time": "2025-01-21T20:59:21.156707Z",
     "start_time": "2025-01-21T20:59:21.147646Z"
    }
   },
   "source": [
    "print(d.sum().sqrt())                   # use morm definition"
   ],
   "outputs": [
    {
     "name": "stdout",
     "output_type": "stream",
     "text": [
      "\n",
      "[ 3.00]\n",
      "<NDArray 1 @cpu(0)>\n"
     ]
    }
   ],
   "execution_count": 292
  },
  {
   "cell_type": "markdown",
   "metadata": {},
   "source": [
    "Note the difference that the nd.norm rmeturns a NDArray, but np.linalg.norm gives a float. "
   ]
  },
  {
   "cell_type": "code",
   "metadata": {
    "ExecuteTime": {
     "end_time": "2025-01-21T20:59:21.235314Z",
     "start_time": "2025-01-21T20:59:21.224312Z"
    }
   },
   "source": [
    "#help(nd.norm)                         # when wondering, use this"
   ],
   "outputs": [],
   "execution_count": 293
  },
  {
   "cell_type": "code",
   "metadata": {
    "ExecuteTime": {
     "end_time": "2025-01-21T20:59:21.298367Z",
     "start_time": "2025-01-21T20:59:21.284365Z"
    }
   },
   "source": [
    "print(nd.norm(A23),np.sqrt(6*1**2))    # nd.morm() for matrix, default L2\n",
    "print(np.linalg.norm(A23.asnumpy()))   # numpy linalg.norm() for matrix"
   ],
   "outputs": [
    {
     "name": "stdout",
     "output_type": "stream",
     "text": [
      "\n",
      "[ 2.45]\n",
      "<NDArray 1 @cpu(0)> 2.449489742783178\n",
      "2.4494898\n"
     ]
    }
   ],
   "execution_count": 294
  },
  {
   "cell_type": "code",
   "metadata": {
    "ExecuteTime": {
     "end_time": "2025-01-21T20:59:21.361480Z",
     "start_time": "2025-01-21T20:59:21.342924Z"
    }
   },
   "source": [
    "print(nd.norm(A23,ord=2, axis=1))  # nd.morm() for matrix, along axis 1\n",
    "print(np.linalg.norm(A23.asnumpy(),ord=2, axis=1))    \n",
    "                                       # numpy linalg.norm() for matrix"
   ],
   "outputs": [
    {
     "name": "stdout",
     "output_type": "stream",
     "text": [
      "\n",
      "[ 1.73  1.73]\n",
      "<NDArray 2 @cpu(0)>\n",
      "[ 1.73  1.73]\n"
     ]
    }
   ],
   "execution_count": 295
  },
  {
   "cell_type": "markdown",
   "metadata": {},
   "source": [
    "The L1-norm of a vector is the sum of the absolute value of the elements in a vector. L1-norm of a matrix can be defined as the maximum of L1-norm of column vectors of the matrix. For computing the L1-norms of a vector, we use the following. "
   ]
  },
  {
   "cell_type": "code",
   "metadata": {
    "ExecuteTime": {
     "end_time": "2025-01-21T20:59:21.440532Z",
     "start_time": "2025-01-21T20:59:21.420528Z"
    }
   },
   "source": [
    "printx('nd.sum(nd.abs(d))')                # use nd.morm() for vector\n",
    "printx('nd.norm(d,2)')"
   ],
   "outputs": [
    {
     "name": "stdout",
     "output_type": "stream",
     "text": [
      "nd.sum(nd.abs(d)) = \n",
      "[ 9.00]\n",
      "<NDArray 1 @cpu(0)>\n",
      "nd.norm(d,2) = \n",
      "[ 3.00]\n",
      "<NDArray 1 @cpu(0)>\n"
     ]
    }
   ],
   "execution_count": 296
  },
  {
   "cell_type": "code",
   "metadata": {
    "ExecuteTime": {
     "end_time": "2025-01-21T20:59:21.535192Z",
     "start_time": "2025-01-21T20:59:21.525190Z"
    }
   },
   "source": [
    "print(np.sum(np.abs(d.asnumpy())))      # numpy for vector\n",
    "print(np.linalg.norm(d.asnumpy(),1))    # np.linalg.norm() for vector"
   ],
   "outputs": [
    {
     "name": "stdout",
     "output_type": "stream",
     "text": [
      "9.0\n",
      "9.0\n"
     ]
    }
   ],
   "execution_count": 297
  },
  {
   "cell_type": "code",
   "metadata": {
    "ExecuteTime": {
     "end_time": "2025-01-21T20:59:21.645332Z",
     "start_time": "2025-01-21T20:59:21.635111Z"
    }
   },
   "source": [
    "print(np.linalg.norm(A23.asnumpy(),1))  # np.linalg.norm() for matrix"
   ],
   "outputs": [
    {
     "name": "stdout",
     "output_type": "stream",
     "text": [
      "2.0\n"
     ]
    }
   ],
   "execution_count": 298
  },
  {
   "cell_type": "markdown",
   "metadata": {},
   "source": [
    "#### Solving algebraic system equations"
   ]
  },
  {
   "cell_type": "markdown",
   "metadata": {},
   "source": [
    "We can use numpy.linalg.solve to solve a set of linear algebraic system equations given as follows. \n",
    "\\begin{equation} \\label{eqFEM}\n",
    "\\mathbf{K\\,D} = \\mathbf{F}\n",
    "\\end{equation} \n",
    "where $\\mathbf{K}$ is given positive definite (PD) square matrix (stiffness matrix in FEM, for example), and $\\mathbf{F} $ is a given vector (nodal forces in FEM), and $\\mathbf{D}$ is the unknown vector (the nodal displacements). The $\\mathbf{K}$ matrix is symmetric-positive-definite (SPD) for well-posed FEM models \\cite{liu2013finite}. "
   ]
  },
  {
   "cell_type": "code",
   "metadata": {
    "ExecuteTime": {
     "end_time": "2025-01-21T20:59:21.738512Z",
     "start_time": "2025-01-21T20:59:21.718507Z"
    }
   },
   "source": [
    "import numpy as np\n",
    "np.set_printoptions(formatter={'float': '{: 0.3f}'.format})\n",
    "\n",
    "K = np.array([[1.5, 1.], [1.5, 2.]]) # A square nonsingular matrix\n",
    "print(f\"K:\\n{K}\")\n",
    "F = np.array([2, 1])         # one may try F = np.array([[2], [1]])\n",
    "print(f\"F:{F}\")\n",
    "D = np.linalg.solve(K,F)             \n",
    "print(f\"D:{D}\")"
   ],
   "outputs": [
    {
     "name": "stdout",
     "output_type": "stream",
     "text": [
      "K:\n",
      "[[ 1.500  1.000]\n",
      " [ 1.500  2.000]]\n",
      "F:[2 1]\n",
      "D:[ 2.000 -1.000]\n"
     ]
    }
   ],
   "execution_count": 299
  },
  {
   "cell_type": "markdown",
   "metadata": {},
   "source": [
    "If careful, one should see that the input F is a 1D numpy array, and the result is also a 1D array, which is not the convention of linear algebra, as discussed in Section 2.9.13. One can also purposely define a column vector (a 2D array with only on column) following the convention of linear algebra, and get the solution. In this case, however, the returned solution will be the same, but is in a column vector. Readers may try this as an exercise. "
   ]
  },
  {
   "cell_type": "markdown",
   "metadata": {},
   "source": [
    "Note that solving linear algebraic system equations numerically can be very time-consuming and expensive, especially for large systems. With the development of computer hardware and software in the past decades, numerical algorithms for solving linear algebraic systems are well developed. Most effective solver for very large systems uses iterative methods. It converts the problem of solving algebraic equations to a minimization problem with a properly defined error residual function as a cost or loss function. A gradient based algorithm, such as the conjugate gradient methods and Krylov methods can be used to minimize the residual error. These methods essentially the same as those used in machine learning. The numpy.linalg.solve uses routines from the widely-used efficient Linear Algebra PACKage or LAPACK. \n",
    "\n",
    "For matrix that is not square, we shall use the least-square solvers for a best  solution with minimized least square error. The function in numpy is numpy.linalg.lstsq(). We will see examples in later when discussing interpolations."
   ]
  },
  {
   "cell_type": "markdown",
   "metadata": {},
   "source": [
    "#### Matrix inversion"
   ]
  },
  {
   "cell_type": "markdown",
   "metadata": {},
   "source": [
    "Readers may notice that the solution to Eq.(\\ref{eqFEM}) can be written as\n",
    "\\begin{equation} \\label{eqFEM2}\n",
    "\\mathbf{D} = \\mathbf{K}^{-1}\\mathbf{F}\n",
    "\\end{equation} \n",
    "where $\\mathbf{K}^{-1}$ is the inverse of $\\mathbf{K}$. Therefore, if one can compute $\\mathbf{K}^{-1}$, the solution is simply a matrix-vector product. Indeed, for small systems, this approach does work, and is used by many. We now use numpy.linalg.inv() to compute the inverse of a matrix. "
   ]
  },
  {
   "cell_type": "code",
   "metadata": {
    "ExecuteTime": {
     "end_time": "2025-01-21T20:59:21.800935Z",
     "start_time": "2025-01-21T20:59:21.783703Z"
    }
   },
   "source": [
    "from numpy.linalg import inv   # import inv() function\n",
    "print(K)\n",
    "Kinv = inv(K)\n",
    "print(Kinv)"
   ],
   "outputs": [
    {
     "name": "stdout",
     "output_type": "stream",
     "text": [
      "[[ 1.500  1.000]\n",
      " [ 1.500  2.000]]\n",
      "[[ 1.333 -0.667]\n",
      " [-1.000  1.000]]\n"
     ]
    }
   ],
   "execution_count": 300
  },
  {
   "cell_type": "code",
   "metadata": {
    "ExecuteTime": {
     "end_time": "2025-01-21T20:59:21.848224Z",
     "start_time": "2025-01-21T20:59:21.844081Z"
    }
   },
   "source": [
    "print(np.allclose(np.dot(K, Kinv), np.eye(2)))\n",
    "print(np.allclose(np.dot(Kinv, K), np.eye(2)))"
   ],
   "outputs": [
    {
     "name": "stdout",
     "output_type": "stream",
     "text": [
      "True\n",
      "True\n"
     ]
    }
   ],
   "execution_count": 301
  },
  {
   "cell_type": "markdown",
   "metadata": {},
   "source": [
    "The solution to Eq.(\\ref{eqFEM}) is obtained as follows. "
   ]
  },
  {
   "cell_type": "code",
   "metadata": {
    "ExecuteTime": {
     "end_time": "2025-01-21T20:59:21.911699Z",
     "start_time": "2025-01-21T20:59:21.898976Z"
    }
   },
   "source": [
    "D = np.dot(Kinv,F)             \n",
    "print(f\"D:{D}\")"
   ],
   "outputs": [
    {
     "name": "stdout",
     "output_type": "stream",
     "text": [
      "D:[ 2.000 -1.000]\n"
     ]
    }
   ],
   "execution_count": 302
  },
  {
   "cell_type": "markdown",
   "metadata": {},
   "source": [
    "Which is the same as the one obtained earlier. \n",
    "\n",
    "Multiple matrices can be inverted at once. "
   ]
  },
  {
   "cell_type": "code",
   "metadata": {
    "ExecuteTime": {
     "end_time": "2025-01-21T20:59:22.004919Z",
     "start_time": "2025-01-21T20:59:21.991653Z"
    }
   },
   "source": [
    "a = np.array([[[1., 2.], [3., 4.]], [[1, 3], [3, 5]]])\n",
    "print(a)\n",
    "inv(a)"
   ],
   "outputs": [
    {
     "name": "stdout",
     "output_type": "stream",
     "text": [
      "[[[ 1.000  2.000]\n",
      "  [ 3.000  4.000]]\n",
      "\n",
      " [[ 1.000  3.000]\n",
      "  [ 3.000  5.000]]]\n"
     ]
    },
    {
     "data": {
      "text/plain": [
       "array([[[-2.000,  1.000],\n",
       "        [ 1.500, -0.500]],\n",
       "\n",
       "       [[-1.250,  0.750],\n",
       "        [ 0.750, -0.250]]])"
      ]
     },
     "execution_count": 303,
     "metadata": {},
     "output_type": "execute_result"
    }
   ],
   "execution_count": 303
  },
  {
   "cell_type": "code",
   "metadata": {
    "ExecuteTime": {
     "end_time": "2025-01-21T20:59:22.082671Z",
     "start_time": "2025-01-21T20:59:22.072663Z"
    }
   },
   "source": [
    "a = np.array([[1.5, 1.], \n",
    "              [1.5, 1.]])   # A singular matrix, because its\n",
    "print(a)                               # two columns are parallel\n",
    "#ainv = inv(a)                # This would give a Singular matrix error"
   ],
   "outputs": [
    {
     "name": "stdout",
     "output_type": "stream",
     "text": [
      "[[ 1.500  1.000]\n",
      " [ 1.500  1.000]]\n"
     ]
    }
   ],
   "execution_count": 304
  },
  {
   "cell_type": "markdown",
   "metadata": {},
   "source": [
    "Note that computing numerically the inverse of a matrix of large size is much more expensive, compared to solving the algebraic system equations. Therefore, one would like to avoid the computation of inverse matrix. In many cases, we can change matrix inversion problem to a set of problems of solving algebraic equations. "
   ]
  },
  {
   "cell_type": "markdown",
   "metadata": {},
   "source": [
    "In machine learning computations, one may encounter matrices that are singular, which does not have an inverse, leading to breakdown in computations. More often, the matrices are nearly singular, which may allow the computation to continue but can lead to serious error, showing as some unexpected, strange behavior. When such a behavior is observed, the chance is high that the system matrix may be \"bad-conditioned\", and one should check for possible errors in the data or the formulation procedure that may lead to the nearly singular system matrix. If the problem is rooted at the data itself, one may need to clean up the data or check for data error. After this is exhausted, one may resort to mathematical means, one of which is the use of singular value decomposition (SVD) to get the best possible information from the data. See later in this Chapter on SVD. \n",
    "\n",
    "The key point we would like to make here is that the most important factor that controls whether we can solve an algebraic system equations for quality solution is the property (or characteristics or condition) of the system matrix. Therefore, study the property of a matrix is of fundamental importance.\n",
    "\n",
    "Eigenvalues (if exist) and their corresponding eigenvectors are the characteristics of a matrix. "
   ]
  },
  {
   "cell_type": "markdown",
   "metadata": {},
   "source": [
    "#### Eigenvalue decomposition of a matrix"
   ]
  },
  {
   "cell_type": "markdown",
   "metadata": {},
   "source": [
    "A diagonalizable square matrix can have an eigenvalue decomposition, which gives a set of eigenvalues and the corresponding eigenvectors. The original matrix can be decomposed into diagonal matrix with eigenvalues at the diagonal and a matrix consists of eigenvectors. In particular, for real symmetric matrices, eigenvalue decomposition is useful, and the computation can be fast, because the eigenvalues are all real and the eigenvectors can be made real and orthonormal. Consider a real symmetric square matrix $\\mathbf {A}$ that is positive-definite. It has the following eigenvalue decomposition. \n",
    "\n",
    "\\begin{equation} \\label{eqsed1}\n",
    "\\mathbf {A} = \\mathbf {V \\Lambda V}^\\top\n",
    "\\end{equation} \n",
    "\n",
    "where $\\top$ stands for transpose, $ \\mathbf{\\Lambda} $ is a diagonal matrix with eigenvalues at the diagonal, and matrix $\\mathbf {V} $ is formed with eigenvectors corresponding to the eigenvalues. It is an orthonormal matrix, because \n",
    "\n",
    "\\begin{equation} \\label{eqsed2}\n",
    "\\mathbf {V} \\mathbf {V}^\\top = \\mathbf {I}\n",
    "\\end{equation} \n",
    "\n",
    "which implies also that the inverse of $\\mathbf {V} $ equals its transpose. \n",
    "\n",
    "\\begin{equation} \\label{eqsed3}\n",
    "\\mathbf {V}^{-1}= \\mathbf {V}^\\top \n",
    "\\end{equation} \n"
   ]
  },
  {
   "cell_type": "markdown",
   "metadata": {},
   "source": [
    "In addition, once a matrix is decomposed, computing inverse of it becomes trivial by simply matrix multiplications. To see this, we start from the definition of inverse of a matrix: $ \\mathbf {A}\\mathbf {A}^{-1}= \\mathbf {I}$, and use Eqs.($\\ref{eqsed1}$) and  ($\\ref{eqsed3}$), which leads to\n",
    "\n",
    "\\begin{equation} \\label{eqsed4}\n",
    "\\mathbf {A}^{-1} = \\mathbf {V} \\mathbf {\\Lambda}^{-1} \\mathbf {V}^\\top\n",
    "\\end{equation} \n",
    "\n",
    "Because the $ \\mathbf{A}$ is PD, its inverse exists and all the eigenvalues arenon-zero(positive-definite). The inverse of the diagonal matrix $\\mathbf {\\Lambda}$ is simply the same diagonal matrix with diagonal terms replaced by the reciprocals of the eigenvalues. "
   ]
  },
  {
   "cell_type": "markdown",
   "metadata": {},
   "source": [
    "Eigenvalue decomposition can be viewed as a special case of singular value decomposition (SVD). For general matrices that we often encounter in machine learning, the SVD is more widely used for matrix decomposition and will be discussed later in this Chapter, because it exists for all matrices. \n",
    "\n",
    "In this section, let us see an example on how the eigenvalues and the corresponding eigenvectors can computed in NumPy. "
   ]
  },
  {
   "cell_type": "code",
   "metadata": {
    "ExecuteTime": {
     "end_time": "2025-01-21T20:59:22.145937Z",
     "start_time": "2025-01-21T20:59:22.138939Z"
    }
   },
   "source": [
    "import numpy as np\n",
    "from numpy import linalg as lg                  # import linalg module\n",
    "A = np.array([[1, 0, 0], [0, 1, 0], [0, 0, 1]]) # Itendy matrix\n",
    "print(f\"A=\\n{A}\")\n",
    "e, v = lg.eig(A)  \n",
    "print(f\"Eigenvalues:{e}\")\n",
    "print(f\"Eigenvectors:\\n{v}\")"
   ],
   "outputs": [
    {
     "name": "stdout",
     "output_type": "stream",
     "text": [
      "A=\n",
      "[[1 0 0]\n",
      " [0 1 0]\n",
      " [0 0 1]]\n",
      "Eigenvalues:[ 1.000  1.000  1.000]\n",
      "Eigenvectors:\n",
      "[[ 1.000  0.000  0.000]\n",
      " [ 0.000  1.000  0.000]\n",
      " [ 0.000  0.000  1.000]]\n"
     ]
    }
   ],
   "execution_count": 305
  },
  {
   "cell_type": "markdown",
   "metadata": {},
   "source": [
    "It is clearly seen that the identity matrix has 3 eigenvalues of all 1, and their corresponding eigenvectors are 3 linearly independent unit vectors. \n",
    "Let us look a more general symmetric matrix. "
   ]
  },
  {
   "cell_type": "code",
   "metadata": {
    "ExecuteTime": {
     "end_time": "2025-01-21T20:59:22.209478Z",
     "start_time": "2025-01-21T20:59:22.200802Z"
    }
   },
   "source": [
    "A = np.array([[1, 0.2, 0], [0.2, 1, 0.5], [0, 0.5, 1]]) # Symmetric A\n",
    "print(f\"A:\\n{A}\")\n",
    "e, v = lg.eig(A)  \n",
    "print(f\"Eigenvalues:{e}\\n Eigenvectors:\\n{v}\")"
   ],
   "outputs": [
    {
     "name": "stdout",
     "output_type": "stream",
     "text": [
      "A:\n",
      "[[ 1.000  0.200  0.000]\n",
      " [ 0.200  1.000  0.500]\n",
      " [ 0.000  0.500  1.000]]\n",
      "Eigenvalues:[ 1.539  1.000  0.461]\n",
      " Eigenvectors:\n",
      "[[-0.263  0.928  0.263]\n",
      " [-0.707 -0.000 -0.707]\n",
      " [-0.657 -0.371  0.657]]\n"
     ]
    }
   ],
   "execution_count": 306
  },
  {
   "cell_type": "markdown",
   "metadata": {},
   "source": [
    "We obtain 3 eigenvalues and their corresponding eigenvectors, and they all are real numbers. These eigenvectors are orthonormal. To see this, lets compute:"
   ]
  },
  {
   "cell_type": "code",
   "metadata": {
    "ExecuteTime": {
     "end_time": "2025-01-21T20:59:22.256081Z",
     "start_time": "2025-01-21T20:59:22.248720Z"
    }
   },
   "source": [
    "print(np.dot(v,v.T))"
   ],
   "outputs": [
    {
     "name": "stdout",
     "output_type": "stream",
     "text": [
      "[[ 1.000  0.000  0.000]\n",
      " [ 0.000  1.000 -0.000]\n",
      " [ 0.000 -0.000  1.000]]\n"
     ]
    }
   ],
   "execution_count": 307
  },
  {
   "cell_type": "markdown",
   "metadata": {},
   "source": [
    "This means that all these 3 eigenvectors are orthogonal with each other, and the dot-product between them become unit. We are now ready to recover the original matrix A, using these eigenvalues and eigenvectors. "
   ]
  },
  {
   "cell_type": "code",
   "metadata": {
    "ExecuteTime": {
     "end_time": "2025-01-21T20:59:22.303151Z",
     "start_time": "2025-01-21T20:59:22.299055Z"
    }
   },
   "source": [
    "print(A)\n",
    "Lamda = np.eye(3)*e\n",
    "A_recovered = v@Lamda@v.T\n",
    "print(A_recovered)"
   ],
   "outputs": [
    {
     "name": "stdout",
     "output_type": "stream",
     "text": [
      "[[ 1.000  0.200  0.000]\n",
      " [ 0.200  1.000  0.500]\n",
      " [ 0.000  0.500  1.000]]\n",
      "[[ 1.000  0.200  0.000]\n",
      " [ 0.200  1.000  0.500]\n",
      " [ 0.000  0.500  1.000]]\n"
     ]
    }
   ],
   "execution_count": 308
  },
  {
   "cell_type": "markdown",
   "metadata": {},
   "source": [
    "It is clear that matrix A is recovered with the machine error. This means that the information in matrix $\\mathbf {A}$ is fully kept in its eigenvalues and eigenvectors. \n",
    "\n",
    "Next, we use the eigenvalues and eigenvectors to compute its inverse, using Eq.($\\ref{eqsed4}$)."
   ]
  },
  {
   "cell_type": "code",
   "metadata": {
    "ExecuteTime": {
     "end_time": "2025-01-21T20:59:22.366166Z",
     "start_time": "2025-01-21T20:59:22.351345Z"
    }
   },
   "source": [
    "Lamda_inv = np.eye(3)/e\n",
    "A_inv = v@Lamda_inv@v.T\n",
    "print(A_inv)"
   ],
   "outputs": [
    {
     "name": "stdout",
     "output_type": "stream",
     "text": [
      "[[ 1.056 -0.282  0.141]\n",
      " [-0.282  1.408 -0.704]\n",
      " [ 0.141 -0.704  1.352]]\n"
     ]
    }
   ],
   "execution_count": 309
  },
  {
   "cell_type": "markdown",
   "metadata": {},
   "source": [
    "which is the same as that obtained using directly the numpy.linalg.inv() function: "
   ]
  },
  {
   "cell_type": "code",
   "metadata": {
    "ExecuteTime": {
     "end_time": "2025-01-21T20:59:22.428380Z",
     "start_time": "2025-01-21T20:59:22.420296Z"
    }
   },
   "source": [
    "from numpy.linalg import inv\n",
    "print(inv(A))"
   ],
   "outputs": [
    {
     "name": "stdout",
     "output_type": "stream",
     "text": [
      "[[ 1.056 -0.282  0.141]\n",
      " [-0.282  1.408 -0.704]\n",
      " [ 0.141 -0.704  1.352]]\n"
     ]
    }
   ],
   "execution_count": 310
  },
  {
   "cell_type": "markdown",
   "metadata": {},
   "source": [
    "Let us now compute the eigenvalues and eigenvectors of an asymmetric matrix. "
   ]
  },
  {
   "cell_type": "code",
   "metadata": {
    "ExecuteTime": {
     "end_time": "2025-01-21T20:59:22.490172Z",
     "start_time": "2025-01-21T20:59:22.484896Z"
    }
   },
   "source": [
    "A = np.array([[1,-0.2, 0], [0.1, 1,-0.5], [0, 0.3, 1]]) # Symmetric A\n",
    "print(f\"A:\\n{A}\")\n",
    "e, v = lg.eig(A)  \n",
    "print(f\"Eigenvalues:{e}\\n Eigenvectors:\\n{v}\")"
   ],
   "outputs": [
    {
     "name": "stdout",
     "output_type": "stream",
     "text": [
      "A:\n",
      "[[ 1.000 -0.200  0.000]\n",
      " [ 0.100  1.000 -0.500]\n",
      " [ 0.000  0.300  1.000]]\n",
      "Eigenvalues:[1.+0.j     1.+0.4123j 1.-0.4123j]\n",
      " Eigenvectors:\n",
      "[[-9.8058e-01+0.j      3.6503e-16+0.3651j  3.6503e-16-0.3651j]\n",
      " [ 1.0678e-17+0.j      7.5277e-01+0.j      7.5277e-01-0.j    ]\n",
      " [-1.9612e-01+0.j     -1.0953e-16-0.5477j -1.0953e-16+0.5477j]]\n"
     ]
    }
   ],
   "execution_count": 311
  },
  {
   "cell_type": "markdown",
   "metadata": {},
   "source": [
    "We now see one real eigenvalue, but other two eigenvalues are complex valued. These two complex eigenvalues are conjugates of each other. Similar observations are for the eigenvectors. We conclude that real asymmetric matrix can have complex eigenvalues and eigenvectors. Complex valued matrices shall in general have complex eigenvalues and eigenvectors. A special class of complex valued matrices call the Hermitian matrix (self-adjoint matrix) has real eigenvalues. \n",
    "\n",
    "This example shows that the complex space is geometrically closed, but the real space is not.  An n by n real matrix should have n eigenvalues (and eigenvectors) but they may not be all in the real space. Some of them get into the complex space (that with the real space as its special case).  "
   ]
  },
  {
   "cell_type": "markdown",
   "metadata": {},
   "source": [
    "#### Condition number of a matrix"
   ]
  },
  {
   "cell_type": "markdown",
   "metadata": {},
   "source": [
    "Condition number of a matrix is a measure of the \"level\" of singularity. There are a number of options of norms for compute the condition number. It is always larger than or equal to 1 for any measure. This implies that the best condition of a matrix is 1, which is the condition number of any unit matrix that has no (the lowest) singularity. Any other matrix shall have some level of singularity. The condition number for a matrix with the highest level of singularity is infinite. Let us see some examples. "
   ]
  },
  {
   "cell_type": "code",
   "metadata": {
    "ExecuteTime": {
     "end_time": "2025-01-21T20:59:22.553092Z",
     "start_time": "2025-01-21T20:59:22.537630Z"
    }
   },
   "source": [
    "from numpy import linalg as lg       \n",
    "A = np.array([[1, 0, 0], [0, 1, 0], [0, 0, 1]])     # A unit matrix\n",
    "                        # Clearly, it has 3 eigenvalues of all 1.0\n",
    "print(A, '\\n Condition number of A=',lg.cond(A))  # or lg.cond(A,2)  \n",
    "                                       # Option 2-> L2 more measure"
   ],
   "outputs": [
    {
     "name": "stdout",
     "output_type": "stream",
     "text": [
      "[[1 0 0]\n",
      " [0 1 0]\n",
      " [0 0 1]] \n",
      " Condition number of A= 1.0\n"
     ]
    }
   ],
   "execution_count": 312
  },
  {
   "cell_type": "markdown",
   "metadata": {},
   "source": [
    "Because matrix A is a unit matrix, we got condition number of 1, as expected. Another example:"
   ]
  },
  {
   "cell_type": "code",
   "metadata": {
    "ExecuteTime": {
     "end_time": "2025-01-21T20:59:22.645481Z",
     "start_time": "2025-01-21T20:59:22.632235Z"
    }
   },
   "source": [
    "A = np.array([[1, 0, 0], [0, 1, 0], [0, 0, 0]])  # A singular matrix\n",
    "           # It has 2 eigenvalues of all 1.0, and 1 eigenvalue of 0\n",
    "print(A, '\\n Condition number of A=',lg.cond(A))"
   ],
   "outputs": [
    {
     "name": "stdout",
     "output_type": "stream",
     "text": [
      "[[1 0 0]\n",
      " [0 1 0]\n",
      " [0 0 0]] \n",
      " Condition number of A= inf\n"
     ]
    }
   ],
   "execution_count": 313
  },
  {
   "cell_type": "markdown",
   "metadata": {},
   "source": [
    "Because matrix A is singular, its condition number is inf that is a numpy number for infinity, as expected. More example:"
   ]
  },
  {
   "cell_type": "code",
   "metadata": {
    "ExecuteTime": {
     "end_time": "2025-01-21T20:59:22.706509Z",
     "start_time": "2025-01-21T20:59:22.701474Z"
    }
   },
   "source": [
    "A = np.array([[1, 0, 0], [0, 1, 0], [0, 0, 10.]]) # Last entry is 10.\n",
    "print(A, '\\n Condition number of A=',lg.cond(A))"
   ],
   "outputs": [
    {
     "name": "stdout",
     "output_type": "stream",
     "text": [
      "[[ 1.000  0.000  0.000]\n",
      " [ 0.000  1.000  0.000]\n",
      " [ 0.000  0.000  10.000]] \n",
      " Condition number of A= 10.0\n"
     ]
    }
   ],
   "execution_count": 314
  },
  {
   "cell_type": "markdown",
   "metadata": {},
   "source": [
    "The condition number of this A is 10.0, which is 10.0/1.0. Again, the condition number is  the ratio of the largest eigenvalue and the smallest eigenvalue. We can now conclude if the largest eigenvalue of a matrix is very large or the smallest eigenvalue of the matrix is very small, the matrix is likely singular, depends on their ratio. \n",
    "\n",
    "This finding implies that a normalization to a matrix (which is often done in machine learning) will not in theory change its condition number. It may help in reducing the loss of significant digits (because of the limited presentation of floats in computer hardware). "
   ]
  },
  {
   "cell_type": "markdown",
   "metadata": {},
   "source": [
    "#### Rank of a matrix"
   ]
  },
  {
   "cell_type": "markdown",
   "metadata": {},
   "source": [
    "We mentioned rank before. If a square matrix has a full rank, implies that all the columns (or rows) are mutually linearly-independent. Such a matrix is not singular. For a singular matrix, its rank should be less than full, which is called rank deficiency. One can further ask what the level of rack deficiency is. The answer is the deficit number of its rank. Essentially, if the matrix has a rank of 2, we know that two linearly independent vectors can be formed using these columns (or rows) in the matrix. \n",
    "\n",
    "For a non-square matrix, the full rank is the number of its columns or rows whichever is smaller. Similarly, it can also have rank deficiency if the rank is smaller than the full rank. \n",
    "\n",
    "Let us now examine it in more detail using NumPy. "
   ]
  },
  {
   "cell_type": "code",
   "metadata": {
    "ExecuteTime": {
     "end_time": "2025-01-21T20:59:22.768079Z",
     "start_time": "2025-01-21T20:59:22.753641Z"
    }
   },
   "source": [
    "from numpy.linalg import matrix_rank, eig\n",
    "print(f\"Rank={matrix_rank(np.eye(4))}\")             # Identity matrix  "
   ],
   "outputs": [
    {
     "name": "stdout",
     "output_type": "stream",
     "text": [
      "Rank=4\n"
     ]
    }
   ],
   "execution_count": 315
  },
  {
   "cell_type": "markdown",
   "metadata": {},
   "source": [
    "It is seen that the identity matrix has a shape of 4x4. It has a full rank"
   ]
  },
  {
   "cell_type": "code",
   "metadata": {
    "ExecuteTime": {
     "end_time": "2025-01-21T20:59:22.844977Z",
     "start_time": "2025-01-21T20:59:22.825546Z"
    }
   },
   "source": [
    "A = np.array([[1,-0.2, 0], [0.1, 1,-0.5], [0.1, 1,-0.5]])  # singular A\n",
    "print(A, '\\n Rank=', matrix_rank(A))"
   ],
   "outputs": [
    {
     "name": "stdout",
     "output_type": "stream",
     "text": [
      "[[ 1.000 -0.200  0.000]\n",
      " [ 0.100  1.000 -0.500]\n",
      " [ 0.100  1.000 -0.500]] \n",
      " Rank= 2\n"
     ]
    }
   ],
   "execution_count": 316
  },
  {
   "cell_type": "markdown",
   "metadata": {},
   "source": [
    "This singular matrix has two linearly independent columns, and hence a rank of 2. It has a rank deficiency of 1. Thus, it should also have a zero eigenvalue, as shown below. If the matrix has a rank deficiency of $n$, it shall have $n$ zero eigenvalues. This is easy checked out using NumPy.  "
   ]
  },
  {
   "cell_type": "code",
   "metadata": {
    "ExecuteTime": {
     "end_time": "2025-01-21T20:59:22.891188Z",
     "start_time": "2025-01-21T20:59:22.877908Z"
    }
   },
   "source": [
    "np.set_printoptions(formatter={'float': '{: 0.3f}'.format})\n",
    "eig(A)"
   ],
   "outputs": [
    {
     "data": {
      "text/plain": [
       "(array([ 0.956,  0.544, -0.000]),\n",
       " array([[ 0.955, -0.296,  0.088],\n",
       "        [ 0.209, -0.675,  0.438],\n",
       "        [ 0.209, -0.675,  0.894]]))"
      ]
     },
     "execution_count": 317,
     "metadata": {},
     "output_type": "execute_result"
    }
   ],
   "execution_count": 317
  },
  {
   "cell_type": "code",
   "metadata": {
    "ExecuteTime": {
     "end_time": "2025-01-21T20:59:22.985162Z",
     "start_time": "2025-01-21T20:59:22.975658Z"
    }
   },
   "source": [
    "A = np.array([[1, -0.2, 0], [0.1, 1, -0.5]]) \n",
    "print(f\"A:\\n{A} Rank={matrix_rank(A)}\")"
   ],
   "outputs": [
    {
     "name": "stdout",
     "output_type": "stream",
     "text": [
      "A:\n",
      "[[ 1.000 -0.200  0.000]\n",
      " [ 0.100  1.000 -0.500]] Rank=2\n"
     ]
    }
   ],
   "execution_count": 318
  },
  {
   "cell_type": "markdown",
   "metadata": {},
   "source": [
    "The matrix has only two rows, and a rank of 2. It has a full rank. "
   ]
  },
  {
   "cell_type": "markdown",
   "metadata": {},
   "source": [
    "### Rotation matrix"
   ]
  },
  {
   "cell_type": "markdown",
   "metadata": {},
   "source": [
    "For two-dimensional cases, the rotation matrix can be given as follows. \n",
    "\n",
    "$$\n",
    "\\mathbf{R} = \\begin{bmatrix}\n",
    "  \\cos \\theta &  -\\sin \\theta \\\\\n",
    "  \\sin \\theta & \\cos \\theta \\\\\n",
    "  \\end{bmatrix}\n",
    "$$\n",
    "\n",
    "where $\\mathbf{R}$ is the transformation (or rotation) matrix, and $\\theta$ is the rotation angle. For a given  vector (displacement, force, for example) can be written with two components in the coordinate system as follows. \n",
    "\n",
    "$$\\mathbf{d} = \\left[ u\\,\\, \\; \\, v  \\right]$$\n",
    "\n",
    "The new coordinates of the vector $\\mathbf{d_{\\theta}}$ that is rotated by $ \\theta$ can be computed using the rotation matrix. "
   ]
  },
  {
   "cell_type": "code",
   "metadata": {
    "ExecuteTime": {
     "end_time": "2025-01-21T20:59:23.079821Z",
     "start_time": "2025-01-21T20:59:23.073755Z"
    }
   },
   "source": [
    "import numpy as np\n",
    "theta = 45                           # Degree\n",
    "thetarad = np.deg2rad(theta)\n",
    "c, s= np.cos(thetarad), np.sin(thetarad)\n",
    "R = np.array([[c, -s],\n",
    "              [s,  c]]) \n",
    "print(f\"Rotation matrix R:\\n{R}\")"
   ],
   "outputs": [
    {
     "name": "stdout",
     "output_type": "stream",
     "text": [
      "Rotation matrix R:\n",
      "[[ 0.707 -0.707]\n",
      " [ 0.707  0.707]]\n"
     ]
    }
   ],
   "execution_count": 319
  },
  {
   "cell_type": "code",
   "metadata": {
    "ExecuteTime": {
     "end_time": "2025-01-21T20:59:23.127563Z",
     "start_time": "2025-01-21T20:59:23.120561Z"
    }
   },
   "source": [
    "d = np.array([1, 0])                 # Original vector "
   ],
   "outputs": [],
   "execution_count": 320
  },
  {
   "cell_type": "code",
   "metadata": {
    "ExecuteTime": {
     "end_time": "2025-01-21T20:59:23.189807Z",
     "start_time": "2025-01-21T20:59:23.178294Z"
    }
   },
   "source": [
    "R @ d                                # rotated by theta"
   ],
   "outputs": [
    {
     "data": {
      "text/plain": [
       "array([ 0.707,  0.707])"
      ]
     },
     "execution_count": 321,
     "metadata": {},
     "output_type": "execute_result"
    }
   ],
   "execution_count": 321
  },
  {
   "cell_type": "code",
   "metadata": {
    "ExecuteTime": {
     "end_time": "2025-01-21T20:59:23.237370Z",
     "start_time": "2025-01-21T20:59:23.230369Z"
    }
   },
   "source": [
    "R @ (R@d)                            # rotated by 2 thetas"
   ],
   "outputs": [
    {
     "data": {
      "text/plain": [
       "array([ 0.000,  1.000])"
      ]
     },
     "execution_count": 322,
     "metadata": {},
     "output_type": "execute_result"
    }
   ],
   "execution_count": 322
  },
  {
   "cell_type": "code",
   "metadata": {
    "ExecuteTime": {
     "end_time": "2025-01-21T20:59:23.300383Z",
     "start_time": "2025-01-21T20:59:23.295309Z"
    }
   },
   "source": [
    "R @ R                                # 2 theta rotations"
   ],
   "outputs": [
    {
     "data": {
      "text/plain": [
       "array([[ 0.000, -1.000],\n",
       "       [ 1.000,  0.000]])"
      ]
     },
     "execution_count": 323,
     "metadata": {},
     "output_type": "execute_result"
    }
   ],
   "execution_count": 323
  },
  {
   "cell_type": "code",
   "metadata": {
    "ExecuteTime": {
     "end_time": "2025-01-21T20:59:23.411700Z",
     "start_time": "2025-01-21T20:59:23.397856Z"
    }
   },
   "source": [
    "R @ (R@(R @ R))                      # 4 theta rotations"
   ],
   "outputs": [
    {
     "data": {
      "text/plain": [
       "array([[-1.000,  0.000],\n",
       "       [ 0.000, -1.000]])"
      ]
     },
     "execution_count": 324,
     "metadata": {},
     "output_type": "execute_result"
    }
   ],
   "execution_count": 324
  },
  {
   "cell_type": "code",
   "metadata": {
    "ExecuteTime": {
     "end_time": "2025-01-21T20:59:23.552133Z",
     "start_time": "2025-01-21T20:59:23.538936Z"
    }
   },
   "source": [
    "R@(R @ (R@(R @ (R @ (R@(R @ R))))))  # 8 theta rotations = no rotation"
   ],
   "outputs": [
    {
     "data": {
      "text/plain": [
       "array([[ 1.000,  0.000],\n",
       "       [ 0.000,  1.000]])"
      ]
     },
     "execution_count": 325,
     "metadata": {},
     "output_type": "execute_result"
    }
   ],
   "execution_count": 325
  },
  {
   "cell_type": "markdown",
   "metadata": {},
   "source": [
    "### Interpolation"
   ]
  },
  {
   "cell_type": "markdown",
   "metadata": {},
   "source": [
    "Interpolation is a frequently used numerical technique for getting approximated date based on known data. Machine learning is in some way quite similar to the interpolation. This section studies general issues related to interpolation, using numpy. Interpolation is also known as curve fitting. We show here some examples of function interpolation and approximation, using values given at discrete points in a space."
   ]
  },
  {
   "cell_type": "markdown",
   "metadata": {},
   "source": [
    "Let us try numpy.interp first. More descriptions can also be found in [Scipy documentation](https://docs.scipy.org/doc/numpy-1.13.0/reference/generated/numpy.interp.html). "
   ]
  },
  {
   "cell_type": "markdown",
   "metadata": {},
   "source": [
    "#### 1-D piecewise linear interpolation using numpy.interp"
   ]
  },
  {
   "cell_type": "code",
   "metadata": {
    "ExecuteTime": {
     "end_time": "2025-01-21T20:59:23.783951Z",
     "start_time": "2025-01-21T20:59:23.771288Z"
    }
   },
   "source": [
    "# Data avaliable\n",
    "xn = [1, 2, 3]                  # data: given coordinates x \n",
    "fn = [3, 2, 0]                  # data: given function values at x \n",
    "# Query/Prediction f at a new location of x\n",
    "x = 1.5\n",
    "f = np.interp(x, xn, fn)        # get approximated value at x \n",
    "print(f\"f({x:.3f})≈{f:.3f}\")"
   ],
   "outputs": [
    {
     "name": "stdout",
     "output_type": "stream",
     "text": [
      "f(1.500)≈2.500\n"
     ]
    }
   ],
   "execution_count": 326
  },
  {
   "cell_type": "code",
   "metadata": {
    "ExecuteTime": {
     "end_time": "2025-01-21T20:59:23.908679Z",
     "start_time": "2025-01-21T20:59:23.885313Z"
    }
   },
   "source": [
    "np.interp(2, xn, fn)            # Is it a data-passing interpolation?"
   ],
   "outputs": [
    {
     "data": {
      "text/plain": [
       "2.0"
      ],
      "image/png": "[encoded data removed]",
      "text/latex": "$\\displaystyle 2.0$"
     },
     "execution_count": 327,
     "metadata": {},
     "output_type": "execute_result"
    }
   ],
   "execution_count": 327
  },
  {
   "cell_type": "code",
   "metadata": {
    "ExecuteTime": {
     "end_time": "2025-01-21T20:59:24.047583Z",
     "start_time": "2025-01-21T20:59:24.038517Z"
    }
   },
   "source": [
    "np.interp([0, 1, 1.5, 2.72, 3.14], xn, fn)  # querying at more points "
   ],
   "outputs": [
    {
     "data": {
      "text/plain": [
       "array([ 3.000,  3.000,  2.500,  0.560,  0.000])"
      ]
     },
     "execution_count": 328,
     "metadata": {},
     "output_type": "execute_result"
    }
   ],
   "execution_count": 328
  },
  {
   "cell_type": "code",
   "metadata": {
    "ExecuteTime": {
     "end_time": "2025-01-21T20:59:24.155743Z",
     "start_time": "2025-01-21T20:59:24.135334Z"
    }
   },
   "source": [
    "np.interp(3.5, xn, fn)"
   ],
   "outputs": [
    {
     "data": {
      "text/plain": [
       "0.0"
      ],
      "image/png": "[encoded data removed]",
      "text/latex": "$\\displaystyle 0.0$"
     },
     "execution_count": 329,
     "metadata": {},
     "output_type": "execute_result"
    }
   ],
   "execution_count": 329
  },
  {
   "cell_type": "markdown",
   "metadata": {},
   "source": [
    "In practice, we know that interpolation can be a quite dangerous operation, and hence extra care is required, especially when extrapolating. To avoid or to be made aware of an extrapolation, one can set a warning, when the interpolation is occurred outside the domain where the data covers. "
   ]
  },
  {
   "cell_type": "code",
   "metadata": {
    "ExecuteTime": {
     "end_time": "2025-01-21T20:59:24.203026Z",
     "start_time": "2025-01-21T20:59:24.188548Z"
    }
   },
   "source": [
    "out_of_domain = -109109109.0                # A warning number is used\n",
    "print(np.interp(2.9, xn, fn, right=out_of_domain)) \n",
    "                      # print out the number when extrapolation occurs \n",
    "print(np.interp(3.5, xn, fn, right=out_of_domain))"
   ],
   "outputs": [
    {
     "name": "stdout",
     "output_type": "stream",
     "text": [
      "0.20000000000000018\n",
      "-109109109.0\n"
     ]
    }
   ],
   "execution_count": 330
  },
  {
   "cell_type": "markdown",
   "metadata": {},
   "source": [
    "Interpolation using higher order polynomials can be more accurate but can also be bigger a problem. Piecewise linear approximation has often been found much safer and can be very effective, when dense data is available. The following is an example using piecewise linear interpolation for the approximation of a sine function."
   ]
  },
  {
   "cell_type": "code",
   "metadata": {
    "ExecuteTime": {
     "end_time": "2025-01-21T20:59:24.361417Z",
     "start_time": "2025-01-21T20:59:24.241155Z"
    }
   },
   "source": [
    "import matplotlib.pyplot as plt       # module for plot the results\n",
    "x = np.linspace(0, 2*np.pi, 20)       # data: x values \n",
    "y = np.sin(x)                         # data: function values at x\n",
    "xvals = np.linspace(0, 2*np.pi, 50)   # generate dense x data at which\n",
    "                                      # the values are obtained\n",
    "                                      # via interpolation\n",
    "yinterp = np.interp(xvals, x, y) \n",
    "plt.plot(x, y, 'o')                   # plot the original data points\n",
    "plt.plot(xvals, yinterp, '-x')        # plot interpolated data points\n",
    "plt.show()                            # show the plots"
   ],
   "outputs": [
    {
     "data": {
      "text/plain": [
       "<Figure size 432x288 with 1 Axes>"
      ],
      "image/png": "[encoded data removed]"
     },
     "metadata": {
      "needs_background": "light"
     },
     "output_type": "display_data"
    }
   ],
   "execution_count": 331
  },
  {
   "cell_type": "markdown",
   "metadata": {},
   "source": [
    "#### 1-D least-squares solution approximation\n",
    "This is to fit a given set of data with a straight line in $x-y$ plane, \n",
    "\n",
    "$$y = \\mathcal{w}x + b $$\n",
    "\n",
    "We shall determine the gradient $\\mathcal{w}$ and bias $b$, using the data pair $[x_i, y_i]$.\n",
    "In this example, the above equation can be rewritten as \n",
    "\n",
    "$$ y = \\mathbf{x} \\mathbf{w} $$\n",
    "\n",
    "where $\\mathbf{x} = [x, \\; 1]$ and $\\mathbf{w} = [\\mathcal{w}, b]^\\top$. Now, we can use the np.linalg.lstsq to solve for $\\mathbf{w}$: "
   ]
  },
  {
   "cell_type": "code",
   "metadata": {
    "ExecuteTime": {
     "end_time": "2025-01-21T20:59:24.408564Z",
     "start_time": "2025-01-21T20:59:24.400054Z"
    }
   },
   "source": [
    "w_true, b_true = 1.0, -1.0                 # used for generating data\n",
    "\n",
    "x = np.array([0, 1, 2, 3])                 # x value at which data  \n",
    "                                           # will be generated\n",
    "X = np.vstack([np.ones(len(x)), x]).T      # Form the matrix of data\n",
    "X"
   ],
   "outputs": [
    {
     "data": {
      "text/plain": [
       "array([[ 1.000,  0.000],\n",
       "       [ 1.000,  1.000],\n",
       "       [ 1.000,  2.000],\n",
       "       [ 1.000,  3.000]])"
      ]
     },
     "execution_count": 332,
     "metadata": {},
     "output_type": "execute_result"
    }
   ],
   "execution_count": 332
  },
  {
   "cell_type": "code",
   "metadata": {
    "ExecuteTime": {
     "end_time": "2025-01-21T20:59:24.566409Z",
     "start_time": "2025-01-21T20:59:24.520342Z"
    }
   },
   "source": [
    "y = w_true*x + b_true + 0.1*np.random.rand(len(x))  # generate y data\n",
    "                                            # with random noise added \n",
    "print(y)\n",
    "b, w = np.linalg.lstsq(X, y, rcond=None)[0]\n",
    "b, w "
   ],
   "outputs": [
    {
     "name": "stdout",
     "output_type": "stream",
     "text": [
      "[-0.997  0.034  1.010  2.004]\n"
     ]
    },
    {
     "data": {
      "text/plain": [
       "(-0.9838718108210079, 0.9977374420264501)"
      ],
      "image/png": "[encoded data removed]",
      "text/latex": "$\\displaystyle \\left( -0.983871810821008, \\  0.99773744202645\\right)$"
     },
     "execution_count": 333,
     "metadata": {},
     "output_type": "execute_result"
    }
   ],
   "execution_count": 333
  },
  {
   "cell_type": "code",
   "metadata": {
    "ExecuteTime": {
     "end_time": "2025-01-21T20:59:24.722627Z",
     "start_time": "2025-01-21T20:59:24.718627Z"
    }
   },
   "source": [
    "#help(np.linalg.lstsq)     # to find out details of this function."
   ],
   "outputs": [],
   "execution_count": 334
  },
  {
   "cell_type": "code",
   "metadata": {
    "ExecuteTime": {
     "end_time": "2025-01-21T20:59:24.877134Z",
     "start_time": "2025-01-21T20:59:24.773356Z"
    }
   },
   "source": [
    "import matplotlib.pyplot as plt\n",
    "plt.plot(x, y, 'o', label='Original data', markersize=10)\n",
    "plt.plot(x, w*x + b, 'r', label='Fitted line')\n",
    "plt.legend()\n",
    "plt.show()"
   ],
   "outputs": [
    {
     "data": {
      "text/plain": [
       "<Figure size 432x288 with 1 Axes>"
      ],
      "image/png": "[encoded data removed]"
     },
     "metadata": {
      "needs_background": "light"
     },
     "output_type": "display_data"
    }
   ],
   "execution_count": 335
  },
  {
   "cell_type": "markdown",
   "metadata": {},
   "source": [
    "We have, in fact, created a simplest machine learning model, known as linear regression. \n",
    "\n",
    "Scipy package offers efficient functions for machine learning computations, including interpolation. Let us examine some examples that are available at the [Scipy documentation](https://docs.scipy.org/doc/scipy/reference/tutorial/interpolate.html)."
   ]
  },
  {
   "cell_type": "markdown",
   "metadata": {},
   "source": [
    "#### 1-D interpolation using interp1d"
   ]
  },
  {
   "cell_type": "code",
   "metadata": {
    "ExecuteTime": {
     "end_time": "2025-01-21T20:59:25.047800Z",
     "start_time": "2025-01-21T20:59:24.924360Z"
    }
   },
   "source": [
    "import numpy as np\n",
    "from scipy import interpolate\n",
    "from scipy.interpolate import interp1d \n",
    "import matplotlib.pyplot as plt\n",
    "\n",
    "plt.figure(figsize=(8,5))\n",
    "x0, xL = 0, 18\n",
    "x = np.linspace(x0, xL, num=11, endpoint=True)   # x data points\n",
    "y = np.sin(-x**3/8.0)                            # y data points\n",
    "print(f\"x.shape:{x.shape} y.shape:{y.shape}\")\n",
    "\n",
    "f = interp1d(x, y)                               # linear interpolation \n",
    "f2 = interp1d(x, y, kind='cubic')                # Cubit interpolation \n",
    "             # try also quadratic\n",
    "    \n",
    "xnew = np.linspace(x0,xL,num=41,endpoint=True)   # x prediction points\n",
    "plt.plot(x, y, 'o', xnew, f(xnew), '-', xnew, f2(xnew), '--')\n",
    "plt.legend(['data', 'linear', 'cubic'], loc='best')\n",
    "plt.show()"
   ],
   "outputs": [
    {
     "name": "stdout",
     "output_type": "stream",
     "text": [
      "x.shape:(11,) y.shape:(11,)\n"
     ]
    },
    {
     "data": {
      "text/plain": [
       "<Figure size 576x360 with 1 Axes>"
      ],
      "image/png": "[encoded data removed]"
     },
     "metadata": {
      "needs_background": "light"
     },
     "output_type": "display_data"
    }
   ],
   "execution_count": 336
  },
  {
   "cell_type": "markdown",
   "metadata": {},
   "source": [
    "#### Two-dimensional spline representation using bisplrep"
   ]
  },
  {
   "cell_type": "code",
   "metadata": {
    "scrolled": false,
    "ExecuteTime": {
     "end_time": "2025-01-21T20:59:25.236247Z",
     "start_time": "2025-01-21T20:59:25.081854Z"
    }
   },
   "source": [
    "x, y = np.mgrid[-1:1:28j, -1:1:28j]           # x, y data at 20x20 grid\n",
    "z = (x**2+y**2)*np.exp(-2.0*(x*x+y*y+x*y))    # z data\n",
    "plt.figure()\n",
    "plt.pcolor(x, y, z)           # plot the initial data\n",
    "plt.colorbar()\n",
    "plt.title(\"Function sampled at discrete points\")\n",
    "plt.show()"
   ],
   "outputs": [
    {
     "data": {
      "text/plain": [
       "<Figure size 432x288 with 2 Axes>"
      ],
      "image/png": "[encoded data removed]"
     },
     "metadata": {
      "needs_background": "light"
     },
     "output_type": "display_data"
    }
   ],
   "execution_count": 337
  },
  {
   "cell_type": "code",
   "metadata": {
    "ExecuteTime": {
     "end_time": "2025-01-21T20:59:25.629705Z",
     "start_time": "2025-01-21T20:59:25.269887Z"
    }
   },
   "source": [
    "xnew, ynew = np.mgrid[-1:1:88j, -1:1:88j] # for view at NxN grid\n",
    "tck = interpolate.bisplrep(x, y, z, s=0)  # B-spline \n",
    "znew = interpolate.bisplev(xnew[:,0], ynew[0,:], tck)  # z value  \n",
    "                            # for plotting using the Interp func\n",
    "plt.figure()\n",
    "plt.pcolor(xnew, ynew, znew)#, shading='auto')\n",
    "plt.colorbar()\n",
    "plt.title(\"Interpolated function.\")\n",
    "plt.show()"
   ],
   "outputs": [
    {
     "data": {
      "text/plain": [
       "<Figure size 432x288 with 2 Axes>"
      ],
      "image/png": "[encoded data removed]"
     },
     "metadata": {
      "needs_background": "light"
     },
     "output_type": "display_data"
    }
   ],
   "execution_count": 338
  },
  {
   "cell_type": "markdown",
   "metadata": {},
   "source": [
    "#### Radial basis functions for smoothing and interpolation"
   ]
  },
  {
   "cell_type": "markdown",
   "metadata": {},
   "source": [
    "Radial basis functions (RBFs) are useful basis functions for approximation of functions. RBFs are distance functions, and hence works well for irregular grids (even randomly distributed points), in high dimensions, and often found less prone to over-fitting. It is used also for constructing meshfree methods \\cite{liu2002mesh}. In using Scipy, the choices of RBFs are: \n",
    "\n",
    "* 'multiquadric': sqrt((r/self.epsilon)**2 + 1)\n",
    "\n",
    "* 'inverse': 1.0/sqrt((r/self.epsilon)**2 + 1)\n",
    "\n",
    "* 'gaussian': exp(-(r/self.epsilon)**2)\n",
    "\n",
    "* 'linear': r\n",
    "\n",
    "* 'cubic': r**3\n",
    "\n",
    "* 'quintic': r**5\n",
    "\n",
    "* 'thin_plate': r**2 * log(r)\n",
    "\n",
    "The default is ‘multiquadric’. "
   ]
  },
  {
   "cell_type": "markdown",
   "metadata": {},
   "source": [
    "First, let us look at one-dimensional examples. "
   ]
  },
  {
   "cell_type": "code",
   "metadata": {
    "ExecuteTime": {
     "end_time": "2025-01-21T20:59:25.677209Z",
     "start_time": "2025-01-21T20:59:25.662922Z"
    }
   },
   "source": [
    "import numpy as np\n",
    "from scipy.interpolate import Rbf, InterpolatedUnivariateSpline\n",
    "import matplotlib.pyplot as plt"
   ],
   "outputs": [],
   "execution_count": 339
  },
  {
   "cell_type": "code",
   "metadata": {
    "ExecuteTime": {
     "end_time": "2025-01-21T20:59:25.942172Z",
     "start_time": "2025-01-21T20:59:25.709267Z"
    }
   },
   "source": [
    "# Generate data\n",
    "np.set_printoptions(formatter={'float': '{: 0.3f}'.format})\n",
    "x = np.linspace(0, 10, 9)\n",
    "print(f\"x={x}\")\n",
    "y = np.sin(x)\n",
    "print(f\"y={y}\")\n",
    "# fine grids for plotting the interpolated data\n",
    "xi = np.linspace(0, 10, 101)\n",
    "\n",
    "# use fitpack2 method\n",
    "ius=InterpolatedUnivariateSpline(x,y)  # interpolation function\n",
    "yi = ius(xi)                       # interpolated values at fine grids\n",
    "plt.figure(figsize=(8,5))\n",
    "plt.subplot(2, 1, 1)               # have 2 sub-plots plotted together \n",
    "plt.plot(x, y, 'bo')               # original data points in blue dots\n",
    "plt.plot(xi, np.sin(xi), 'r')      # original function, red line\n",
    "plt.plot(xi, yi, 'g')              # Spline interpolated, green line\n",
    "plt.title('Interpolation using univariate spline')\n",
    "plt.show()\n",
    "\n",
    "# use RBF method\n",
    "rbf = Rbf(x, y)\n",
    "fi = rbf(xi)\n",
    "plt.figure(figsize=(8,5))\n",
    "plt.subplot(2, 1, 2)               # have 2 plots plotted together \n",
    "plt.plot(x, y, 'bo')               # original data points in blue dots\n",
    "plt.plot(xi, np.sin(xi), 'r')      # original function, red line\n",
    "plt.plot(xi, fi, 'g')              # RBF interpolated, green line\n",
    "plt.title('Interpolation using RBF - multiquadrics')\n",
    "plt.show()"
   ],
   "outputs": [
    {
     "name": "stdout",
     "output_type": "stream",
     "text": [
      "x=[ 0.000  1.250  2.500  3.750  5.000  6.250  7.500  8.750  10.000]\n",
      "y=[ 0.000  0.949  0.598 -0.572 -0.959 -0.033  0.938  0.625 -0.544]\n"
     ]
    },
    {
     "data": {
      "text/plain": [
       "<Figure size 576x360 with 1 Axes>"
      ],
      "image/png": "[encoded data removed]"
     },
     "metadata": {
      "needs_background": "light"
     },
     "output_type": "display_data"
    },
    {
     "data": {
      "text/plain": [
       "<Figure size 576x360 with 1 Axes>"
      ],
      "image/png": "[encoded data removed]"
     },
     "metadata": {
      "needs_background": "light"
     },
     "output_type": "display_data"
    }
   ],
   "execution_count": 340
  },
  {
   "cell_type": "markdown",
   "metadata": {},
   "source": [
    "We now examine some two-dimensional examples. "
   ]
  },
  {
   "cell_type": "code",
   "metadata": {
    "ExecuteTime": {
     "end_time": "2025-01-21T20:59:25.988991Z",
     "start_time": "2025-01-21T20:59:25.975518Z"
    }
   },
   "source": [
    "import numpy as np\n",
    "from scipy.interpolate import Rbf\n",
    "import matplotlib.pyplot as plt\n",
    "from matplotlib import cm"
   ],
   "outputs": [],
   "execution_count": 341
  },
  {
   "cell_type": "code",
   "metadata": {
    "ExecuteTime": {
     "end_time": "2025-01-21T20:59:26.036395Z",
     "start_time": "2025-01-21T20:59:26.022385Z"
    }
   },
   "source": [
    "# 2-d tests - setup scattered data\n",
    "x = np.random.rand(108)*4.0-2.0\n",
    "y = np.random.rand(108)*4.0-2.0\n",
    "z = (x+y)*np.exp(-x**2-y**2+x*y)\n",
    "di = np.linspace(-2.0, 2.0, 108)\n",
    "XI, YI = np.meshgrid(di, di)"
   ],
   "outputs": [],
   "execution_count": 342
  },
  {
   "cell_type": "code",
   "metadata": {
    "ExecuteTime": {
     "end_time": "2025-01-21T20:59:26.114048Z",
     "start_time": "2025-01-21T20:59:26.069918Z"
    }
   },
   "source": [
    "# use RBF https://docs.scipy.org/doc/scipy/reference/generated/scipy.\n",
    "# interpolate.Rbf.html#scipy.interpolate.Rbf\n",
    "rbf = Rbf(x, y, z, epsilon=2)\n",
    "ZI = rbf(XI, YI)"
   ],
   "outputs": [],
   "execution_count": 343
  },
  {
   "cell_type": "code",
   "metadata": {
    "scrolled": false,
    "ExecuteTime": {
     "end_time": "2025-01-21T20:59:26.411304Z",
     "start_time": "2025-01-21T20:59:26.147122Z"
    }
   },
   "source": [
    "# plot the result\n",
    "plt.pcolor(XI, YI, ZI, cmap=cm.jet)\n",
    "plt.scatter(x, y, 88, z, cmap=cm.jet)\n",
    "plt.title('RBF interpolation - multiquadrics')\n",
    "plt.xlim(-2, 2)\n",
    "plt.ylim(-2, 2)\n",
    "plt.colorbar();"
   ],
   "outputs": [
    {
     "data": {
      "text/plain": [
       "<Figure size 432x288 with 2 Axes>"
      ],
      "image/png": "[encoded data removed]"
     },
     "metadata": {
      "needs_background": "light"
     },
     "output_type": "display_data"
    }
   ],
   "execution_count": 344
  },
  {
   "cell_type": "markdown",
   "metadata": {},
   "source": [
    "RBFs can be used for interpolation over N-dimensions. The following is an example for 3D. "
   ]
  },
  {
   "cell_type": "code",
   "metadata": {
    "ExecuteTime": {
     "end_time": "2025-01-21T20:59:26.458455Z",
     "start_time": "2025-01-21T20:59:26.444907Z"
    }
   },
   "source": [
    "from scipy.interpolate import Rbf\n",
    "x, y, z, d = np.random.rand(4, 20)   # randomly generated data 0~1\n",
    "                                     # 4D, 50 points in each dimension\n",
    "#print(d)                            # original data\n",
    "rbfi = Rbf(x, y, z, d)               # RBF interpolator \n",
    "xi = yi = zi = np.linspace(0, 1, 10)\n",
    "di = rbfi(xi, yi, zi)                # interpolated values\n",
    "print(di)"
   ],
   "outputs": [
    {
     "name": "stdout",
     "output_type": "stream",
     "text": [
      "[ 0.346  0.147  0.058  0.203  0.385  0.557  0.793  1.010  1.183  1.321]\n"
     ]
    }
   ],
   "execution_count": 345
  },
  {
   "cell_type": "markdown",
   "metadata": {},
   "source": [
    "### Singular value decomposition (SVD) "
   ]
  },
  {
   "cell_type": "markdown",
   "metadata": {},
   "source": [
    "#### SVD formulation"
   ]
  },
  {
   "cell_type": "markdown",
   "metadata": {},
   "source": [
    "Singular value decomposition (SVD) is an essential tool for many numerical operations on matrices, including signal processing, statistics, and machine learning. It is a general factorization of a matrix (real or complex) that may be singular and of any shape. It is very powerful, because any such a matrix exists an SVD and can be found numerically. It is a generalization of the eigenvalue decomposition that works for diagonalizable square matrices, which is discussed earlier in this Chapter. \n",
    "\n",
    "A general (real or complex, square, or not square) $m\\times p $ matrix $\\mathbf {A}$ has the following singular value decomposition. \n",
    "\n",
    "$$ \\mathbf {A} = \\mathbf {U \\Sigma V^{*}} $$\n",
    "\n",
    "where * stands for Hessian (transpose of the matrix and conjugate to the complex values). \n",
    "* $\\mathbf {U} $ is an $ m \\times m $ unitary matrix\n",
    "\n",
    "* $\\mathbf {\\Sigma } $ is an $ m\\times p$ rectangular diagonal matrix with non-negative real numbers on the diagonal entries\n",
    "\n",
    "* $ \\mathbf {V} $ is a $p\\times p$ unitary matrix\n",
    "\n",
    "* The diagonal entries $\\sigma _{i}$ in $\\mathbf {\\Sigma}$ are known as the singular values of $\\mathbf {A}$\n",
    "\n",
    "* The columns of $\\mathbf {U} $  are called the left-singular vectors of $\\mathbf {A} $\n",
    "\n",
    "* The columns of $\\mathbf {V} $ are called the right-singular vectors of $\\mathbf {A} $\n",
    "\n",
    "More detailed discussions on SVD can be found at [Wikipedia](https://en.wikipedia.org/wiki/Singular_value_decomposition). "
   ]
  },
  {
   "cell_type": "markdown",
   "metadata": {},
   "source": [
    "#### Algorithms for SVD\n",
    "\n",
    "Computation of SVD for large matrices can be very expensive. The often-used SVD algorithm is based on the [QR decomposition](https://en.wikipedia.org/wiki/QR_decomposition), and its variations. The basic idea is to decompose the given matrix into an orthogonal matrix Q and an upper triangular matrix R. Readers can refer to the Wikipedia page for more details and the leads there on the related topic. Here we discuss a simple approach to compute SVD based on the well-established eigenvalue decomposition. This approach is not used for numerical computation of SVD. This is because it uses a normal matrix that with condition number squared, leading to numerical instability issues for large systems. For our theoretical analysis and formula derivation, this is not an issue, and thus will be used here. For this simple approach to work, we would need to impose some condition on matrix $\\mathbf{A}$. \n",
    "\n",
    "Consider a general $m\\times p $ matrix $\\mathbf{A}$ of real numbers with $ m >p$, and assume it has a rank of $p$. Such a matrix is often encountered in machine learning. We first form a normal matrix $\\mathbf {B}$:\n",
    "\\begin{equation} \\label{eqsvd0}\n",
    "\\mathbf {B} = \\mathbf {A}^\\top \\mathbf {A}\n",
    "\\end{equation} \n",
    "which will be a $p \\times p $ symmetric square matrix (smaller in size). Because matrix $\\mathbf{A}$ has a rank of $p$, $\\mathbf{B}$ will be symmetric-positive-definite (SPD). Because of the symmetry, $\\mathbf {B}$ has an eigenvalue decomposition, we perform such a decomposition. The results can be written in the form of,\n",
    "\\begin{equation} \\label{eqsvd1}\n",
    "\\mathbf {B} = \\mathbf {V}_e \\mathbf{\\Lambda} \\mathbf {V}_e^\\top \n",
    "\\end{equation} \n",
    "where $\\mathbf {V}_e $ is an $ p \\times p $ orthonormal matrix of $p$ eigenvectors of the $\\mathbf {B}$ matrix. $\\mathbf{\\Lambda} $ is an $ p\\times p$ square diagonal matrix. The diagonal entries are the eigenvalues that are positive real numbers. \n",
    "\n",
    "On the other hand, we know that matrix $\\mathbf{A}$ has a SVD decomposition, we thus also have \n",
    "\\begin{equation} \\label{eqsvd2}\n",
    "\\mathbf {A} = \\mathbf {U} \\mathbf{\\Sigma} \\mathbf {V}^\\top  \n",
    "\\end{equation}  \n",
    "\n",
    "Because matrix $\\mathbf{A}$ has a rank of $p$, the singular value in $\\mathbf{\\Sigma}$ shall all be positive real numbers. From the above equation, we have\n",
    "\\begin{equation} \\label{eqsvd3}\n",
    "\\begin{split}\n",
    "\\mathbf {A}^\\top \\mathbf {A} & = \\left(\\mathbf {U} \\mathbf {\\Sigma } \\mathbf {V}^\\top \\right)^\\top \\left(\\mathbf {U} \\mathbf{\\Sigma} \\mathbf {V}^\\top \\right) \\\\\n",
    "   & = \\mathbf {V} \\mathbf {\\Sigma } \\mathbf {U}^\\top \\mathbf {U} \\mathbf {\\Sigma } \\mathbf {V}^\\top \\\\\n",
    "   &= \\mathbf {V} \\mathbf{\\Sigma }^2 \\mathbf {V}^\\top = \\mathbf {B} \n",
    "\\end{split}\n",
    "\\end{equation}\n",
    "\n",
    "In the above derivation, we used the fact that $\\mathbf {U}$ is unitary: $\\mathbf {U}^\\top \\mathbf {U}= \\mathbf {I}$, and $\\mathbf{\\Sigma}$ is diagonal (not affected by the transpose). Compare the above equation with Eq(\\ref{eqsvd1}), we have\n",
    "\\begin{equation} \\label{eqsvd4}\n",
    "\\mathbf {V}= \\mathbf {V}_e\n",
    "\\end{equation}  \n",
    "\\begin{equation} \\label{eqsvd5}\n",
    "\\mathbf{\\Sigma } = \\sqrt{\\mathbf{\\Lambda}}\n",
    "\\end{equation}\n",
    "\n",
    "Using now Eq.(\\ref{eqsvd2}), and the orthonormal property of $\\mathbf {V}$: $\\mathbf {V}^\\top \\mathbf {V}= \\mathbf {I}$, we have \n",
    "\\begin{equation} \\label{eqsvd6}\n",
    "\\mathbf {A} \\mathbf {V} = \\mathbf {U} \\mathbf{\\Sigma} \n",
    "\\end{equation}  \n",
    "\n",
    "Because $\\mathbf{\\Sigma}$ has all positive eigenvalues, we finally obtain\n",
    "\\begin{equation} \\label{eqsvd7}\n",
    "\\mathbf {U}=\\mathbf {A} \\mathbf {V}\\mathbf{\\Sigma}^{-1}\n",
    "\\end{equation} \n",
    "\n",
    "Finally, we confirm $\\mathbf {U}$ is indeed unitary: \n",
    "\n",
    "\\begin{equation} \\label{eqsvd8}\n",
    "\\mathbf {U}^\\top\\mathbf {U}=(\\mathbf {A} \\mathbf {V}\\mathbf{\\Sigma}^{-1})^\\top \\mathbf {A} \\mathbf {V}\\mathbf{\\Sigma}^{-1} = \\mathbf{\\Sigma}^{-1} \\mathbf {V}^\\top \\mathbf {A}^\\top \\mathbf {A} \\mathbf {V}\\mathbf{\\Sigma}^{-1} = \\mathbf{\\Sigma}^{-1} \\mathbf {V}^\\top \\mathbf {V} \\mathbf{\\Sigma }^2 \\mathbf {V}^\\top \\mathbf {V}\\mathbf{\\Sigma}^{-1} = \\mathbf {I}\n",
    "\\end{equation}\n",
    "\n",
    "Finally, if $\\mathbf{A}$ is rank deficient (rank$(\\mathbf{A})<p$), matrix $\\mathbf{B}$ will have zero eigenvalues. In such cases, we simply discard all the zero-eigenvalues and their corresponding eigenvectors. This will still give us an SVD in a reduced form, and all the process given above still holds. \n",
    "\n",
    "Note that if the matrix is complex, the transpose should be changed to transpose with complex conjugate. Readers may derive the similar set of equations for a $m\\times p $ matrix $\\mathbf{A}$ of real numbers with $ p>m$, and assume it has a rank of $m$.\n"
   ]
  },
  {
   "cell_type": "markdown",
   "metadata": {},
   "source": [
    "The above analysis proves in theory that any matrix has a SVD. In practical computations, we usually do not use the above procedure to compute the SVD. This is because the condition number of matrix $\\mathbf{B}$ is squared, as seen in Eq.(12), leading to possible numerical instability. The practical SVD algorithms often use the QR decomposition of $\\mathbf{A}$, which avoids forming $\\mathbf{B}$. \n",
    "\n",
    "With the theoretical foundation, we now use some simple examples to demonstrate the SVD process using Python. "
   ]
  },
  {
   "cell_type": "markdown",
   "metadata": {},
   "source": [
    "#### Numerical examples"
   ]
  },
  {
   "cell_type": "code",
   "metadata": {
    "ExecuteTime": {
     "end_time": "2025-01-21T20:59:26.520258Z",
     "start_time": "2025-01-21T20:59:26.510929Z"
    }
   },
   "source": [
    "import numpy as np\n",
    "m, p = 6, 3\n",
    "np.set_printoptions(precision=4)\n",
    "A = np.random.randn(m, p)    # generate a matrix with random numbers\n",
    "print(A)"
   ],
   "outputs": [
    {
     "name": "stdout",
     "output_type": "stream",
     "text": [
      "[[-0.8832 -0.1563  0.2565]\n",
      " [ 0.6649 -0.1651 -1.1624]\n",
      " [-0.0746 -1.403  -0.3425]\n",
      " [ 0.4147  0.2513  0.4012]\n",
      " [-2.3534 -0.4851  0.4986]\n",
      " [ 0.4283  1.4187  1.2476]]\n"
     ]
    }
   ],
   "execution_count": 346
  },
  {
   "cell_type": "code",
   "metadata": {
    "ExecuteTime": {
     "end_time": "2025-01-21T20:59:26.598253Z",
     "start_time": "2025-01-21T20:59:26.574716Z"
    }
   },
   "source": [
    "U, s, Vh = np.linalg.svd(A, full_matrices=False) #True)\n",
    "print(U.shape, s.shape, Vh.shape)"
   ],
   "outputs": [
    {
     "name": "stdout",
     "output_type": "stream",
     "text": [
      "(6, 3) (3,) (3, 3)\n"
     ]
    }
   ],
   "execution_count": 347
  },
  {
   "cell_type": "code",
   "metadata": {
    "ExecuteTime": {
     "end_time": "2025-01-21T20:59:26.660908Z",
     "start_time": "2025-01-21T20:59:26.649211Z"
    }
   },
   "source": [
    "print(f\"U=\\n{U}\\n s={s}\\n Vh=\\n{Vh}\")"
   ],
   "outputs": [
    {
     "name": "stdout",
     "output_type": "stream",
     "text": [
      "U=\n",
      "[[-0.3089  0.1216 -0.0406]\n",
      " [ 0.2161 -0.4484 -0.5527]\n",
      " [-0.2222 -0.4644  0.7273]\n",
      " [ 0.1577  0.1419  0.3139]\n",
      " [-0.8283  0.2519 -0.2086]\n",
      " [ 0.3125  0.6964  0.1477]]\n",
      " s=[2.8587 2.4619 0.8489]\n",
      " Vh=\n",
      "[[ 0.9031  0.4229 -0.075 ]\n",
      " [-0.2464  0.6531  0.716 ]\n",
      " [ 0.3518 -0.6282  0.694 ]]\n"
     ]
    }
   ],
   "execution_count": 348
  },
  {
   "cell_type": "code",
   "metadata": {
    "ExecuteTime": {
     "end_time": "2025-01-21T20:59:26.723916Z",
     "start_time": "2025-01-21T20:59:26.711929Z"
    }
   },
   "source": [
    "S = np.zeros((p, p))\n",
    "S[:3, :3] = np.diag(s)\n",
    "print(S)"
   ],
   "outputs": [
    {
     "name": "stdout",
     "output_type": "stream",
     "text": [
      "[[2.8587 0.     0.    ]\n",
      " [0.     2.4619 0.    ]\n",
      " [0.     0.     0.8489]]\n"
     ]
    }
   ],
   "execution_count": 349
  },
  {
   "cell_type": "code",
   "metadata": {
    "ExecuteTime": {
     "end_time": "2025-01-21T20:59:26.786931Z",
     "start_time": "2025-01-21T20:59:26.773559Z"
    }
   },
   "source": [
    "np.allclose(A, np.dot(U, np.dot(S, Vh))) #Is original a recovered? "
   ],
   "outputs": [
    {
     "data": {
      "text/plain": [
       "True"
      ]
     },
     "execution_count": 350,
     "metadata": {},
     "output_type": "execute_result"
    }
   ],
   "execution_count": 350
  },
  {
   "cell_type": "code",
   "metadata": {
    "scrolled": true,
    "ExecuteTime": {
     "end_time": "2025-01-21T20:59:26.834078Z",
     "start_time": "2025-01-21T20:59:26.820717Z"
    }
   },
   "source": [
    "print(np.dot(U, np.dot(S, Vh)))"
   ],
   "outputs": [
    {
     "name": "stdout",
     "output_type": "stream",
     "text": [
      "[[-0.8832 -0.1563  0.2565]\n",
      " [ 0.6649 -0.1651 -1.1624]\n",
      " [-0.0746 -1.403  -0.3425]\n",
      " [ 0.4147  0.2513  0.4012]\n",
      " [-2.3534 -0.4851  0.4986]\n",
      " [ 0.4283  1.4187  1.2476]]\n"
     ]
    }
   ],
   "execution_count": 351
  },
  {
   "cell_type": "code",
   "metadata": {
    "ExecuteTime": {
     "end_time": "2025-01-21T20:59:26.881034Z",
     "start_time": "2025-01-21T20:59:26.867404Z"
    }
   },
   "source": [
    "np.isclose(np.dot(U, np.dot(S, Vh)), A)"
   ],
   "outputs": [
    {
     "data": {
      "text/plain": [
       "array([[ True,  True,  True],\n",
       "       [ True,  True,  True],\n",
       "       [ True,  True,  True],\n",
       "       [ True,  True,  True],\n",
       "       [ True,  True,  True],\n",
       "       [ True,  True,  True]])"
      ]
     },
     "execution_count": 352,
     "metadata": {},
     "output_type": "execute_result"
    }
   ],
   "execution_count": 352
  },
  {
   "cell_type": "markdown",
   "metadata": {},
   "source": [
    "We note here that the SVD of a matrix keeps the full information of the matrix: using all these singular values and vectors one can recover the original matrix. What if one uses only some of these singular values (and the corresponding singular vectors)? "
   ]
  },
  {
   "cell_type": "markdown",
   "metadata": {},
   "source": [
    "#### SVD for data compression\n",
    "\n",
    "We can use SVD to compress data, by discarding some (often many) of these singular values and vectors of the data matrix. The following is an example of compressing an $m \\times n$ array of an image data. "
   ]
  },
  {
   "cell_type": "code",
   "metadata": {
    "ExecuteTime": {
     "end_time": "2025-01-30T21:35:37.107167Z",
     "start_time": "2025-01-30T21:35:31.620365Z"
    }
   },
   "source": [
    "from pylab import imshow,gray,figure \n",
    "from PIL import Image, ImageOps\n",
    "import matplotlib.pyplot as plt\n",
    "import numpy as np\n",
    "%matplotlib inline\n",
    "np.set_printoptions(formatter={'float': '{: 0.3f}'.format})\n",
    "\n",
    "A = Image.open(r\"C:\\Users\\Ajpti\\PythonProjects\\MachineLearning\\MachineLearning\\Images\\hummingbird.jpg\")             # open an image\n",
    "print(np.shape(A))             # check the shape of A, it is 3D tensor\n",
    "A = np.mean(A,2)               # get 2-D array by averaging RBG values\n",
    "m, n = len(A[:,0]), len(A[1])\n",
    "r = m/n                        # Aspect ratio of the original image\n",
    "print(f'm/n={r:.3f}, n={n}, A.shape={A.shape},A.size={A.size}')\n",
    "fsize, dpi = 3, 80             # inch, dpi (dots per inch, resolution)\n",
    "plt.figure(figsize=(fsize,fsize*r), dpi=dpi)\n",
    "U, S, Vh = np.linalg.svd(A, full_matrices=True)\n",
    "print(U.shape, S.shape, Vh.shape)\n",
    "\n",
    "# Recover the image \n",
    "k = 20                                   # use first k singular values\n",
    "S = np.resize(S,(m,1))*np.eye(m,n)\n",
    "Compressed_A = np.dot(U[:,0:k], np.dot(S[0:k,0:k], Vh[0:k,:]))\n",
    "#print(Compressed_A.shape,'Compressed_A=',Compressed_A)\n",
    "plt.figure(figsize=(fsize,fsize*r), dpi=dpi)\n",
    "gray()\n",
    "print(f'Image reconstructed using k={k} singular values')\n",
    "imshow(Compressed_A)"
   ],
   "outputs": [
    {
     "name": "stdout",
     "output_type": "stream",
     "text": [
      "(1784, 2763, 3)\n",
      "m/n=0.646, n=2763, A.shape=(1784, 2763),A.size=4929192\n",
      "(1784, 1784) (1784,) (2763, 2763)\n",
      "Image reconstructed using k=20 singular values\n"
     ]
    },
    {
     "data": {
      "text/plain": [
       "<matplotlib.image.AxesImage at 0x1e3960bc320>"
      ]
     },
     "execution_count": 1,
     "metadata": {},
     "output_type": "execute_result"
    },
    {
     "data": {
      "text/plain": [
       "<Figure size 240x154.962 with 0 Axes>"
      ]
     },
     "metadata": {},
     "output_type": "display_data"
    },
    {
     "data": {
      "text/plain": [
       "<Figure size 240x154.962 with 1 Axes>"
      ],
      "image/png": "[encoded data removed]"
     },
     "metadata": {
      "needs_background": "light"
     },
     "output_type": "display_data"
    }
   ],
   "execution_count": 1
  },
  {
   "cell_type": "code",
   "metadata": {
    "scrolled": false,
    "ExecuteTime": {
     "end_time": "2025-01-30T21:35:37.559908Z",
     "start_time": "2025-01-30T21:35:37.123089Z"
    }
   },
   "source": [
    "imshow(A)"
   ],
   "outputs": [
    {
     "data": {
      "text/plain": [
       "<matplotlib.image.AxesImage at 0x1e3961beef0>"
      ]
     },
     "execution_count": 2,
     "metadata": {},
     "output_type": "execute_result"
    },
    {
     "data": {
      "text/plain": [
       "<Figure size 432x288 with 1 Axes>"
      ],
      "image/png": "[encoded data removed]"
     },
     "metadata": {
      "needs_background": "light"
     },
     "output_type": "display_data"
    }
   ],
   "execution_count": 2
  },
  {
   "cell_type": "code",
   "metadata": {
    "ExecuteTime": {
     "end_time": "2025-01-21T20:59:38.062313Z",
     "start_time": "2025-01-21T20:59:30.553545Z"
    }
   },
   "source": [
    "print(lg.cond(A))\n",
    "B = A-np.array([np.mean(A,axis=0)])            # remove the mean of A\n",
    "print(lg.cond(B))\n",
    "U, S, Vh = np.linalg.svd(A, full_matrices=True)\n",
    "print(f\"A_S={S[:7]}\")\n",
    "U, S, Vh = np.linalg.svd(B, full_matrices=True)\n",
    "print(f\"B_S={S[:7]}\")\n",
    "S = np.resize(S,[m,1])*np.eye(m,n)\n",
    "Compressed_B = np.dot(U[:,0:k], np.dot(S[0:k,0:k], Vh[0:k,:]))\n",
    "plt.figure(figsize=(fsize,fsize*r), dpi=dpi)\n",
    "imshow(Compressed_B)"
   ],
   "outputs": [
    {
     "name": "stdout",
     "output_type": "stream",
     "text": [
      "18468.19263228291\n",
      "91263071590957.47\n",
      "A_S=[ 241774.188  25343.971  19404.296  15130.477  13076.075  10730.118\n",
      "  9599.082]\n",
      "B_S=[ 27437.533  20994.389  17379.458  13422.868  11905.420  9896.629\n",
      "  9363.086]\n"
     ]
    },
    {
     "data": {
      "text/plain": [
       "<matplotlib.image.AxesImage at 0x26882840080>"
      ]
     },
     "execution_count": 355,
     "metadata": {},
     "output_type": "execute_result"
    },
    {
     "data": {
      "text/plain": [
       "<Figure size 240x154.962 with 1 Axes>"
      ],
      "image/png": "[encoded data removed]"
     },
     "metadata": {
      "needs_background": "light"
     },
     "output_type": "display_data"
    }
   ],
   "execution_count": 355
  },
  {
   "cell_type": "code",
   "metadata": {
    "ExecuteTime": {
     "end_time": "2025-01-21T20:59:38.648020Z",
     "start_time": "2025-01-21T20:59:38.098465Z"
    }
   },
   "source": [
    "from sklearn.decomposition import TruncatedSVD\n",
    "\n",
    "svd = TruncatedSVD(n_components=k, n_iter=7, random_state=42)\n",
    "A_reduced = svd.fit_transform(A)\n",
    "A_reconstructed = svd.inverse_transform(A_reduced)\n",
    "print(A.shape,A_reduced.shape,A_reconstructed.shape)\n",
    "imshow(A_reconstructed) \n",
    "#print(svd.singular_values_) # svd.components_)"
   ],
   "outputs": [
    {
     "name": "stdout",
     "output_type": "stream",
     "text": [
      "(1784, 2763) (1784, 20) (1784, 2763)\n"
     ]
    },
    {
     "data": {
      "text/plain": [
       "<matplotlib.image.AxesImage at 0x26882881518>"
      ]
     },
     "execution_count": 356,
     "metadata": {},
     "output_type": "execute_result"
    },
    {
     "data": {
      "text/plain": [
       "<Figure size 432x288 with 1 Axes>"
      ],
      "image/png": "[encoded data removed]"
     },
     "metadata": {
      "needs_background": "light"
     },
     "output_type": "display_data"
    }
   ],
   "execution_count": 356
  },
  {
   "cell_type": "markdown",
   "metadata": {},
   "source": [
    "It is clear that when k=20 (out of 349) singular values are used, the re-constructed image is quite close to the original one.  Readers may estimate how much the storage can be saved, if one keeps 10% of the singular values (and the corresponding singular vectors), assuming the reduced quality is acceptable. "
   ]
  },
  {
   "cell_type": "markdown",
   "metadata": {},
   "source": [
    "### Principal component analysis (PCA)\n",
    "\n",
    "Principal component analysis (PCA) is an effective technique to extract features from datasets. It was invented in 1901 by Karl Pearson \\cite{PearsonPCA}. It is a procedure that converts a dataset of $p$ observations (raw features) of possibly correlated to a reduced set of variables (extracted features), using an orthogonal transformation. The principal components produced via a PCA are not linearly correlated and are sorted by their variance values. Principal components in the top of the sorted list account for higher variability in the dataset. It is an effective way to reduce the dimension of feature spaces of datasets, so that machine learning models, such as the neural network can work more effectively \\cite{liu2021tubenet, duanAutoencoder2021}.  Note that PCA is known sensitive to the relative scaling of the original observations, see [Wikipedia](https://en.wikipedia.org/wiki/Principal_component_analysis#cite_note-1) for more details. \n",
    "\n",
    "PCA can be performed at least in two ways. One is to use a regression approach which finds the set of orthogonal axes in an iterative manner. The other is to use eigenvalue decomposition algorithms. The following examples use the 2nd approach. "
   ]
  },
  {
   "cell_type": "markdown",
   "metadata": {},
   "source": [
    "#### PCA formulation\n",
    "\n",
    "Consider a general $m\\times p $ matrix $\\mathbf {A}$ of real numbers with $ m >p$ that contain deviations of the sample data points from its mean. We first form a normal matrix $\\mathbf {B}$:\n",
    "\n",
    "$$ \\mathbf {B} = \\mathbf {A}^\\top \\mathbf {A} $$\n",
    "\n",
    "which is a $p \\times p $ symmetric square matrix with reduced size. Thus, it will be at least semi-positive-definite, and often symmetric-positive-definite (SPD). We can perform an eigenvalue decomposition to it, which gives,\n",
    "\n",
    "$$ \\mathbf {B} = \\mathbf {V} \\mathbf {\\Lambda } \\mathbf {V}^\\top  $$\n",
    "\n",
    "These decomposed matrices are: \n",
    "\n",
    "* $\\mathbf {V} $ is an $ p \\times p $ orthonormal matrix of $p$ eigenvectors of the $\\mathbf {B}$ matrix. \n",
    "\n",
    "* $\\mathbf {\\Lambda } $ is an $ p\\times p$ square diagonal matrix. The diagonal entries are the eigenvalues that are non-negative real numbers. \n",
    "\n",
    "The PCA is then given as \n",
    "$$ \\mathbf {A}_{PCA} = \\mathbf {A} \\mathbf {V} $$\n",
    "\n",
    "which is the projection of $\\mathbf {A}$ on these $p$ orthonormal eigenvectors. It has the same shape as the original $ \\mathbf {A}$ that is $m \\times p $.\n",
    "\n",
    "One may re-construct $ \\mathbf {A}$ using the following formula, if using all the eigenvectors.\n",
    "\n",
    "$$ \\mathbf {A}_{r}  = \\mathbf {A}_{PCA} \\mathbf {V}^\\top \n",
    "            = \\mathbf {A} \\mathbf {V} \\mathbf {V}^\\top  = \\mathbf {A} $$\n",
    "\n",
    "This is because eigenvectors are orthonormal. It is often that the first few (ranked by the value of the eigenvalues in descending order) eigenvectors contain most of the overall information of the original matrix $\\mathbf {A}$. In this case, we can use only a small number of eigenvectors to reconstruct the $\\mathbf {A}$ matrix. For example, if we use $k<<p$ number of eigenvectors, we have\n",
    "\n",
    "\\begin{equation} \\label{eq-pca1}\n",
    "\\begin{split}\n",
    "\\mathbf{A}_{r} & = \\mathbf{A}_{PCA}[0:m,0:k] \\mathbf{V}^\\top [0:k,0:p] \\\\\n",
    "     & = \\mathbf{A}[0:m,0:p] \\mathbf{V} [0:p,0:k] \\mathbf{V}^\\top [0:k,0:p] \\ne \\mathbf{A} \n",
    "\\end{split}\n",
    "\\end{equation}\n",
    "\n",
    "This will, in general, not equal the original $\\mathbf {A}$, but can be often very close to. In this case, the storage becomes $m \\times k + k \\times p$ which can be much smaller than the original size of $m \\times p$. In the foregoing equation, we used the Python syntax, and hence it is very close to that in the Python code. \n",
    "\n",
    "Note that if matrix $\\mathbf {A}$ has dimensions of with $ m < p$, we simply treat its transpose in the same way mentioned above. \n",
    "\n",
    "One can also perform a similar analysis by forming a matrix $\\mathbf {B}$ using the following equation instead. \n",
    "$$ \\mathbf {B} = \\mathbf {A} \\mathbf {A} ^\\top  $$\n",
    "\n",
    "which will be a $m \\times m $ symmetric square matrix of reduced size. Assuming it is at least semi-positive-definite, we can perform an eigenvalue decomposition to it, which gives,\n",
    "\n",
    "$$ \\mathbf {B} = \\mathbf {V} \\mathbf {\\Lambda } \\mathbf {V}^\\top  $$\n",
    "\n",
    "In this case, these decomposed matrices are: \n",
    "* $\\mathbf {V} $ is an $ m \\times m $ orthonormal matrix of $m$ eigenvectors of the $\\mathbf {B}$ matrix. \n",
    "\n",
    "* $\\mathbf {\\Lambda } $ is an $ m\\times m$ square diagonal matrix. The diagonal entries are the eigenvalues that are non-negative real numbers. \n",
    "\n",
    "The PCA is then given as \n",
    "$$ \\mathbf {A}_{PCA} = \\mathbf {V}^\\top \\mathbf {A} $$\n",
    "\n",
    "It has the same shape as the original $ \\mathbf {A}$ that is $m \\times p $. One may re-construct $ \\mathbf {A}$ using the following formula and all the eigenvectors (that are orthonormal).\n",
    "$$ \\mathbf {A}_{r}  = \\mathbf {V}\\mathbf {A}_{PCA}  \n",
    "            = \\mathbf {V} \\mathbf {V}^\\top \\mathbf {A}  = \\mathbf {A} $$\n",
    "\n",
    "We can use only a small number of eigenvectors to reconstruct the $\\mathbf {A}$ matrix. For example, if we use $k<<m$ number of eigenvectors, we have\n",
    "\\begin{equation} \\label{eqx2}\n",
    "\\begin{split}\n",
    "\\mathbf {A}_{r} & = \\mathbf{V} [0:k,0:m] \\mathbf{V}^\\top [0:m,0:k] \\mathbf {A}_{PCA}[0:k,0:p] \\\\\n",
    "      & \\ne \\mathbf {A} \n",
    "\\end{split}\n",
    "\\end{equation}\n",
    "\n",
    "Note that for large systems, we do not really form the normal matrix $\\mathbf{B}$, perform eigenvalue decomposition, and then compute $\\mathbf{V}$ numerically. Instead, the QR transformation type of algorithms are used. This is because of the instability reasons mentioned in the beginning of Section 3.4.2. "
   ]
  },
  {
   "cell_type": "markdown",
   "metadata": {},
   "source": [
    "#### Numerical examples"
   ]
  },
  {
   "cell_type": "markdown",
   "metadata": {},
   "source": [
    "##### Example 1: PCA using a three-line code"
   ]
  },
  {
   "cell_type": "markdown",
   "metadata": {},
   "source": [
    "We show an example of PCA code with only three lines. It is from [glowingpython](https://glowingpython.blogspot.com/2011/07/principal-component-analysis-with-numpy.html), with permission. It is inspired by the function princomp of the matlab's statistics toolbox, and quite ease to follow. We modified the code to follow exactly the PCA formulation presented above. "
   ]
  },
  {
   "cell_type": "code",
   "metadata": {
    "ExecuteTime": {
     "end_time": "2025-01-21T20:59:38.695584Z",
     "start_time": "2025-01-21T20:59:38.681580Z"
    }
   },
   "source": [
    "import numpy as np\n",
    "from pylab import plot,subplot,axis,show,figure\n",
    "def princomp(A):\n",
    "    \"\"\" PCA on A. Rows: m observations; columns: p variables. \n",
    "        A will be zero-centered and normalized \n",
    "    Returns:  \n",
    "    coeff: eig-vector of A^T A. Row-- observations,  \n",
    "           columns-- coefficients for one principal component.\n",
    "    score: the principal component scores - representation of A in the  \n",
    "           principal component space. \n",
    "           Row-- observations, column-- components.\n",
    "    latent: a vector with the eigenvalues of A^T A.\n",
    "    \"\"\"\n",
    "    # computing eigenvalues and eigenvectors of covariance matrix\n",
    "    # modified. It was: \n",
    "    # M = (A-np.mean(A.T,axis=1)) \n",
    "    # [latent,coeff] = np.linalg.eig(np.cov(M))\n",
    "    # score = np.dot(coeff.T,M)  \n",
    "    A=(A-np.array([np.mean(A,axis=0)]))         # subtract the mean \n",
    "    [latent,coeff]=np.linalg.eig(np.dot(A.T,A)) # not always sorted\n",
    "    score = np.dot(A,coeff)           # projection on the new space\n",
    "    return coeff,score,latent"
   ],
   "outputs": [],
   "execution_count": 357
  },
  {
   "cell_type": "markdown",
   "metadata": {},
   "source": [
    "Let us test the code using a 2D dataset. "
   ]
  },
  {
   "cell_type": "code",
   "metadata": {
    "ExecuteTime": {
     "end_time": "2025-01-21T20:59:38.910821Z",
     "start_time": "2025-01-21T20:59:38.745841Z"
    }
   },
   "source": [
    "# A simple 2D dataset\n",
    "np.set_printoptions(formatter={'float': '{: 0.2f}'.format})\n",
    "\n",
    "Data = np.array([[2.4,0.7,2.9,2.5,2.2,3.0,2.7,1.6,1.8,1.1,1.6,0.9],\n",
    "                 [2.5,0.5,2.2,1.9,1.9,3.1,2.3,2.0,1.4,1.0,1.5,1.1]])\n",
    "A = Data.T                     # Note: transpose to have A with m>p\n",
    "print(f\"A.T:\\n{Data}\")\n",
    "coeff, score, latent = princomp(A)        # change made. It was A.T\n",
    "print(f\"(A_mean):{np.mean(A,axis=0)}\")\n",
    "print(f\"(A-mean).T:\\n{(A-np.mean(A,axis=0)).T}\")\n",
    "print(f\"Eig-vectors of covariance matrix of A, p×p:\\n{coeff}\")\n",
    "print(f\"A.T in the principal component space:\\n{score.T}\")\n",
    "print(f\"Eigenvalues of the covariance matrix of A, latent={latent}\")\n",
    "figure(figsize=(3.4,2.5))\n",
    "subplot(121)\n",
    "# every eigenvector describe the direction of a principal component.\n",
    "m = np.mean(A,axis=0)\n",
    "plot([0,-coeff[0,0]*2]+m[0], [0,-coeff[0,1]*2]+m[1],'--k')\n",
    "plot([0, coeff[1,0]*2]+m[0], [0, coeff[1,1]*2]+m[1],'--k')\n",
    "plot(Data[0,:],Data[1,:],'ob')                    # the data points\n",
    "axis('equal')\n",
    "subplot(122)\n",
    "# New data produced using the s\n",
    "plot(score.T[0,:],score.T[1,:],'*g')         # Note: transpose back\n",
    "axis('equal')\n",
    "show()"
   ],
   "outputs": [
    {
     "name": "stdout",
     "output_type": "stream",
     "text": [
      "A.T:\n",
      "[[ 2.40  0.70  2.90  2.50  2.20  3.00  2.70  1.60  1.80  1.10  1.60  0.90]\n",
      " [ 2.50  0.50  2.20  1.90  1.90  3.10  2.30  2.00  1.40  1.00  1.50  1.10]]\n",
      "(A_mean):[ 1.95  1.78]\n",
      "(A-mean).T:\n",
      "[[ 0.45 -1.25  0.95  0.55  0.25  1.05  0.75 -0.35 -0.15 -0.85 -0.35 -1.05]\n",
      " [ 0.72 -1.28  0.42  0.12  0.12  1.32  0.52  0.22 -0.38 -0.78 -0.28 -0.68]]\n",
      "Eig-vectors of covariance matrix of A, p×p:\n",
      "[[ 0.74 -0.67]\n",
      " [ 0.67  0.74]]\n",
      "A.T in the principal component space:\n",
      "[[ 0.82 -1.79  0.98  0.49  0.26  1.66  0.90 -0.11 -0.37 -1.16 -0.45 -1.24]\n",
      " [ 0.23 -0.11 -0.33 -0.28 -0.08  0.27 -0.12  0.40 -0.18 -0.01  0.03  0.20]]\n",
      "Eigenvalues of the covariance matrix of A, latent=[ 11.93  0.58]\n"
     ]
    },
    {
     "data": {
      "text/plain": [
       "<Figure size 244.8x180 with 2 Axes>"
      ],
      "image/png": "[encoded data removed]"
     },
     "metadata": {
      "needs_background": "light"
     },
     "output_type": "display_data"
    }
   ],
   "execution_count": 358
  },
  {
   "cell_type": "markdown",
   "metadata": {},
   "source": [
    "#### Example 2:  Truncated PCA"
   ]
  },
  {
   "cell_type": "markdown",
   "metadata": {},
   "source": [
    "This example is a modified PCA based on the previous code. The test is done for an image compression application. The codes is from [glowingpython](https://glowingpython.blogspot.com/2011/07/pca-and-image-compression-with-numpy.html), with permission. "
   ]
  },
  {
   "cell_type": "code",
   "metadata": {
    "ExecuteTime": {
     "end_time": "2025-01-21T20:59:38.956977Z",
     "start_time": "2025-01-21T20:59:38.942707Z"
    }
   },
   "source": [
    "import numpy as np\n",
    "def princomp(A,numpc=0):\n",
    "    # computing eigenvalues and eigenvectors of covariance matrix\n",
    "    A = (A-np.array([np.mean(A,axis=0)]))      #subtract the mean  \n",
    "    [latent,coeff] = np.linalg.eig(np.dot(A.T,A)) #may not sorted\n",
    "    #was: A = (A-np.mean(A.T,axis=1)).T # subtract the mean \n",
    "    #was: [latent,coeff] = np.linalg.eig(np.cov(M))\n",
    "    \n",
    "    p = np.size(coeff,axis=1)\n",
    "    idx = np.argsort(latent)            # sorting the eigenvalues\n",
    "    idx = idx[::-1]                     # in ascending order\n",
    "    # sorting eigenvectors according to the sorted eigenvalues\n",
    "    coeff = coeff[:,idx]\n",
    "    latent = latent[idx]                # sorting eigenvalues\n",
    "    if numpc < p and numpc >= 0:\n",
    "        coeff = coeff[:,range(numpc)]   # cutting some PCs \n",
    "\n",
    "    #score = np.dot(coeff.T,M)      # projection on the new space\n",
    "    score = np.dot(A,coeff)         # projection on the new space\n",
    "    return coeff,score,latent"
   ],
   "outputs": [],
   "execution_count": 359
  },
  {
   "cell_type": "markdown",
   "metadata": {},
   "source": [
    "The following code computes the PCA of matrix A that is an image in color scale. It first converts image A to gray scale. After the PCA is done, reduced number of principal components are used to reconstruct the image.  "
   ]
  },
  {
   "cell_type": "code",
   "metadata": {
    "ExecuteTime": {
     "end_time": "2025-01-21T21:10:40.724344Z",
     "start_time": "2025-01-21T21:10:06.170301Z"
    }
   },
   "source": [
    "from pylab import imread,subplot,imshow,title,gray,figure,show,NullLocator\n",
    "from ipykernel import kernelapp as app\n",
    "from PIL import Image, ImageOps\n",
    "%matplotlib inline\n",
    "#A = Image.open('./images/hummingbirdcapsized.jpg')\n",
    "A = Image.open(r\"C:\\Users\\Ajpti\\PythonProjects\\MachineLearning\\MachineLearning\\Images\\hummingbird.jpg\")        # open an image\n",
    "#A = ImageOps.flip(B)                    # flip it if so required\n",
    "#or: A = imread('./images/hummingbirdcapsized.jpg')  # load image \n",
    "A = np.mean(A,2)                             # to get a 2-D array\n",
    "B = A.copy()\n",
    "print(B.shape)\n",
    "full_pc = np.size(A,axis=1) # no. of all the principal components\n",
    "print(full_pc)\n",
    "r = len(A[:,0])/len(A[1])\n",
    "print(r,len(A[1]),A.shape,A.size)\n",
    "i = 1\n",
    "dist = []\n",
    "figure(figsize=(11,11*r))\n",
    "for numpc in range(0,full_pc+10,1000):       # 0 50 100 ... full_pc\n",
    "    coeff, score, latent = princomp(A,numpc)\n",
    "    print(numpc,'coeff, score, latent \\n',\n",
    "          coeff.shape, score.shape, latent.shape)\n",
    "    Ar = np.dot(score,coeff.T)+np.mean(A,axis=0)  #reconstruction\n",
    "    #was:Ar = np.dot(coeff,score).T+np.mean(A,axis=0)  \n",
    "    # difference in Frobenius norm\n",
    "    dist.append(np.linalg.norm(A-Ar,'fro'))\n",
    "    # showing the pics reconstructed with less than 50 PCs\n",
    "    if numpc <= 250:\n",
    "        ax = subplot(2,3,i,frame_on=False)\n",
    "        ax.xaxis.set_major_locator(NullLocator()) # remove ticks\n",
    "        ax.yaxis.set_major_locator(NullLocator())\n",
    "        i += 1 \n",
    "       # imshow(Ar)                        #imshow(np.flipud(Ar))\n",
    "        title('PCs # '+str(numpc))\n",
    "        gray()\n",
    "figure()\n",
    "imshow(A)                                 #imshow(np.flipud(A))\n",
    "title('numpc FULL: '+str(len(A[1])))\n",
    "gray()\n",
    "show()"
   ],
   "outputs": [
    {
     "name": "stdout",
     "output_type": "stream",
     "text": [
      "(1784, 2763)\n",
      "2763\n",
      "0.6456749909518639 2763 (1784, 2763) 4929192\n",
      "0 coeff, score, latent \n",
      " (2763, 0) (1784, 0) (2763,)\n",
      "1000 coeff, score, latent \n",
      " (2763, 1000) (1784, 1000) (2763,)\n",
      "2000 coeff, score, latent \n",
      " (2763, 2000) (1784, 2000) (2763,)\n"
     ]
    },
    {
     "data": {
      "text/plain": [
       "<Figure size 792x511.375 with 1 Axes>"
      ],
      "image/png": "[encoded data removed]"
     },
     "metadata": {},
     "output_type": "display_data"
    },
    {
     "data": {
      "text/plain": [
       "<Figure size 432x288 with 1 Axes>"
      ],
      "image/png": "[encoded data removed]"
     },
     "metadata": {
      "needs_background": "light"
     },
     "output_type": "display_data"
    }
   ],
   "execution_count": 371
  },
  {
   "cell_type": "markdown",
   "metadata": {},
   "source": [
    "We can see that 50 principal components give a pretty good quality image, compared to the original one. "
   ]
  },
  {
   "cell_type": "markdown",
   "metadata": {},
   "source": [
    "To assess the quality of the reconstruction quantitatively, we compute the distance of the re-constructed images from the original one in the Frobenius norm, for different number of eigenvalues/eigenvectors used in the reconstruction. The results are plotted in the following figure, with the x-axis for the number of eigenvalues/eigenvectors used. The sum of the eigenvalues is plotted in the blue curve, and the Frobenius norm is plotted in the red curve. The sum of the eigenvalues relates to the level of variance contribution. "
   ]
  },
  {
   "cell_type": "code",
   "metadata": {
    "scrolled": false,
    "ExecuteTime": {
     "end_time": "2025-01-21T21:14:15.254381Z",
     "start_time": "2025-01-21T21:14:15.150819Z"
    }
   },
   "source": [
    "from pylab import plot, axis, cumsum\n",
    "figure()\n",
    "print(latent)\n",
    "perc = cumsum(latent)/sum(latent)  # percentage of the eigs used.\n",
    "#print(cumsum(latent),sum(latent))\n",
    "dist = dist/max(dist)\n",
    "print(dist)\n",
    "print(range(len(perc)))\n",
    "print(range(0,full_pc+10,100))\n",
    "plot(range(len(perc)),perc,'b',range(0,full_pc+10,100),dist,'r')\n",
    "axis([0,full_pc,0,1.1])\n",
    "show()"
   ],
   "outputs": [
    {
     "name": "stdout",
     "output_type": "stream",
     "text": [
      "[ 7.5282e+08+0.0000e+00j  4.4076e+08+0.0000e+00j  3.0205e+08+0.0000e+00j\n",
      " ... -1.0761e-08-1.3333e-08j -1.0857e-08+0.0000e+00j\n",
      " -1.3635e-08+0.0000e+00j]\n",
      "[ 1.00  0.02  0.00]\n",
      "range(0, 2763)\n",
      "range(0, 2773, 100)\n"
     ]
    },
    {
     "ename": "ValueError",
     "evalue": "x and y must have same first dimension, but have shapes (28,) and (3,)",
     "output_type": "error",
     "traceback": [
      "\u001B[1;31m---------------------------------------------------------------------------\u001B[0m",
      "\u001B[1;31mValueError\u001B[0m                                Traceback (most recent call last)",
      "\u001B[1;32m<ipython-input-381-e3e1cfb135d9>\u001B[0m in \u001B[0;36m<module>\u001B[1;34m\u001B[0m\n\u001B[0;32m      8\u001B[0m \u001B[0mprint\u001B[0m\u001B[1;33m(\u001B[0m\u001B[0mrange\u001B[0m\u001B[1;33m(\u001B[0m\u001B[0mlen\u001B[0m\u001B[1;33m(\u001B[0m\u001B[0mperc\u001B[0m\u001B[1;33m)\u001B[0m\u001B[1;33m)\u001B[0m\u001B[1;33m)\u001B[0m\u001B[1;33m\u001B[0m\u001B[1;33m\u001B[0m\u001B[0m\n\u001B[0;32m      9\u001B[0m \u001B[0mprint\u001B[0m\u001B[1;33m(\u001B[0m\u001B[0mrange\u001B[0m\u001B[1;33m(\u001B[0m\u001B[1;36m0\u001B[0m\u001B[1;33m,\u001B[0m\u001B[0mfull_pc\u001B[0m\u001B[1;33m+\u001B[0m\u001B[1;36m10\u001B[0m\u001B[1;33m,\u001B[0m\u001B[1;36m100\u001B[0m\u001B[1;33m)\u001B[0m\u001B[1;33m)\u001B[0m\u001B[1;33m\u001B[0m\u001B[1;33m\u001B[0m\u001B[0m\n\u001B[1;32m---> 10\u001B[1;33m \u001B[0mplot\u001B[0m\u001B[1;33m(\u001B[0m\u001B[0mrange\u001B[0m\u001B[1;33m(\u001B[0m\u001B[0mlen\u001B[0m\u001B[1;33m(\u001B[0m\u001B[0mperc\u001B[0m\u001B[1;33m)\u001B[0m\u001B[1;33m)\u001B[0m\u001B[1;33m,\u001B[0m\u001B[0mperc\u001B[0m\u001B[1;33m,\u001B[0m\u001B[1;34m'b'\u001B[0m\u001B[1;33m,\u001B[0m\u001B[0mrange\u001B[0m\u001B[1;33m(\u001B[0m\u001B[1;36m0\u001B[0m\u001B[1;33m,\u001B[0m\u001B[0mfull_pc\u001B[0m\u001B[1;33m+\u001B[0m\u001B[1;36m10\u001B[0m\u001B[1;33m,\u001B[0m\u001B[1;36m100\u001B[0m\u001B[1;33m)\u001B[0m\u001B[1;33m,\u001B[0m\u001B[0mdist\u001B[0m\u001B[1;33m,\u001B[0m\u001B[1;34m'r'\u001B[0m\u001B[1;33m)\u001B[0m\u001B[1;33m\u001B[0m\u001B[1;33m\u001B[0m\u001B[0m\n\u001B[0m\u001B[0;32m     11\u001B[0m \u001B[0maxis\u001B[0m\u001B[1;33m(\u001B[0m\u001B[1;33m[\u001B[0m\u001B[1;36m0\u001B[0m\u001B[1;33m,\u001B[0m\u001B[0mfull_pc\u001B[0m\u001B[1;33m,\u001B[0m\u001B[1;36m0\u001B[0m\u001B[1;33m,\u001B[0m\u001B[1;36m1.1\u001B[0m\u001B[1;33m]\u001B[0m\u001B[1;33m)\u001B[0m\u001B[1;33m\u001B[0m\u001B[1;33m\u001B[0m\u001B[0m\n\u001B[0;32m     12\u001B[0m \u001B[0mshow\u001B[0m\u001B[1;33m(\u001B[0m\u001B[1;33m)\u001B[0m\u001B[1;33m\u001B[0m\u001B[1;33m\u001B[0m\u001B[0m\n",
      "\u001B[1;32m~\\.conda\\envs\\MachineLearning36\\lib\\site-packages\\matplotlib\\pyplot.py\u001B[0m in \u001B[0;36mplot\u001B[1;34m(scalex, scaley, data, *args, **kwargs)\u001B[0m\n\u001B[0;32m   2761\u001B[0m     return gca().plot(\n\u001B[0;32m   2762\u001B[0m         *args, scalex=scalex, scaley=scaley, **({\"data\": data} if data\n\u001B[1;32m-> 2763\u001B[1;33m         is not None else {}), **kwargs)\n\u001B[0m\u001B[0;32m   2764\u001B[0m \u001B[1;33m\u001B[0m\u001B[0m\n\u001B[0;32m   2765\u001B[0m \u001B[1;33m\u001B[0m\u001B[0m\n",
      "\u001B[1;32m~\\.conda\\envs\\MachineLearning36\\lib\\site-packages\\matplotlib\\axes\\_axes.py\u001B[0m in \u001B[0;36mplot\u001B[1;34m(self, scalex, scaley, data, *args, **kwargs)\u001B[0m\n\u001B[0;32m   1645\u001B[0m         \"\"\"\n\u001B[0;32m   1646\u001B[0m         \u001B[0mkwargs\u001B[0m \u001B[1;33m=\u001B[0m \u001B[0mcbook\u001B[0m\u001B[1;33m.\u001B[0m\u001B[0mnormalize_kwargs\u001B[0m\u001B[1;33m(\u001B[0m\u001B[0mkwargs\u001B[0m\u001B[1;33m,\u001B[0m \u001B[0mmlines\u001B[0m\u001B[1;33m.\u001B[0m\u001B[0mLine2D\u001B[0m\u001B[1;33m)\u001B[0m\u001B[1;33m\u001B[0m\u001B[1;33m\u001B[0m\u001B[0m\n\u001B[1;32m-> 1647\u001B[1;33m         \u001B[0mlines\u001B[0m \u001B[1;33m=\u001B[0m \u001B[1;33m[\u001B[0m\u001B[1;33m*\u001B[0m\u001B[0mself\u001B[0m\u001B[1;33m.\u001B[0m\u001B[0m_get_lines\u001B[0m\u001B[1;33m(\u001B[0m\u001B[1;33m*\u001B[0m\u001B[0margs\u001B[0m\u001B[1;33m,\u001B[0m \u001B[0mdata\u001B[0m\u001B[1;33m=\u001B[0m\u001B[0mdata\u001B[0m\u001B[1;33m,\u001B[0m \u001B[1;33m**\u001B[0m\u001B[0mkwargs\u001B[0m\u001B[1;33m)\u001B[0m\u001B[1;33m]\u001B[0m\u001B[1;33m\u001B[0m\u001B[1;33m\u001B[0m\u001B[0m\n\u001B[0m\u001B[0;32m   1648\u001B[0m         \u001B[1;32mfor\u001B[0m \u001B[0mline\u001B[0m \u001B[1;32min\u001B[0m \u001B[0mlines\u001B[0m\u001B[1;33m:\u001B[0m\u001B[1;33m\u001B[0m\u001B[1;33m\u001B[0m\u001B[0m\n\u001B[0;32m   1649\u001B[0m             \u001B[0mself\u001B[0m\u001B[1;33m.\u001B[0m\u001B[0madd_line\u001B[0m\u001B[1;33m(\u001B[0m\u001B[0mline\u001B[0m\u001B[1;33m)\u001B[0m\u001B[1;33m\u001B[0m\u001B[1;33m\u001B[0m\u001B[0m\n",
      "\u001B[1;32m~\\.conda\\envs\\MachineLearning36\\lib\\site-packages\\matplotlib\\axes\\_base.py\u001B[0m in \u001B[0;36m__call__\u001B[1;34m(self, *args, **kwargs)\u001B[0m\n\u001B[0;32m    214\u001B[0m                 \u001B[0mthis\u001B[0m \u001B[1;33m+=\u001B[0m \u001B[0margs\u001B[0m\u001B[1;33m[\u001B[0m\u001B[1;36m0\u001B[0m\u001B[1;33m]\u001B[0m\u001B[1;33m,\u001B[0m\u001B[1;33m\u001B[0m\u001B[1;33m\u001B[0m\u001B[0m\n\u001B[0;32m    215\u001B[0m                 \u001B[0margs\u001B[0m \u001B[1;33m=\u001B[0m \u001B[0margs\u001B[0m\u001B[1;33m[\u001B[0m\u001B[1;36m1\u001B[0m\u001B[1;33m:\u001B[0m\u001B[1;33m]\u001B[0m\u001B[1;33m\u001B[0m\u001B[1;33m\u001B[0m\u001B[0m\n\u001B[1;32m--> 216\u001B[1;33m             \u001B[1;32myield\u001B[0m \u001B[1;32mfrom\u001B[0m \u001B[0mself\u001B[0m\u001B[1;33m.\u001B[0m\u001B[0m_plot_args\u001B[0m\u001B[1;33m(\u001B[0m\u001B[0mthis\u001B[0m\u001B[1;33m,\u001B[0m \u001B[0mkwargs\u001B[0m\u001B[1;33m)\u001B[0m\u001B[1;33m\u001B[0m\u001B[1;33m\u001B[0m\u001B[0m\n\u001B[0m\u001B[0;32m    217\u001B[0m \u001B[1;33m\u001B[0m\u001B[0m\n\u001B[0;32m    218\u001B[0m     \u001B[1;32mdef\u001B[0m \u001B[0mget_next_color\u001B[0m\u001B[1;33m(\u001B[0m\u001B[0mself\u001B[0m\u001B[1;33m)\u001B[0m\u001B[1;33m:\u001B[0m\u001B[1;33m\u001B[0m\u001B[1;33m\u001B[0m\u001B[0m\n",
      "\u001B[1;32m~\\.conda\\envs\\MachineLearning36\\lib\\site-packages\\matplotlib\\axes\\_base.py\u001B[0m in \u001B[0;36m_plot_args\u001B[1;34m(self, tup, kwargs)\u001B[0m\n\u001B[0;32m    340\u001B[0m \u001B[1;33m\u001B[0m\u001B[0m\n\u001B[0;32m    341\u001B[0m         \u001B[1;32mif\u001B[0m \u001B[0mx\u001B[0m\u001B[1;33m.\u001B[0m\u001B[0mshape\u001B[0m\u001B[1;33m[\u001B[0m\u001B[1;36m0\u001B[0m\u001B[1;33m]\u001B[0m \u001B[1;33m!=\u001B[0m \u001B[0my\u001B[0m\u001B[1;33m.\u001B[0m\u001B[0mshape\u001B[0m\u001B[1;33m[\u001B[0m\u001B[1;36m0\u001B[0m\u001B[1;33m]\u001B[0m\u001B[1;33m:\u001B[0m\u001B[1;33m\u001B[0m\u001B[1;33m\u001B[0m\u001B[0m\n\u001B[1;32m--> 342\u001B[1;33m             raise ValueError(f\"x and y must have same first dimension, but \"\n\u001B[0m\u001B[0;32m    343\u001B[0m                              f\"have shapes {x.shape} and {y.shape}\")\n\u001B[0;32m    344\u001B[0m         \u001B[1;32mif\u001B[0m \u001B[0mx\u001B[0m\u001B[1;33m.\u001B[0m\u001B[0mndim\u001B[0m \u001B[1;33m>\u001B[0m \u001B[1;36m2\u001B[0m \u001B[1;32mor\u001B[0m \u001B[0my\u001B[0m\u001B[1;33m.\u001B[0m\u001B[0mndim\u001B[0m \u001B[1;33m>\u001B[0m \u001B[1;36m2\u001B[0m\u001B[1;33m:\u001B[0m\u001B[1;33m\u001B[0m\u001B[1;33m\u001B[0m\u001B[0m\n",
      "\u001B[1;31mValueError\u001B[0m: x and y must have same first dimension, but have shapes (28,) and (3,)"
     ]
    },
    {
     "data": {
      "text/plain": [
       "<Figure size 432x288 with 1 Axes>"
      ],
      "image/png": "[encoded data removed]"
     },
     "metadata": {
      "needs_background": "light"
     },
     "output_type": "display_data"
    }
   ],
   "execution_count": 381
  },
  {
   "cell_type": "markdown",
   "metadata": {
    "ExecuteTime": {
     "end_time": "2022-01-26T17:10:43.924776Z",
     "start_time": "2022-01-26T17:10:43.917792Z"
    }
   },
   "source": [
    "Let us do the same using the existing well developed Sklearn module. "
   ]
  },
  {
   "cell_type": "code",
   "metadata": {
    "ExecuteTime": {
     "end_time": "2025-01-21T21:14:54.990332Z",
     "start_time": "2025-01-21T21:14:51.467543Z"
    }
   },
   "source": [
    "from sklearn.decomposition import PCA      \n",
    "pca = PCA(.985)\n",
    "X_pca = pca.fit_transform(B)\n",
    "reconstructed = pca.inverse_transform(X_pca)\n",
    "#reconstructed=np.dot(X_pca, pca.components_)+pca.mean_  #Try this. \n",
    "print(B.shape,X_pca.shape,reconstructed.shape)\n",
    "imshow(reconstructed)"
   ],
   "outputs": [
    {
     "name": "stdout",
     "output_type": "stream",
     "text": [
      "(1784, 2763) (1784, 108) (1784, 2763)\n"
     ]
    },
    {
     "data": {
      "text/plain": [
       "<matplotlib.image.AxesImage at 0x26880d57cc0>"
      ]
     },
     "execution_count": 382,
     "metadata": {},
     "output_type": "execute_result"
    },
    {
     "data": {
      "text/plain": [
       "<Figure size 432x288 with 1 Axes>"
      ],
      "image/png": "[encoded data removed]"
     },
     "metadata": {
      "needs_background": "light"
     },
     "output_type": "display_data"
    }
   ],
   "execution_count": 382
  },
  {
   "cell_type": "code",
   "metadata": {
    "ExecuteTime": {
     "end_time": "2025-01-21T21:14:58.365098Z",
     "start_time": "2025-01-21T21:14:57.989505Z"
    }
   },
   "source": [
    "imshow(B)"
   ],
   "outputs": [
    {
     "data": {
      "text/plain": [
       "<matplotlib.image.AxesImage at 0x268815d1630>"
      ]
     },
     "execution_count": 383,
     "metadata": {},
     "output_type": "execute_result"
    },
    {
     "data": {
      "text/plain": [
       "<Figure size 432x288 with 1 Axes>"
      ],
      "image/png": "[encoded data removed]"
     },
     "metadata": {
      "needs_background": "light"
     },
     "output_type": "display_data"
    }
   ],
   "execution_count": 383
  },
  {
   "cell_type": "markdown",
   "metadata": {},
   "source": [
    "In practical computations, the QR decomposition can be used to compute the eigenvectors $\\mathbf{V}$, to avoid numerical stability, as discussed earlier for SVD. "
   ]
  },
  {
   "cell_type": "markdown",
   "metadata": {},
   "source": [
    "### Numerical roots finding"
   ]
  },
  {
   "cell_type": "markdown",
   "metadata": {},
   "source": [
    "Module scipy.optimize offers a function fsolve() to find roots of a set of given nonlinear  equations defined by $\\mathbf{f}(\\mathbf{x}) = \\mathbf{0}$, with estimated locations of the roots. The fsolve() is a wrapper around the algorithms in MINPACK that uses essentially a variant of the [Newton iteration method](https://en.wikipedia.org/wiki/Newton%27s_method), which finds the root using the function derivative to approximate the function locally. This process can be easily viewed from the animation shown in Fig.\\ref{fig:NewtonIteration_Ani}, nicely made by [Ralf Pfeifer] (https://en.wikipedia.org/wiki/Newton%27s_method#/media/File:NewtonIteration_Ani.gif) under the [CC BY-SA 3.0.](https://creativecommons.org/licenses/by-sa/3.0/) license. \n",
    "\n",
    "\\begin{figure}\n",
    "  \\includegraphics[width=0.8\\textwidth,clip]{./images/NewtonIteration_Ani.gif}\n",
    "  \\caption{\\label{fig:NewtonIteration_Ani} The Newton Iteration: The function is shown in blue and the tangent line at local $x_i$ is in red. We see that $x_i$ gets closer and closer to the root of the function when the number of iterations $i$ increases}\n",
    "\\end{figure}\n",
    "\n",
    "Let us define two functions, one with a single variable and another with two variables, as examples to demonstrate how to find the roots. For functions with single variable $x$, we define the following function that is often encountered in structural mechanics problems. "
   ]
  },
  {
   "cell_type": "code",
   "metadata": {
    "ExecuteTime": {
     "end_time": "2025-01-21T21:15:06.187212Z",
     "start_time": "2025-01-21T21:15:06.174219Z"
    }
   },
   "source": [
    "import numpy as np\n",
    "def BeamOnFoundation(bz):   # Deflection of a beam on foundation\n",
    "    return np.exp(-bz)*(np.sin(bz)+np.cos(bz))\n",
    "\n",
    "def f(x):                  # function whoes root to be found\n",
    "    return 2*BeamOnFoundation(x/2)-1-BeamOnFoundation(x)"
   ],
   "outputs": [],
   "execution_count": 384
  },
  {
   "cell_type": "code",
   "metadata": {
    "ExecuteTime": {
     "end_time": "2025-01-21T21:15:08.243100Z",
     "start_time": "2025-01-21T21:15:08.234105Z"
    }
   },
   "source": [
    "from scipy.optimize import fsolve\n",
    "starting_guess = 5     # specify estimated location of the root\n",
    "x_root = fsolve(f, starting_guess)\n",
    "print(f\"x_root={x_root}\")\n",
    "np.isclose(f(x_root), 0)              # check if f(x_root)=0.0."
   ],
   "outputs": [
    {
     "name": "stdout",
     "output_type": "stream",
     "text": [
      "x_root=[ 1.86]\n"
     ]
    },
    {
     "data": {
      "text/plain": [
       "array([ True])"
      ]
     },
     "execution_count": 385,
     "metadata": {},
     "output_type": "execute_result"
    }
   ],
   "execution_count": 385
  },
  {
   "cell_type": "markdown",
   "metadata": {},
   "source": [
    "Let us now consider a set of two functions with two variables. "
   ]
  },
  {
   "cell_type": "code",
   "metadata": {
    "ExecuteTime": {
     "end_time": "2025-01-21T21:15:10.455314Z",
     "start_time": "2025-01-21T21:15:10.437666Z"
    }
   },
   "source": [
    "def f2d(x):\n",
    "    return [x[0]*np.sin(x[1])-5, x[1]*x[0]-x[1]-8] # x is an array\n",
    "           #    function-1       function-2       # of 2 functions.\n",
    "x_roots = fsolve(f2d, [3, 2])        # specify 2 estimated roots  \n",
    "\n",
    "print(f\"x_roots={x_roots}\")\n",
    "np.isclose(f2d(x_roots), [0.0, 0.0])    # check if f(x_root)=0.0."
   ],
   "outputs": [
    {
     "name": "stdout",
     "output_type": "stream",
     "text": [
      "x_roots=[ 5.25  1.88]\n"
     ]
    },
    {
     "data": {
      "text/plain": [
       "array([ True,  True])"
      ]
     },
     "execution_count": 386,
     "metadata": {},
     "output_type": "execute_result"
    }
   ],
   "execution_count": 386
  },
  {
   "cell_type": "markdown",
   "metadata": {},
   "source": [
    "Note in general, a polynomial (or other algebraic equation) can have complex roots, even thought their coefficients are all real. This is another case that the complex space is algebraically closed, but the real space is not.  A polynomial of nth order should have n roots, but they may not be all in the real space. Some of them get into the complex space. "
   ]
  },
  {
   "cell_type": "markdown",
   "metadata": {},
   "source": [
    "### Numerical Integration"
   ]
  },
  {
   "attachments": {},
   "cell_type": "markdown",
   "metadata": {},
   "source": [
    "Numerical integration is one of the routine operations in computations for practical problems in sciences and engineering. This is because only simple functions can be analytically integrated, and one has to resort to numerical means for real-life problems. Different types of numerical integration techniques have been developed in the past, and numpy made the computation easy to implement and use. Our discussion on this topic starts from the classical trapezoid rule that may be familiar to many readers. More reference materials can be found from the [Scipy.integrate documentation](https://docs.scipy.org/doc/scipy/reference/tutorial/integrate.html) and [notebook.community](https://notebook.community/sodafree/backend/build/ipython/docs/examples/notebooks/trapezoid_rule). \n",
    "\n",
    "${}$"
   ]
  },
  {
   "cell_type": "markdown",
   "metadata": {},
   "source": [
    "####  Trapezoid Rule\n",
    "\n",
    "The trapezoid rule for definite integration uses the following formula. \n",
    "\n",
    "$$\n",
    "\\int_{a}^{b} f(x)\\, dx \\approx \\frac{1}{2} \\sum_{k=1}^{n_s} \\left( x_{k} - x_{k-1} \\right) \\left( f(x_{k}) + f(x_{k-1}) \\right).\n",
    "$$\n",
    "<br>\n",
    "We define a simple polynomial function and sample it in a finite range $[a, b]$ at $n_s$ number of sampling points equally spaced. "
   ]
  },
  {
   "cell_type": "code",
   "metadata": {
    "ExecuteTime": {
     "end_time": "2025-01-21T21:15:12.864552Z",
     "start_time": "2025-01-21T21:15:12.856458Z"
    }
   },
   "source": [
    "%matplotlib inline\n",
    "import numpy as np\n",
    "import matplotlib.pyplot as plt\n",
    "np.set_printoptions(formatter={'float': '{: 0.3f}'.format})"
   ],
   "outputs": [],
   "execution_count": 387
  },
  {
   "cell_type": "code",
   "metadata": {
    "ExecuteTime": {
     "end_time": "2025-01-21T21:15:13.531251Z",
     "start_time": "2025-01-21T21:15:13.517249Z"
    }
   },
   "source": [
    "def f(x):\n",
    "    return 9*x**3-8*x**2-7*x+6    # define a polynomial function\n",
    "a, b, n = -1., 2, 400          # large n for plotting the curve\n",
    "x = np.linspace(a, b, n)               # x at n points in [a,b]\n",
    "y = f(x)                          # compute the function values"
   ],
   "outputs": [],
   "execution_count": 388
  },
  {
   "cell_type": "markdown",
   "metadata": {},
   "source": [
    "The function is integrated over $[a, b]$, by sampling a small number of points. "
   ]
  },
  {
   "cell_type": "code",
   "metadata": {
    "ExecuteTime": {
     "end_time": "2025-01-21T21:15:14.807422Z",
     "start_time": "2025-01-21T21:15:14.793712Z"
    }
   },
   "source": [
    "ns = 6                       # sample ns points for integration\n",
    "xint = np.linspace(a, b, ns)\n",
    "yint = f(xint)"
   ],
   "outputs": [],
   "execution_count": 389
  },
  {
   "cell_type": "markdown",
   "metadata": {},
   "source": [
    "Plot the function curve and the trapezoidal (shaded) areas below it. "
   ]
  },
  {
   "cell_type": "code",
   "metadata": {
    "ExecuteTime": {
     "end_time": "2025-01-21T21:15:15.773713Z",
     "start_time": "2025-01-21T21:15:15.658297Z"
    }
   },
   "source": [
    "plt.plot(x, y, lw=2)   # plot the function as a line of width 2\n",
    "#plt.axis([a, b, 0, 150])                 # plot x and y axes\n",
    "plt.fill_between(xint, 0, yint, facecolor='gray', alpha=0.4) \n",
    "      # plot the shaded area over which the integration is done\n",
    "plt.text((a+b)/2,12,r\"$\\int_a^b f(x)dx$\", horizontalalignment=\\\n",
    "         'center',fontsize=15);   # use \\ to change line in code"
   ],
   "outputs": [
    {
     "data": {
      "text/plain": [
       "<Figure size 432x288 with 1 Axes>"
      ],
      "image/png": "[encoded data removed]"
     },
     "metadata": {
      "needs_background": "light"
     },
     "output_type": "display_data"
    }
   ],
   "execution_count": 390
  },
  {
   "cell_type": "markdown",
   "metadata": {},
   "source": [
    "The trapezoid integration computes the shaded area. Thus, it is likely an approximation as shown.  "
   ]
  },
  {
   "cell_type": "code",
   "metadata": {
    "ExecuteTime": {
     "end_time": "2025-01-21T21:15:17.157314Z",
     "start_time": "2025-01-21T21:15:17.138403Z"
    }
   },
   "source": [
    "from scipy.integrate import quad  # quadrature (integration) \n",
    "integral, error = quad(f, a, b)    # shall give the results \n",
    "                                     #  and the error in it\n",
    "integral_trapezoid=sum((xint[1:]-xint[:-1])*(yint[1:]+yint[:-1]))/2\n",
    "                                # use the trapezoid formula\n",
    "print(f\"The results should be:{integral} +/- {error}\")\n",
    "print(\"The results by the trapezoid approximation with\", len(xint),\\\n",
    "      \"points is:\", integral_trapezoid)"
   ],
   "outputs": [
    {
     "name": "stdout",
     "output_type": "stream",
     "text": [
      "The results should be:17.25 +/- 1.9775770133077287e-13\n",
      "The results by the trapezoid approximation with 6 points is: 18.240000000000002\n"
     ]
    }
   ],
   "execution_count": 391
  },
  {
   "cell_type": "markdown",
   "metadata": {},
   "source": [
    "#### Gauss Integration\n"
   ]
  },
  {
   "cell_type": "markdown",
   "metadata": {},
   "source": [
    "Gauss integration (or quadrature) is regarded as one of the most effective numerical integration techniques. It samples the integrand function at specific points called the Gauss points, and sums up these sampled function values weighted by the Gauss weights respectively for these points. It can produce exact values (to machine accuracy) for the integration for a polynomial integrand, because the Gauss point locations are the roots of the Legendre polynomials defined in the natural coordinates in $[-1, 1]$. \n",
    "\n",
    "The Gauss integration is widely applied in numerical integration, if the fixed locations of sampling points are not a concern. It is a standard integration scheme used in the FEM \\cite{liu2013finite}. Here we show an example using the p_roots() function available in Scipy module to find the roots of polynomials, and then carry out the integration.  "
   ]
  },
  {
   "cell_type": "code",
   "metadata": {
    "ExecuteTime": {
     "end_time": "2025-01-21T21:15:19.323190Z",
     "start_time": "2025-01-21T21:15:19.308119Z"
    }
   },
   "source": [
    "from pylab import *\n",
    "from scipy.special import p_roots"
   ],
   "outputs": [],
   "execution_count": 392
  },
  {
   "cell_type": "code",
   "metadata": {
    "ExecuteTime": {
     "end_time": "2025-01-21T21:15:20.102203Z",
     "start_time": "2025-01-21T21:15:20.087198Z"
    }
   },
   "source": [
    "def gauss(f,n,a,b):\n",
    "    [x,w] = p_roots(n+1)  # roots of the Legendre polynomial and weights\n",
    "    G=0.5*(b-a)*sum(w*f(0.5*(b-a)*x+0.5*(b+a))) # in natural coordinates\n",
    "                 # sample the function values at these roots and sum up. \n",
    "    return G"
   ],
   "outputs": [],
   "execution_count": 393
  },
  {
   "cell_type": "code",
   "metadata": {
    "ExecuteTime": {
     "end_time": "2025-01-21T21:15:20.726475Z",
     "start_time": "2025-01-21T21:15:20.714471Z"
    }
   },
   "source": [
    "def my_f(x):\n",
    "    return 9*x**3-8*x**2-7*x+6           # define a polynomial function\n",
    "ng = 2 \n",
    "integral_Gauss = gauss(my_f,ng,a,b)\n",
    "print(\"The integral results should be:\", integral, \"+/-\", error)\n",
    "print(\"The results by the trapezoid approximation with\", len(xint),\\\n",
    "      \"points is:\", integral_trapezoid)\n",
    "print(\"The results by the Gauss integration with\", ng, 'Gauss points:',\\\n",
    "      \"points is:\", integral_Gauss)"
   ],
   "outputs": [
    {
     "name": "stdout",
     "output_type": "stream",
     "text": [
      "The integral results should be: 17.25 +/- 1.9775770133077287e-13\n",
      "The results by the trapezoid approximation with 6 points is: 18.240000000000002\n",
      "The results by the Gauss integration with 2 Gauss points: points is: 17.250000000000007\n"
     ]
    }
   ],
   "execution_count": 394
  },
  {
   "cell_type": "markdown",
   "metadata": {},
   "source": [
    "It is observed that the Gauss integration gives much more accurate solution with much smaller number of sampling points. In fact, the solution is exact (within the machine error) for this example, because the integrand is a polynomial of order of 3. We need only 2 Gauss points to obtain the exact solution. The general formula for polynomial integrands is $n_g = \\frac{n+1}{2}$, where $n$ is the order of the polynomial integrand and $n_g$ is the number of Gauss points needed to obtain the exact solution for the integral. Note when the trapezoid integration rule is used with 6 sampling points, the solution is still quite far off.  \n",
    "\n",
    "For general complicated integrand functions, Gauss integration may not give the exact solution. The accuracy, however, will still be much better compared to the trapezoid rule or the rectangular rule (which we did not discuss, but very similar to the trapezoid rule). In other words, for solutions of similar accuracy, Gauss integration uses less sampling points. "
   ]
  },
  {
   "cell_type": "markdown",
   "metadata": {},
   "source": [
    "### Initial data treatment"
   ]
  },
  {
   "cell_type": "markdown",
   "metadata": {},
   "source": [
    "Finally, let us introduce techniques often used  for initial treatment for datasets. Consider a given training dataset $\\mathbf{X} \\in \\mathbb{X}^{m\\times p}$. In machine learning models, $m$ is the number of data-points in the dataset, and $p$ is the number of feature variables. The values of the data are often in a wide range for real-life problems. For numerical stability reasons, we usually perform normalization to the given dataset before feeding it to a model. There are mainly two techniques are used: min-max feature scaling and standard scaling. Such a scaling or normalization is also called transformation in many ML modules. "
   ]
  },
  {
   "cell_type": "markdown",
   "metadata": {},
   "source": [
    "#### Min-max scaling\n",
    "\n",
    "For formulation for min-max scaling is given as follows. \n",
    "\n",
    "\\begin{equation} \\label{MinMax}\n",
    "\\mathbf{X}_{scaled}=\\frac{\\mathbf{X}-\\mathbf{X}.\\min(axis=0)}{\\mathbf{X}.\\max(axis=0)-\\mathbf{X}.\\min(axis=0)}\n",
    "\\end{equation}\n",
    "\n",
    "where $\\mathbf{X}.\\max$ and $\\mathbf{X}.\\min$ will be (row) vectors, and we used the Python syntax of broadcasting rules and element-wise divisions. This would bring all values for each feature into $[0, 1]$ range. A more generalized formula that can bring these values to an arbitrary range of $[a, b]$ is given as follows. \n",
    "\n",
    "\\begin{equation} \\label{MinMaxab}\n",
    "\\mathbf{X}_{scaled}= a + \\frac{\\mathbf{X}-\\mathbf{X}.\\min(axis=0)}{\\mathbf{X}.\\max(axis=0)-\\mathbf{X}.\\min(axis=0)} (b-a)\n",
    "\\end{equation}\n",
    "\n",
    "Here we used again the Python syntax so that scalars, vectors and matrix are all in the same formula. \n",
    "\n",
    "Once such a scaling transformation to the training dataset is done, $\\mathbf{X}.\\max$ and $\\mathbf{X}.\\min$ can be used to perform exactly the same transformation to the testing dataset to ensure consistency for proper predictions. \n",
    "\n",
    "The following is a simple code to perform min-max scaling using Eq.(\\ref{MinMax}). "
   ]
  },
  {
   "cell_type": "code",
   "metadata": {
    "ExecuteTime": {
     "end_time": "2025-01-21T21:15:22.822518Z",
     "start_time": "2025-01-21T21:15:22.813411Z"
    }
   },
   "source": [
    "np.set_printoptions(precision=4)\n",
    "X = [[-1,  2,   8],            # an assumed toy training dataset\n",
    "     [2.5, 6, 1.5],            # with 4 samples, and 3 features\n",
    "     [3,   11, -6], \n",
    "     [21,  7,   2]]\n",
    "print(f\"Original training dataset X:\\n{X}\")\n",
    "X = np.array(X)\n",
    "X_scaled = (X - X.min(axis=0)) / (X.max(axis=0) - X.min(axis=0))\n",
    "print(f\"Scaled training dataset X:\\n{X_scaled}\")\n",
    "print(f\"Maximum values for each feature:\\n{X.max(axis=0)}\")\n",
    "print(f\"Minimum values for each feature:\\n{X.min(axis=0)}\")"
   ],
   "outputs": [
    {
     "name": "stdout",
     "output_type": "stream",
     "text": [
      "Original training dataset X:\n",
      "[[-1, 2, 8], [2.5, 6, 1.5], [3, 11, -6], [21, 7, 2]]\n",
      "Scaled training dataset X:\n",
      "[[0.     0.     1.    ]\n",
      " [0.1591 0.4444 0.5357]\n",
      " [0.1818 1.     0.    ]\n",
      " [1.     0.5556 0.5714]]\n",
      "Maximum values for each feature:\n",
      "[21. 11.  8.]\n",
      "Minimum values for each feature:\n",
      "[-1.  2. -6.]\n"
     ]
    }
   ],
   "execution_count": 395
  },
  {
   "cell_type": "markdown",
   "metadata": {},
   "source": [
    "We can now perform the same transformation to the testing dataset using  $\\mathbf{X}.\\max$ and $\\mathbf{X}.\\min$ of the training dataset. "
   ]
  },
  {
   "cell_type": "code",
   "metadata": {
    "ExecuteTime": {
     "end_time": "2025-01-21T21:15:23.570550Z",
     "start_time": "2025-01-21T21:15:23.556184Z"
    }
   },
   "source": [
    "Xtest = [[-2,  3,   7],                    # assumed testing dataset\n",
    "         [5,   4, 5.5]] \n",
    "Xt_scaled = (Xtest - X.min(axis=0)) / (X.max(axis=0) - X.min(axis=0))\n",
    "print(f\"Scaled corresponding testing dataset Xtest:\\n{Xt_scaled}\")"
   ],
   "outputs": [
    {
     "name": "stdout",
     "output_type": "stream",
     "text": [
      "Scaled corresponding testing dataset Xtest:\n",
      "[[-0.0455  0.1111  0.9286]\n",
      " [ 0.2727  0.2222  0.8214]]\n"
     ]
    }
   ],
   "execution_count": 396
  },
  {
   "cell_type": "markdown",
   "metadata": {},
   "source": [
    "The inverse transformation can be done with ease. "
   ]
  },
  {
   "cell_type": "code",
   "metadata": {
    "ExecuteTime": {
     "end_time": "2025-01-21T21:15:24.331134Z",
     "start_time": "2025-01-21T21:15:24.325082Z"
    }
   },
   "source": [
    "X_back = X_scaled*(X.max(axis=0) - X.min(axis=0))+ X.min(axis=0)\n",
    "print(f\"Back transformed training dataset:\\n{X_back}\")\n",
    "\n",
    "Xt_back = Xt_scaled*(X.max(axis=0) - X.min(axis=0))+ X.min(axis=0)\n",
    "print(f\"Back transformed testing dataset Xtest:\\n{Xt_back}\")"
   ],
   "outputs": [
    {
     "name": "stdout",
     "output_type": "stream",
     "text": [
      "Back transformed training dataset:\n",
      "[[-1.   2.   8. ]\n",
      " [ 2.5  6.   1.5]\n",
      " [ 3.  11.  -6. ]\n",
      " [21.   7.   2. ]]\n",
      "Back transformed testing dataset Xtest:\n",
      "[[-2.   3.   7. ]\n",
      " [ 5.   4.   5.5]]\n"
     ]
    }
   ],
   "execution_count": 397
  },
  {
   "cell_type": "markdown",
   "metadata": {},
   "source": [
    "It is clearly seen that the min-max scaling does no harm to the dataset. One can get it back as needed. "
   ]
  },
  {
   "cell_type": "markdown",
   "metadata": {},
   "source": [
    "The same min-max scaling can be done using Sklearn. "
   ]
  },
  {
   "cell_type": "code",
   "metadata": {
    "ExecuteTime": {
     "end_time": "2025-01-21T21:15:25.398724Z",
     "start_time": "2025-01-21T21:15:25.385104Z"
    }
   },
   "source": [
    "from sklearn.preprocessing import MinMaxScaler\n",
    "scaler = MinMaxScaler()                         # create an instance\n",
    "scaler.fit(X)                        # fit with the training dataset\n",
    "X_scaled = scaler.transform(X)  # perform the scaling transformation\n",
    "print(f\"Scaled training dataset X:\\n{X_scaled}\")\n",
    "print(f\"Maximum values for each feature:\\n{scaler.data_max_}\")\n",
    "print(f\"Minimum values for each feature:\\n{scaler.data_min_}\")"
   ],
   "outputs": [
    {
     "name": "stdout",
     "output_type": "stream",
     "text": [
      "Scaled training dataset X:\n",
      "[[0.     0.     1.    ]\n",
      " [0.1591 0.4444 0.5357]\n",
      " [0.1818 1.     0.    ]\n",
      " [1.     0.5556 0.5714]]\n",
      "Maximum values for each feature:\n",
      "[21. 11.  8.]\n",
      "Minimum values for each feature:\n",
      "[-1.  2. -6.]\n"
     ]
    }
   ],
   "execution_count": 398
  },
  {
   "cell_type": "code",
   "metadata": {
    "ExecuteTime": {
     "end_time": "2025-01-21T21:15:25.756770Z",
     "start_time": "2025-01-21T21:15:25.745565Z"
    }
   },
   "source": [
    "Xtest = [[-2,  3,   7],            # assumed testing dataset\n",
    "         [5,   4, 5.5]] \n",
    "Xt_scaled = scaler.transform(Xtest)\n",
    "print(f\"Scaled corresponding testing dataset:\\n{Xt_scaled}\")"
   ],
   "outputs": [
    {
     "name": "stdout",
     "output_type": "stream",
     "text": [
      "Scaled corresponding testing dataset:\n",
      "[[-0.0455  0.1111  0.9286]\n",
      " [ 0.2727  0.2222  0.8214]]\n"
     ]
    }
   ],
   "execution_count": 399
  },
  {
   "cell_type": "code",
   "metadata": {
    "ExecuteTime": {
     "end_time": "2025-01-21T21:15:26.084474Z",
     "start_time": "2025-01-21T21:15:26.073411Z"
    }
   },
   "source": [
    "X_back = scaler.inverse_transform(X_scaled)\n",
    "print(f\"Back transformed training dataset:\\n{X_back}\")\n",
    "\n",
    "Xt_back = scaler.inverse_transform(Xt_scaled)\n",
    "print(f\"\\nBack transformed testing dataset Xtest:\\n{Xt_back}\")"
   ],
   "outputs": [
    {
     "name": "stdout",
     "output_type": "stream",
     "text": [
      "Back transformed training dataset:\n",
      "[[-1.   2.   8. ]\n",
      " [ 2.5  6.   1.5]\n",
      " [ 3.  11.  -6. ]\n",
      " [21.   7.   2. ]]\n",
      "\n",
      "Back transformed testing dataset Xtest:\n",
      "[[-2.   3.   7. ]\n",
      " [ 5.   4.   5.5]]\n"
     ]
    }
   ],
   "execution_count": 400
  },
  {
   "cell_type": "markdown",
   "metadata": {},
   "source": [
    "#### \"One-hot\" encoding\n",
    "\n",
    "Many ML datasets use categorical features. For example, a color variable may have values of \"red\", \"green\", and \"blue\". These values must be converted to numerical numbers for building a ML model. Consider a single column feature vector is given originally as [[green], [red], [0], [blue]], one can simply encode this feature vector as [[1], [2], [0], [3]], where the integers are arbitrary but distinct. The treatment to dataset coded in this manner will be the same as any ordinary dataset we discussed before. However, this implies that the colors are having significance in values, which may not be what we want. \n",
    "\n",
    "To avoid such a problem, we often use the so-called \"one-hot\" encoding. The single column dataset is then encoded to a matrix $\\mathbf{X}$ with three columns, as shown in Fig.\\ref{fig:One-Hot}. \n",
    "\n",
    "\\begin{figure}\n",
    "  \\hfill\\includegraphics[width=.9\\textwidth, left]{./images/One-Hot.png}\n",
    "  \\caption{\\label{fig:One-Hot} One-Hot encoding.}\n",
    "\\end{figure}"
   ]
  },
  {
   "cell_type": "markdown",
   "metadata": {},
   "source": [
    "Thus, one-hot encoding results in a significant increase in the number of feature vectors, so that the features can all be made unique, and the categories are not given any value significance. The following is a simple example code to perform such a one-hot encoding. "
   ]
  },
  {
   "cell_type": "code",
   "metadata": {
    "ExecuteTime": {
     "end_time": "2025-01-21T21:15:27.441899Z",
     "start_time": "2025-01-21T21:15:27.427882Z"
    }
   },
   "source": [
    "import pandas as pd           # for better viewing and manipulating datasets\n",
    "from sklearn.preprocessing import OneHotEncoder"
   ],
   "outputs": [],
   "execution_count": 401
  },
  {
   "cell_type": "code",
   "metadata": {
    "ExecuteTime": {
     "end_time": "2025-01-21T21:15:27.785156Z",
     "start_time": "2025-01-21T21:15:27.742856Z"
    }
   },
   "source": [
    "df = pd.read_csv(\"datasets/CategoricalTest.csv\")  # a simple made-up dataset\n",
    "df.head()"
   ],
   "outputs": [
    {
     "ename": "FileNotFoundError",
     "evalue": "[Errno 2] File datasets/CategoricalTest.csv does not exist: 'datasets/CategoricalTest.csv'",
     "output_type": "error",
     "traceback": [
      "\u001B[1;31m---------------------------------------------------------------------------\u001B[0m",
      "\u001B[1;31mFileNotFoundError\u001B[0m                         Traceback (most recent call last)",
      "\u001B[1;32m<ipython-input-402-68080fe8a811>\u001B[0m in \u001B[0;36m<module>\u001B[1;34m\u001B[0m\n\u001B[1;32m----> 1\u001B[1;33m \u001B[0mdf\u001B[0m \u001B[1;33m=\u001B[0m \u001B[0mpd\u001B[0m\u001B[1;33m.\u001B[0m\u001B[0mread_csv\u001B[0m\u001B[1;33m(\u001B[0m\u001B[1;34m\"datasets/CategoricalTest.csv\"\u001B[0m\u001B[1;33m)\u001B[0m  \u001B[1;31m# a simple made-up dataset\u001B[0m\u001B[1;33m\u001B[0m\u001B[1;33m\u001B[0m\u001B[0m\n\u001B[0m\u001B[0;32m      2\u001B[0m \u001B[0mdf\u001B[0m\u001B[1;33m.\u001B[0m\u001B[0mhead\u001B[0m\u001B[1;33m(\u001B[0m\u001B[1;33m)\u001B[0m\u001B[1;33m\u001B[0m\u001B[1;33m\u001B[0m\u001B[0m\n",
      "\u001B[1;32m~\\.conda\\envs\\MachineLearning36\\lib\\site-packages\\pandas\\io\\parsers.py\u001B[0m in \u001B[0;36mparser_f\u001B[1;34m(filepath_or_buffer, sep, delimiter, header, names, index_col, usecols, squeeze, prefix, mangle_dupe_cols, dtype, engine, converters, true_values, false_values, skipinitialspace, skiprows, skipfooter, nrows, na_values, keep_default_na, na_filter, verbose, skip_blank_lines, parse_dates, infer_datetime_format, keep_date_col, date_parser, dayfirst, cache_dates, iterator, chunksize, compression, thousands, decimal, lineterminator, quotechar, quoting, doublequote, escapechar, comment, encoding, dialect, error_bad_lines, warn_bad_lines, delim_whitespace, low_memory, memory_map, float_precision)\u001B[0m\n\u001B[0;32m    674\u001B[0m         )\n\u001B[0;32m    675\u001B[0m \u001B[1;33m\u001B[0m\u001B[0m\n\u001B[1;32m--> 676\u001B[1;33m         \u001B[1;32mreturn\u001B[0m \u001B[0m_read\u001B[0m\u001B[1;33m(\u001B[0m\u001B[0mfilepath_or_buffer\u001B[0m\u001B[1;33m,\u001B[0m \u001B[0mkwds\u001B[0m\u001B[1;33m)\u001B[0m\u001B[1;33m\u001B[0m\u001B[1;33m\u001B[0m\u001B[0m\n\u001B[0m\u001B[0;32m    677\u001B[0m \u001B[1;33m\u001B[0m\u001B[0m\n\u001B[0;32m    678\u001B[0m     \u001B[0mparser_f\u001B[0m\u001B[1;33m.\u001B[0m\u001B[0m__name__\u001B[0m \u001B[1;33m=\u001B[0m \u001B[0mname\u001B[0m\u001B[1;33m\u001B[0m\u001B[1;33m\u001B[0m\u001B[0m\n",
      "\u001B[1;32m~\\.conda\\envs\\MachineLearning36\\lib\\site-packages\\pandas\\io\\parsers.py\u001B[0m in \u001B[0;36m_read\u001B[1;34m(filepath_or_buffer, kwds)\u001B[0m\n\u001B[0;32m    446\u001B[0m \u001B[1;33m\u001B[0m\u001B[0m\n\u001B[0;32m    447\u001B[0m     \u001B[1;31m# Create the parser.\u001B[0m\u001B[1;33m\u001B[0m\u001B[1;33m\u001B[0m\u001B[1;33m\u001B[0m\u001B[0m\n\u001B[1;32m--> 448\u001B[1;33m     \u001B[0mparser\u001B[0m \u001B[1;33m=\u001B[0m \u001B[0mTextFileReader\u001B[0m\u001B[1;33m(\u001B[0m\u001B[0mfp_or_buf\u001B[0m\u001B[1;33m,\u001B[0m \u001B[1;33m**\u001B[0m\u001B[0mkwds\u001B[0m\u001B[1;33m)\u001B[0m\u001B[1;33m\u001B[0m\u001B[1;33m\u001B[0m\u001B[0m\n\u001B[0m\u001B[0;32m    449\u001B[0m \u001B[1;33m\u001B[0m\u001B[0m\n\u001B[0;32m    450\u001B[0m     \u001B[1;32mif\u001B[0m \u001B[0mchunksize\u001B[0m \u001B[1;32mor\u001B[0m \u001B[0miterator\u001B[0m\u001B[1;33m:\u001B[0m\u001B[1;33m\u001B[0m\u001B[1;33m\u001B[0m\u001B[0m\n",
      "\u001B[1;32m~\\.conda\\envs\\MachineLearning36\\lib\\site-packages\\pandas\\io\\parsers.py\u001B[0m in \u001B[0;36m__init__\u001B[1;34m(self, f, engine, **kwds)\u001B[0m\n\u001B[0;32m    878\u001B[0m             \u001B[0mself\u001B[0m\u001B[1;33m.\u001B[0m\u001B[0moptions\u001B[0m\u001B[1;33m[\u001B[0m\u001B[1;34m\"has_index_names\"\u001B[0m\u001B[1;33m]\u001B[0m \u001B[1;33m=\u001B[0m \u001B[0mkwds\u001B[0m\u001B[1;33m[\u001B[0m\u001B[1;34m\"has_index_names\"\u001B[0m\u001B[1;33m]\u001B[0m\u001B[1;33m\u001B[0m\u001B[1;33m\u001B[0m\u001B[0m\n\u001B[0;32m    879\u001B[0m \u001B[1;33m\u001B[0m\u001B[0m\n\u001B[1;32m--> 880\u001B[1;33m         \u001B[0mself\u001B[0m\u001B[1;33m.\u001B[0m\u001B[0m_make_engine\u001B[0m\u001B[1;33m(\u001B[0m\u001B[0mself\u001B[0m\u001B[1;33m.\u001B[0m\u001B[0mengine\u001B[0m\u001B[1;33m)\u001B[0m\u001B[1;33m\u001B[0m\u001B[1;33m\u001B[0m\u001B[0m\n\u001B[0m\u001B[0;32m    881\u001B[0m \u001B[1;33m\u001B[0m\u001B[0m\n\u001B[0;32m    882\u001B[0m     \u001B[1;32mdef\u001B[0m \u001B[0mclose\u001B[0m\u001B[1;33m(\u001B[0m\u001B[0mself\u001B[0m\u001B[1;33m)\u001B[0m\u001B[1;33m:\u001B[0m\u001B[1;33m\u001B[0m\u001B[1;33m\u001B[0m\u001B[0m\n",
      "\u001B[1;32m~\\.conda\\envs\\MachineLearning36\\lib\\site-packages\\pandas\\io\\parsers.py\u001B[0m in \u001B[0;36m_make_engine\u001B[1;34m(self, engine)\u001B[0m\n\u001B[0;32m   1112\u001B[0m     \u001B[1;32mdef\u001B[0m \u001B[0m_make_engine\u001B[0m\u001B[1;33m(\u001B[0m\u001B[0mself\u001B[0m\u001B[1;33m,\u001B[0m \u001B[0mengine\u001B[0m\u001B[1;33m=\u001B[0m\u001B[1;34m\"c\"\u001B[0m\u001B[1;33m)\u001B[0m\u001B[1;33m:\u001B[0m\u001B[1;33m\u001B[0m\u001B[1;33m\u001B[0m\u001B[0m\n\u001B[0;32m   1113\u001B[0m         \u001B[1;32mif\u001B[0m \u001B[0mengine\u001B[0m \u001B[1;33m==\u001B[0m \u001B[1;34m\"c\"\u001B[0m\u001B[1;33m:\u001B[0m\u001B[1;33m\u001B[0m\u001B[1;33m\u001B[0m\u001B[0m\n\u001B[1;32m-> 1114\u001B[1;33m             \u001B[0mself\u001B[0m\u001B[1;33m.\u001B[0m\u001B[0m_engine\u001B[0m \u001B[1;33m=\u001B[0m \u001B[0mCParserWrapper\u001B[0m\u001B[1;33m(\u001B[0m\u001B[0mself\u001B[0m\u001B[1;33m.\u001B[0m\u001B[0mf\u001B[0m\u001B[1;33m,\u001B[0m \u001B[1;33m**\u001B[0m\u001B[0mself\u001B[0m\u001B[1;33m.\u001B[0m\u001B[0moptions\u001B[0m\u001B[1;33m)\u001B[0m\u001B[1;33m\u001B[0m\u001B[1;33m\u001B[0m\u001B[0m\n\u001B[0m\u001B[0;32m   1115\u001B[0m         \u001B[1;32melse\u001B[0m\u001B[1;33m:\u001B[0m\u001B[1;33m\u001B[0m\u001B[1;33m\u001B[0m\u001B[0m\n\u001B[0;32m   1116\u001B[0m             \u001B[1;32mif\u001B[0m \u001B[0mengine\u001B[0m \u001B[1;33m==\u001B[0m \u001B[1;34m\"python\"\u001B[0m\u001B[1;33m:\u001B[0m\u001B[1;33m\u001B[0m\u001B[1;33m\u001B[0m\u001B[0m\n",
      "\u001B[1;32m~\\.conda\\envs\\MachineLearning36\\lib\\site-packages\\pandas\\io\\parsers.py\u001B[0m in \u001B[0;36m__init__\u001B[1;34m(self, src, **kwds)\u001B[0m\n\u001B[0;32m   1889\u001B[0m         \u001B[0mkwds\u001B[0m\u001B[1;33m[\u001B[0m\u001B[1;34m\"usecols\"\u001B[0m\u001B[1;33m]\u001B[0m \u001B[1;33m=\u001B[0m \u001B[0mself\u001B[0m\u001B[1;33m.\u001B[0m\u001B[0musecols\u001B[0m\u001B[1;33m\u001B[0m\u001B[1;33m\u001B[0m\u001B[0m\n\u001B[0;32m   1890\u001B[0m \u001B[1;33m\u001B[0m\u001B[0m\n\u001B[1;32m-> 1891\u001B[1;33m         \u001B[0mself\u001B[0m\u001B[1;33m.\u001B[0m\u001B[0m_reader\u001B[0m \u001B[1;33m=\u001B[0m \u001B[0mparsers\u001B[0m\u001B[1;33m.\u001B[0m\u001B[0mTextReader\u001B[0m\u001B[1;33m(\u001B[0m\u001B[0msrc\u001B[0m\u001B[1;33m,\u001B[0m \u001B[1;33m**\u001B[0m\u001B[0mkwds\u001B[0m\u001B[1;33m)\u001B[0m\u001B[1;33m\u001B[0m\u001B[1;33m\u001B[0m\u001B[0m\n\u001B[0m\u001B[0;32m   1892\u001B[0m         \u001B[0mself\u001B[0m\u001B[1;33m.\u001B[0m\u001B[0munnamed_cols\u001B[0m \u001B[1;33m=\u001B[0m \u001B[0mself\u001B[0m\u001B[1;33m.\u001B[0m\u001B[0m_reader\u001B[0m\u001B[1;33m.\u001B[0m\u001B[0munnamed_cols\u001B[0m\u001B[1;33m\u001B[0m\u001B[1;33m\u001B[0m\u001B[0m\n\u001B[0;32m   1893\u001B[0m \u001B[1;33m\u001B[0m\u001B[0m\n",
      "\u001B[1;32mpandas\\_libs\\parsers.pyx\u001B[0m in \u001B[0;36mpandas._libs.parsers.TextReader.__cinit__\u001B[1;34m()\u001B[0m\n",
      "\u001B[1;32mpandas\\_libs\\parsers.pyx\u001B[0m in \u001B[0;36mpandas._libs.parsers.TextReader._setup_parser_source\u001B[1;34m()\u001B[0m\n",
      "\u001B[1;31mFileNotFoundError\u001B[0m: [Errno 2] File datasets/CategoricalTest.csv does not exist: 'datasets/CategoricalTest.csv'"
     ]
    }
   ],
   "execution_count": 402
  },
  {
   "cell_type": "code",
   "metadata": {
    "ExecuteTime": {
     "end_time": "2025-01-21T21:15:28.111975Z",
     "start_time": "2025-01-21T21:15:28.099829Z"
    }
   },
   "source": [
    "ohe = OneHotEncoder()\n",
    "feature_arry = ohe.fit_transform(df[[\"Colour\",\"Country\"]]).toarray()\n",
    "feature_arry"
   ],
   "outputs": [
    {
     "ename": "NameError",
     "evalue": "name 'df' is not defined",
     "output_type": "error",
     "traceback": [
      "\u001B[1;31m---------------------------------------------------------------------------\u001B[0m",
      "\u001B[1;31mNameError\u001B[0m                                 Traceback (most recent call last)",
      "\u001B[1;32m<ipython-input-403-862b09053588>\u001B[0m in \u001B[0;36m<module>\u001B[1;34m\u001B[0m\n\u001B[0;32m      1\u001B[0m \u001B[0mohe\u001B[0m \u001B[1;33m=\u001B[0m \u001B[0mOneHotEncoder\u001B[0m\u001B[1;33m(\u001B[0m\u001B[1;33m)\u001B[0m\u001B[1;33m\u001B[0m\u001B[1;33m\u001B[0m\u001B[0m\n\u001B[1;32m----> 2\u001B[1;33m \u001B[0mfeature_arry\u001B[0m \u001B[1;33m=\u001B[0m \u001B[0mohe\u001B[0m\u001B[1;33m.\u001B[0m\u001B[0mfit_transform\u001B[0m\u001B[1;33m(\u001B[0m\u001B[0mdf\u001B[0m\u001B[1;33m[\u001B[0m\u001B[1;33m[\u001B[0m\u001B[1;34m\"Colour\"\u001B[0m\u001B[1;33m,\u001B[0m\u001B[1;34m\"Country\"\u001B[0m\u001B[1;33m]\u001B[0m\u001B[1;33m]\u001B[0m\u001B[1;33m)\u001B[0m\u001B[1;33m.\u001B[0m\u001B[0mtoarray\u001B[0m\u001B[1;33m(\u001B[0m\u001B[1;33m)\u001B[0m\u001B[1;33m\u001B[0m\u001B[1;33m\u001B[0m\u001B[0m\n\u001B[0m\u001B[0;32m      3\u001B[0m \u001B[0mfeature_arry\u001B[0m\u001B[1;33m\u001B[0m\u001B[1;33m\u001B[0m\u001B[0m\n",
      "\u001B[1;31mNameError\u001B[0m: name 'df' is not defined"
     ]
    }
   ],
   "execution_count": 403
  },
  {
   "cell_type": "code",
   "execution_count": 133,
   "metadata": {
    "ExecuteTime": {
     "end_time": "2025-01-21T20:59:49.934824800Z",
     "start_time": "2025-01-15T14:03:08.959333Z"
    }
   },
   "outputs": [
    {
     "data": {
      "text/plain": [
       "array(['0', 'Blue', 'Green', 'Red', 'A', 'B', 'C'], dtype=object)"
      ]
     },
     "execution_count": 133,
     "metadata": {},
     "output_type": "execute_result"
    }
   ],
   "source": [
    "feature_labels = np.hstack((ohe.categories_[0], ohe.categories_[1])) \n",
    "feature_labels"
   ]
  },
  {
   "cell_type": "code",
   "execution_count": 134,
   "metadata": {
    "ExecuteTime": {
     "end_time": "2025-01-21T20:59:49.935825200Z",
     "start_time": "2025-01-15T14:03:12.080999Z"
    }
   },
   "outputs": [
    {
     "data": {
      "text/html": [
       "<div>\n",
       "<style scoped>\n",
       "    .dataframe tbody tr th:only-of-type {\n",
       "        vertical-align: middle;\n",
       "    }\n",
       "\n",
       "    .dataframe tbody tr th {\n",
       "        vertical-align: top;\n",
       "    }\n",
       "\n",
       "    .dataframe thead th {\n",
       "        text-align: right;\n",
       "    }\n",
       "</style>\n",
       "<table border=\"1\" class=\"dataframe\">\n",
       "  <thead>\n",
       "    <tr style=\"text-align: right;\">\n",
       "      <th></th>\n",
       "      <th>0</th>\n",
       "      <th>Blue</th>\n",
       "      <th>Green</th>\n",
       "      <th>Red</th>\n",
       "      <th>A</th>\n",
       "      <th>B</th>\n",
       "      <th>C</th>\n",
       "    </tr>\n",
       "  </thead>\n",
       "  <tbody>\n",
       "    <tr>\n",
       "      <th>0</th>\n",
       "      <td>0.0</td>\n",
       "      <td>0.0</td>\n",
       "      <td>1.0</td>\n",
       "      <td>0.0</td>\n",
       "      <td>1.0</td>\n",
       "      <td>0.0</td>\n",
       "      <td>0.0</td>\n",
       "    </tr>\n",
       "    <tr>\n",
       "      <th>1</th>\n",
       "      <td>0.0</td>\n",
       "      <td>0.0</td>\n",
       "      <td>0.0</td>\n",
       "      <td>1.0</td>\n",
       "      <td>0.0</td>\n",
       "      <td>1.0</td>\n",
       "      <td>0.0</td>\n",
       "    </tr>\n",
       "    <tr>\n",
       "      <th>2</th>\n",
       "      <td>1.0</td>\n",
       "      <td>0.0</td>\n",
       "      <td>0.0</td>\n",
       "      <td>0.0</td>\n",
       "      <td>0.0</td>\n",
       "      <td>0.0</td>\n",
       "      <td>1.0</td>\n",
       "    </tr>\n",
       "    <tr>\n",
       "      <th>3</th>\n",
       "      <td>0.0</td>\n",
       "      <td>1.0</td>\n",
       "      <td>0.0</td>\n",
       "      <td>0.0</td>\n",
       "      <td>0.0</td>\n",
       "      <td>0.0</td>\n",
       "      <td>1.0</td>\n",
       "    </tr>\n",
       "    <tr>\n",
       "      <th>4</th>\n",
       "      <td>0.0</td>\n",
       "      <td>1.0</td>\n",
       "      <td>0.0</td>\n",
       "      <td>0.0</td>\n",
       "      <td>1.0</td>\n",
       "      <td>0.0</td>\n",
       "      <td>0.0</td>\n",
       "    </tr>\n",
       "  </tbody>\n",
       "</table>\n",
       "</div>"
      ],
      "text/plain": [
       "     0  Blue  Green  Red    A    B    C\n",
       "0  0.0   0.0    1.0  0.0  1.0  0.0  0.0\n",
       "1  0.0   0.0    0.0  1.0  0.0  1.0  0.0\n",
       "2  1.0   0.0    0.0  0.0  0.0  0.0  1.0\n",
       "3  0.0   1.0    0.0  0.0  0.0  0.0  1.0\n",
       "4  0.0   1.0    0.0  0.0  1.0  0.0  0.0"
      ]
     },
     "execution_count": 134,
     "metadata": {},
     "output_type": "execute_result"
    }
   ],
   "source": [
    "features = pd.DataFrame(feature_arry, columns = feature_labels)\n",
    "features.head()"
   ]
  },
  {
   "cell_type": "code",
   "execution_count": 135,
   "metadata": {
    "ExecuteTime": {
     "end_time": "2025-01-21T20:59:49.936825800Z",
     "start_time": "2025-01-15T14:03:15.117056Z"
    }
   },
   "outputs": [
    {
     "data": {
      "text/html": [
       "<div>\n",
       "<style scoped>\n",
       "    .dataframe tbody tr th:only-of-type {\n",
       "        vertical-align: middle;\n",
       "    }\n",
       "\n",
       "    .dataframe tbody tr th {\n",
       "        vertical-align: top;\n",
       "    }\n",
       "\n",
       "    .dataframe thead th {\n",
       "        text-align: right;\n",
       "    }\n",
       "</style>\n",
       "<table border=\"1\" class=\"dataframe\">\n",
       "  <thead>\n",
       "    <tr style=\"text-align: right;\">\n",
       "      <th></th>\n",
       "      <th>Indx</th>\n",
       "      <th>0</th>\n",
       "      <th>Blue</th>\n",
       "      <th>Green</th>\n",
       "      <th>Red</th>\n",
       "      <th>A</th>\n",
       "      <th>B</th>\n",
       "      <th>C</th>\n",
       "    </tr>\n",
       "  </thead>\n",
       "  <tbody>\n",
       "    <tr>\n",
       "      <th>0</th>\n",
       "      <td>60.0</td>\n",
       "      <td>0.0</td>\n",
       "      <td>0.0</td>\n",
       "      <td>1.0</td>\n",
       "      <td>0.0</td>\n",
       "      <td>1.0</td>\n",
       "      <td>0.0</td>\n",
       "      <td>0.0</td>\n",
       "    </tr>\n",
       "    <tr>\n",
       "      <th>1</th>\n",
       "      <td>8.6</td>\n",
       "      <td>0.0</td>\n",
       "      <td>0.0</td>\n",
       "      <td>0.0</td>\n",
       "      <td>1.0</td>\n",
       "      <td>0.0</td>\n",
       "      <td>1.0</td>\n",
       "      <td>0.0</td>\n",
       "    </tr>\n",
       "    <tr>\n",
       "      <th>2</th>\n",
       "      <td>45.0</td>\n",
       "      <td>1.0</td>\n",
       "      <td>0.0</td>\n",
       "      <td>0.0</td>\n",
       "      <td>0.0</td>\n",
       "      <td>0.0</td>\n",
       "      <td>0.0</td>\n",
       "      <td>1.0</td>\n",
       "    </tr>\n",
       "    <tr>\n",
       "      <th>3</th>\n",
       "      <td>45.0</td>\n",
       "      <td>0.0</td>\n",
       "      <td>1.0</td>\n",
       "      <td>0.0</td>\n",
       "      <td>0.0</td>\n",
       "      <td>0.0</td>\n",
       "      <td>0.0</td>\n",
       "      <td>1.0</td>\n",
       "    </tr>\n",
       "    <tr>\n",
       "      <th>4</th>\n",
       "      <td>60.0</td>\n",
       "      <td>0.0</td>\n",
       "      <td>1.0</td>\n",
       "      <td>0.0</td>\n",
       "      <td>0.0</td>\n",
       "      <td>1.0</td>\n",
       "      <td>0.0</td>\n",
       "      <td>0.0</td>\n",
       "    </tr>\n",
       "  </tbody>\n",
       "</table>\n",
       "</div>"
      ],
      "text/plain": [
       "   Indx    0  Blue  Green  Red    A    B    C\n",
       "0  60.0  0.0   0.0    1.0  0.0  1.0  0.0  0.0\n",
       "1   8.6  0.0   0.0    0.0  1.0  0.0  1.0  0.0\n",
       "2  45.0  1.0   0.0    0.0  0.0  0.0  0.0  1.0\n",
       "3  45.0  0.0   1.0    0.0  0.0  0.0  0.0  1.0\n",
       "4  60.0  0.0   1.0    0.0  0.0  1.0  0.0  0.0"
      ]
     },
     "execution_count": 135,
     "metadata": {},
     "output_type": "execute_result"
    }
   ],
   "source": [
    "df2 = pd.concat([df[\"Indx\"], features], axis=1)\n",
    "df2.head()"
   ]
  },
  {
   "cell_type": "code",
   "execution_count": 136,
   "metadata": {
    "ExecuteTime": {
     "end_time": "2025-01-21T20:59:49.936825800Z",
     "start_time": "2025-01-15T14:03:17.652903Z"
    }
   },
   "outputs": [
    {
     "data": {
      "text/html": [
       "<div>\n",
       "<style scoped>\n",
       "    .dataframe tbody tr th:only-of-type {\n",
       "        vertical-align: middle;\n",
       "    }\n",
       "\n",
       "    .dataframe tbody tr th {\n",
       "        vertical-align: top;\n",
       "    }\n",
       "\n",
       "    .dataframe thead th {\n",
       "        text-align: right;\n",
       "    }\n",
       "</style>\n",
       "<table border=\"1\" class=\"dataframe\">\n",
       "  <thead>\n",
       "    <tr style=\"text-align: right;\">\n",
       "      <th></th>\n",
       "      <th>Blue</th>\n",
       "      <th>Green</th>\n",
       "      <th>Red</th>\n",
       "      <th>0</th>\n",
       "      <th>Indx</th>\n",
       "      <th>A</th>\n",
       "      <th>B</th>\n",
       "      <th>C</th>\n",
       "    </tr>\n",
       "  </thead>\n",
       "  <tbody>\n",
       "    <tr>\n",
       "      <th>0</th>\n",
       "      <td>0.0</td>\n",
       "      <td>1.0</td>\n",
       "      <td>0.0</td>\n",
       "      <td>0.0</td>\n",
       "      <td>60.0</td>\n",
       "      <td>1.0</td>\n",
       "      <td>0.0</td>\n",
       "      <td>0.0</td>\n",
       "    </tr>\n",
       "    <tr>\n",
       "      <th>1</th>\n",
       "      <td>0.0</td>\n",
       "      <td>0.0</td>\n",
       "      <td>1.0</td>\n",
       "      <td>0.0</td>\n",
       "      <td>8.6</td>\n",
       "      <td>0.0</td>\n",
       "      <td>1.0</td>\n",
       "      <td>0.0</td>\n",
       "    </tr>\n",
       "    <tr>\n",
       "      <th>2</th>\n",
       "      <td>0.0</td>\n",
       "      <td>0.0</td>\n",
       "      <td>0.0</td>\n",
       "      <td>1.0</td>\n",
       "      <td>45.0</td>\n",
       "      <td>0.0</td>\n",
       "      <td>0.0</td>\n",
       "      <td>1.0</td>\n",
       "    </tr>\n",
       "    <tr>\n",
       "      <th>3</th>\n",
       "      <td>1.0</td>\n",
       "      <td>0.0</td>\n",
       "      <td>0.0</td>\n",
       "      <td>0.0</td>\n",
       "      <td>45.0</td>\n",
       "      <td>0.0</td>\n",
       "      <td>0.0</td>\n",
       "      <td>1.0</td>\n",
       "    </tr>\n",
       "    <tr>\n",
       "      <th>4</th>\n",
       "      <td>1.0</td>\n",
       "      <td>0.0</td>\n",
       "      <td>0.0</td>\n",
       "      <td>0.0</td>\n",
       "      <td>60.0</td>\n",
       "      <td>1.0</td>\n",
       "      <td>0.0</td>\n",
       "      <td>0.0</td>\n",
       "    </tr>\n",
       "  </tbody>\n",
       "</table>\n",
       "</div>"
      ],
      "text/plain": [
       "   Blue  Green  Red    0  Indx    A    B    C\n",
       "0   0.0    1.0  0.0  0.0  60.0  1.0  0.0  0.0\n",
       "1   0.0    0.0  1.0  0.0   8.6  0.0  1.0  0.0\n",
       "2   0.0    0.0  0.0  1.0  45.0  0.0  0.0  1.0\n",
       "3   1.0    0.0  0.0  0.0  45.0  0.0  0.0  1.0\n",
       "4   1.0    0.0  0.0  0.0  60.0  1.0  0.0  0.0"
      ]
     },
     "execution_count": 136,
     "metadata": {},
     "output_type": "execute_result"
    }
   ],
   "source": [
    "df3 = df2[['Blue', 'Green', 'Red', '0', 'Indx', 'A', 'B', 'C']]\n",
    "df3.head()"
   ]
  },
  {
   "cell_type": "markdown",
   "metadata": {},
   "source": [
    "Let us scale such an one-hot encoded dataset. "
   ]
  },
  {
   "cell_type": "code",
   "execution_count": 137,
   "metadata": {
    "ExecuteTime": {
     "end_time": "2025-01-21T20:59:49.937825600Z",
     "start_time": "2025-01-15T14:03:20.383184Z"
    }
   },
   "outputs": [
    {
     "name": "stdout",
     "output_type": "stream",
     "text": [
      "Original 'one-hot' training dataset X:\n",
      "[[0, 1, 0], [1, 0, 0], [0, 1, 0], [0, 0, 1]]\n",
      "Scaled 'one-hot' training dataset X:\n",
      "[[0. 1. 0.]\n",
      " [1. 0. 0.]\n",
      " [0. 1. 0.]\n",
      " [0. 0. 1.]]\n",
      "Maximum values for each feature:\n",
      "[1. 1. 1.]\n",
      "Minimum values for each feature:\n",
      "[0. 0. 0.]\n"
     ]
    }
   ],
   "source": [
    "#    red  green  blue\n",
    "X = [[0,    1,    0  ],            # a 'one-hot' training dataset\n",
    "     [1,    0,    0  ], \n",
    "     [0,    1,    0  ], \n",
    "     [0,    0,    1  ]]\n",
    "scaler.fit(X)\n",
    "print(f\"Original 'one-hot' training dataset X:\\n{X}\")\n",
    "X_scaled = scaler.transform(X)  # perform the scaling transformation\n",
    "print(f\"Scaled 'one-hot' training dataset X:\\n{X_scaled}\")\n",
    "print(f\"Maximum values for each feature:\\n{scaler.data_max_}\")\n",
    "print(f\"Minimum values for each feature:\\n{scaler.data_min_}\")"
   ]
  },
  {
   "cell_type": "markdown",
   "metadata": {},
   "source": [
    "It is seen that the min-max scaling used has not changed anything to the one-hot dataset, as expected. They do not have value significance.  "
   ]
  },
  {
   "cell_type": "markdown",
   "metadata": {},
   "source": [
    "#### Standard scaling\n",
    "\n",
    "When the data samples has a distribution that is close to the normal distribution, one can use the standard scaling. The formulation for the standard scaling is given as follows. \n",
    "\n",
    "\\begin{equation} \\label{StandardS}\n",
    "\\mathbf{X}_{scaled}=\\frac{\\mathbf{X}-\\mathbf{X}.mean(axis=0)}{\\mathbf{X}.std(axis=0)+𝜖}\n",
    "\\end{equation}\n",
    "\n",
    "where 𝜖 is small positive number just for preventing zero-division. The following is a simple code to perform min-max scaling using Eq.(\\ref{StandardS}). "
   ]
  },
  {
   "cell_type": "code",
   "execution_count": 138,
   "metadata": {
    "ExecuteTime": {
     "end_time": "2025-01-21T20:59:49.937825600Z",
     "start_time": "2025-01-15T14:03:23.815155Z"
    }
   },
   "outputs": [
    {
     "name": "stdout",
     "output_type": "stream",
     "text": [
      "Original training dataset X:\n",
      "[[-1, 2, 8], [2.5, 6, 1.5], [3, 11, -6], [21, 7, 2]]\n",
      "Standard scaled training dataset X:\n",
      "[[-0.8592 -1.4056  1.3338]\n",
      " [-0.4515 -0.1562  0.0252]\n",
      " [-0.3932  1.4056 -1.4848]\n",
      " [ 1.7039  0.1562  0.1258]]\n",
      "Mean value for each feature:\n",
      "[6.375 6.5   1.375]\n",
      "Standard diviation for each feature:\n",
      "[8.5832 3.2016 4.9671]\n"
     ]
    }
   ],
   "source": [
    "X = [[-1,  2,   8],           # an assumed toy training dataset\n",
    "     [2.5, 6, 1.5], \n",
    "     [3,   11, -6], \n",
    "     [21,  7,   2]]\n",
    "print(f\"Original training dataset X:\\n{X}\")\n",
    "X = np.array(X)\n",
    "X_scaled = (X - X.mean(axis=0)) / X.std(axis=0)\n",
    "print(f\"Standard scaled training dataset X:\\n{X_scaled}\")\n",
    "print(f\"Mean value for each feature:\\n{X.mean(axis=0)}\")\n",
    "print(f\"Standard diviation for each feature:\\n{X.std(axis=0)}\")"
   ]
  },
  {
   "cell_type": "markdown",
   "metadata": {},
   "source": [
    "Note that the values are not confined in $[-1, 1]$. It follows a normal distribution. We can now perform the same transformation to the corresponding testing dataset using the fitted instance of the training dataset.  "
   ]
  },
  {
   "cell_type": "code",
   "execution_count": 139,
   "metadata": {
    "ExecuteTime": {
     "end_time": "2025-01-21T20:59:49.937825600Z",
     "start_time": "2025-01-15T14:03:26.547713Z"
    }
   },
   "outputs": [
    {
     "name": "stdout",
     "output_type": "stream",
     "text": [
      "Standard scaled corresponding testing dataset Xtest:\n",
      "[[-0.9757 -1.0932  1.1325]\n",
      " [-0.1602 -0.7809  0.8305]]\n"
     ]
    }
   ],
   "source": [
    "Xtest = [[-2,  3,   7],              # an assumed testing dataset\n",
    "         [5,   4, 5.5]] \n",
    "Xt_scaled = (Xtest - X.mean(axis=0)) / X.std(axis=0)\n",
    "print(f\"Standard scaled corresponding testing dataset Xtest:\\n{Xt_scaled}\")"
   ]
  },
  {
   "cell_type": "markdown",
   "metadata": {},
   "source": [
    "The inverse transformation can be done with ease. "
   ]
  },
  {
   "cell_type": "code",
   "execution_count": 140,
   "metadata": {
    "ExecuteTime": {
     "end_time": "2025-01-21T20:59:49.938825700Z",
     "start_time": "2025-01-15T14:03:28.528753Z"
    }
   },
   "outputs": [
    {
     "name": "stdout",
     "output_type": "stream",
     "text": [
      "Back transformed training dataset:\n",
      "[[-1.   2.   8. ]\n",
      " [ 2.5  6.   1.5]\n",
      " [ 3.  11.  -6. ]\n",
      " [21.   7.   2. ]]\n",
      "Back transformed corresponding testing dataset Xtest:\n",
      "[[-2.   3.   7. ]\n",
      " [ 5.   4.   5.5]]\n"
     ]
    }
   ],
   "source": [
    "X_back = X_scaled*X.std(axis=0) + X.mean(axis=0)\n",
    "print(f\"Back transformed training dataset:\\n{X_back}\")\n",
    "\n",
    "Xt_back = Xt_scaled*X.std(axis=0) + X.mean(axis=0)\n",
    "print(f\"Back transformed corresponding testing dataset Xtest:\\n{Xt_back}\")"
   ]
  },
  {
   "cell_type": "markdown",
   "metadata": {},
   "source": [
    "It is clearly seen that the standard scaling does no harm to the dataset. One can get it back as needed. "
   ]
  },
  {
   "cell_type": "markdown",
   "metadata": {},
   "source": [
    "The same standard scaling can be done using Sklearn. "
   ]
  },
  {
   "cell_type": "code",
   "execution_count": 141,
   "metadata": {
    "ExecuteTime": {
     "end_time": "2025-01-21T20:59:49.938825700Z",
     "start_time": "2025-01-15T14:03:30.828708Z"
    }
   },
   "outputs": [
    {
     "name": "stdout",
     "output_type": "stream",
     "text": [
      "Scaled dataset X:\n",
      "[[-0.8592 -1.4056  1.3338]\n",
      " [-0.4515 -0.1562  0.0252]\n",
      " [-0.3932  1.4056 -1.4848]\n",
      " [ 1.7039  0.1562  0.1258]]\n",
      "Mean values for each feature:\n",
      "[6.375 6.5   1.375]\n",
      "Standard deviations for each feature:\n",
      "[8.5832 3.2016 4.9671]\n"
     ]
    }
   ],
   "source": [
    "from sklearn.preprocessing import StandardScaler\n",
    "scaler = StandardScaler()   # create an instance\n",
    "scaler.fit(X)\n",
    "X_scaled = scaler.transform(X)\n",
    "print(f\"Scaled dataset X:\\n{X_scaled}\")\n",
    "print(f\"Mean values for each feature:\\n{scaler.mean_}\")\n",
    "print(f\"Standard deviations for each feature:\\n{np.sqrt(scaler.var_)}\")"
   ]
  },
  {
   "cell_type": "code",
   "execution_count": 142,
   "metadata": {
    "ExecuteTime": {
     "end_time": "2025-01-21T20:59:49.938825700Z",
     "start_time": "2025-01-15T14:03:33.144475Z"
    }
   },
   "outputs": [
    {
     "name": "stdout",
     "output_type": "stream",
     "text": [
      "Scaled corresponding testing dataset Xtest:\n",
      "[[-0.9757 -1.0932  1.1325]\n",
      " [-0.1602 -0.7809  0.8305]]\n"
     ]
    }
   ],
   "source": [
    "Xtest = [[-2,  3,   7],                 # assumed testing dataset\n",
    "         [5,   4, 5.5]] \n",
    "Xt_scaled = scaler.transform(Xtest)\n",
    "print(f\"Scaled corresponding testing dataset Xtest:\\n{Xt_scaled}\")"
   ]
  },
  {
   "cell_type": "code",
   "execution_count": 143,
   "metadata": {
    "ExecuteTime": {
     "end_time": "2025-01-21T20:59:49.939826400Z",
     "start_time": "2025-01-15T14:03:35.307709Z"
    }
   },
   "outputs": [
    {
     "name": "stdout",
     "output_type": "stream",
     "text": [
      "Back transformed training dataset:\n",
      "[[-1.   2.   8. ]\n",
      " [ 2.5  6.   1.5]\n",
      " [ 3.  11.  -6. ]\n",
      " [21.   7.   2. ]]\n",
      "\n",
      "Back transformed testing dataset Xtest:\n",
      "[[-2.   3.   7. ]\n",
      " [ 5.   4.   5.5]]\n"
     ]
    }
   ],
   "source": [
    "X_back = scaler.inverse_transform(X_scaled)\n",
    "print(f\"Back transformed training dataset:\\n{X_back}\")\n",
    "\n",
    "Xt_back = scaler.inverse_transform(Xt_scaled)\n",
    "print(f\"\\nBack transformed testing dataset Xtest:\\n{Xt_back}\")"
   ]
  },
  {
   "cell_type": "markdown",
   "metadata": {},
   "source": [
    "Note that the same scaling can be done for the labels in the training dataset, if they are not probability distribution types of data. When perform the testing on the trained model or prediction using the trained model, the labels should be scaled back to the original really data unit. \n",
    "\n",
    "Also, it is a good practice to take look at the distribution of the data-points. This is usually done after scaling so that the region of the data-points is normalized. One may simply plot the so-called kernel density estimation (KDE) using, for example, seaborn.kdeplot(). "
   ]
  },
  {
   "cell_type": "markdown",
   "metadata": {},
   "source": [
    "# References\n",
    "\n",
    "[<a id=\"cit-liu2013finite\" href=\"#call-liu2013finite\">1</a>] GR Liu and Siu Sin Quek, ``_The finite element method: a practical course_'',  Butterworth-Heinemann, New York, 2013.\n",
    "\n",
    "[<a id=\"cit-liu2002mesh\" href=\"#call-liu2002mesh\">2</a>] G.R. Liu, ``_Mesh free methods: moving beyond the finite element method_'',  Taylor and Francis Group, New York, 2010.\n",
    "\n",
    "[<a id=\"cit-PearsonPCA\" href=\"#call-PearsonPCA\">3</a>] Pearson K., ``_On Lines and Planes of Closest Fit to Systems of Points in Space_'', Philosophical Magazine, vol. 2, number 1, pp. 559-572,  1901.\n",
    "\n",
    "[<a id=\"cit-liu2021tubenet\" href=\"#call-liu2021tubenet\">4</a>] Liu G.R., Duan SY, Zhang ZM <em>et al.</em>, ``_Tubenet: a special trumpetnet for explicit solutions to inverse problems_'', International Journal of Computational Methods, vol. 18, number 01, pp. 2050030,  2021.  [online](https://doi.org/10.1142/S0219876220500309)\n",
    "\n",
    "[<a id=\"cit-duanAutoencoder2021\" href=\"#call-duanAutoencoder2021\">5</a>] Duan Shuyong, Hou Zhiping, Liu G.R. <em>et al.</em>, ``_A novel inverse procedure via creating tubenet with constraint autoencoder for feature-speace dimension-reduction_'', International Journal of Applied Mechanics, vol. 13, number 08, pp. 2150091,  2021.\n",
    "\n"
   ]
  }
 ],
 "metadata": {
  "kernelspec": {
   "display_name": "Python 3 (ipykernel)",
   "language": "python",
   "name": "python3"
  },
  "language_info": {
   "codemirror_mode": {
    "name": "ipython",
    "version": 3
   },
   "file_extension": ".py",
   "mimetype": "text/x-python",
   "name": "python",
   "nbconvert_exporter": "python",
   "pygments_lexer": "ipython3",
   "version": "3.9.16"
  },
  "latex_envs": {
   "LaTeX_envs_menu_present": true,
   "autoclose": false,
   "autocomplete": true,
   "bibliofile": "biblio.bib",
   "cite_by": "number",
   "current_citInitial": 1,
   "eqLabelWithNumbers": true,
   "eqNumInitial": 1,
   "hotkeys": {
    "equation": "Ctrl-E",
    "itemize": "Ctrl-I"
   },
   "labels_anchors": false,
   "latex_user_defs": false,
   "report_style_numbering": false,
   "user_envs_cfg": false
  },
  "toc": {
   "base_numbering": "3",
   "nav_menu": {},
   "number_sections": true,
   "sideBar": true,
   "skip_h1_title": true,
   "title_cell": "Table of Contents",
   "title_sidebar": "Contents",
   "toc_cell": true,
   "toc_position": {
    "height": "calc(100% - 180px)",
    "left": "10px",
    "top": "150px",
    "width": "297.1px"
   },
   "toc_section_display": true,
   "toc_window_display": false
  },
  "varInspector": {
   "cols": {
    "lenName": 16,
    "lenType": 16,
    "lenVar": 40
   },
   "kernels_config": {
    "python": {
     "delete_cmd_postfix": "",
     "delete_cmd_prefix": "del ",
     "library": "var_list.py",
     "varRefreshCmd": "print(var_dic_list())"
    },
    "r": {
     "delete_cmd_postfix": ") ",
     "delete_cmd_prefix": "rm(",
     "library": "var_list.r",
     "varRefreshCmd": "cat(var_dic_list()) "
    }
   },
   "types_to_exclude": [
    "module",
    "function",
    "builtin_function_or_method",
    "instance",
    "_Feature"
   ],
   "window_display": false
  }
 },
 "nbformat": 4,
 "nbformat_minor": 1
}
